{
 "cells": [
  {
   "cell_type": "markdown",
   "id": "20271110",
   "metadata": {},
   "source": [
    "#Movie Recommender System"
   ]
  },
  {
   "cell_type": "markdown",
   "id": "cf9272fa",
   "metadata": {},
   "source": [
    "#Import CSV and Required Libraries"
   ]
  },
  {
   "cell_type": "code",
   "execution_count": 1,
   "id": "a693e140",
   "metadata": {},
   "outputs": [],
   "source": [
    "import pandas as pd \n",
    "import numpy as np\n",
    "import warnings\n",
    "\n",
    "warnings.filterwarnings( 'ignore' )\n"
   ]
  },
  {
   "cell_type": "code",
   "execution_count": 2,
   "id": "53dd2ffe",
   "metadata": {},
   "outputs": [],
   "source": [
    "pd.set_option(\"display.max_columns\", 100)\n",
    "pd.set_option(\"display.max_rows\", 100)"
   ]
  },
  {
   "cell_type": "code",
   "execution_count": 3,
   "id": "bd619e10",
   "metadata": {},
   "outputs": [],
   "source": [
    "#csv data import\n",
    "movies = pd.read_csv(\"tmdb_5000_movies.csv\")\n",
    "credits = pd.read_csv('tmdb_5000_credits.csv')"
   ]
  },
  {
   "cell_type": "code",
   "execution_count": 4,
   "id": "020ba399",
   "metadata": {},
   "outputs": [
    {
     "data": {
      "application/vnd.microsoft.datawrangler.viewer.v0+json": {
       "columns": [
        {
         "name": "index",
         "rawType": "int64",
         "type": "integer"
        },
        {
         "name": "budget",
         "rawType": "int64",
         "type": "integer"
        },
        {
         "name": "genres",
         "rawType": "object",
         "type": "string"
        },
        {
         "name": "homepage",
         "rawType": "object",
         "type": "string"
        },
        {
         "name": "id",
         "rawType": "int64",
         "type": "integer"
        },
        {
         "name": "keywords",
         "rawType": "object",
         "type": "string"
        },
        {
         "name": "original_language",
         "rawType": "object",
         "type": "string"
        },
        {
         "name": "original_title",
         "rawType": "object",
         "type": "string"
        },
        {
         "name": "overview",
         "rawType": "object",
         "type": "string"
        },
        {
         "name": "popularity",
         "rawType": "float64",
         "type": "float"
        },
        {
         "name": "production_companies",
         "rawType": "object",
         "type": "string"
        },
        {
         "name": "production_countries",
         "rawType": "object",
         "type": "string"
        },
        {
         "name": "release_date",
         "rawType": "object",
         "type": "string"
        },
        {
         "name": "revenue",
         "rawType": "int64",
         "type": "integer"
        },
        {
         "name": "runtime",
         "rawType": "float64",
         "type": "float"
        },
        {
         "name": "spoken_languages",
         "rawType": "object",
         "type": "string"
        },
        {
         "name": "status",
         "rawType": "object",
         "type": "string"
        },
        {
         "name": "tagline",
         "rawType": "object",
         "type": "string"
        },
        {
         "name": "title",
         "rawType": "object",
         "type": "string"
        },
        {
         "name": "vote_average",
         "rawType": "float64",
         "type": "float"
        },
        {
         "name": "vote_count",
         "rawType": "int64",
         "type": "integer"
        }
       ],
       "ref": "7a05e534-7ada-49be-9262-d5979f08a66f",
       "rows": [
        [
         "0",
         "237000000",
         "[{\"id\": 28, \"name\": \"Action\"}, {\"id\": 12, \"name\": \"Adventure\"}, {\"id\": 14, \"name\": \"Fantasy\"}, {\"id\": 878, \"name\": \"Science Fiction\"}]",
         "http://www.avatarmovie.com/",
         "19995",
         "[{\"id\": 1463, \"name\": \"culture clash\"}, {\"id\": 2964, \"name\": \"future\"}, {\"id\": 3386, \"name\": \"space war\"}, {\"id\": 3388, \"name\": \"space colony\"}, {\"id\": 3679, \"name\": \"society\"}, {\"id\": 3801, \"name\": \"space travel\"}, {\"id\": 9685, \"name\": \"futuristic\"}, {\"id\": 9840, \"name\": \"romance\"}, {\"id\": 9882, \"name\": \"space\"}, {\"id\": 9951, \"name\": \"alien\"}, {\"id\": 10148, \"name\": \"tribe\"}, {\"id\": 10158, \"name\": \"alien planet\"}, {\"id\": 10987, \"name\": \"cgi\"}, {\"id\": 11399, \"name\": \"marine\"}, {\"id\": 13065, \"name\": \"soldier\"}, {\"id\": 14643, \"name\": \"battle\"}, {\"id\": 14720, \"name\": \"love affair\"}, {\"id\": 165431, \"name\": \"anti war\"}, {\"id\": 193554, \"name\": \"power relations\"}, {\"id\": 206690, \"name\": \"mind and soul\"}, {\"id\": 209714, \"name\": \"3d\"}]",
         "en",
         "Avatar",
         "In the 22nd century, a paraplegic Marine is dispatched to the moon Pandora on a unique mission, but becomes torn between following orders and protecting an alien civilization.",
         "150.437577",
         "[{\"name\": \"Ingenious Film Partners\", \"id\": 289}, {\"name\": \"Twentieth Century Fox Film Corporation\", \"id\": 306}, {\"name\": \"Dune Entertainment\", \"id\": 444}, {\"name\": \"Lightstorm Entertainment\", \"id\": 574}]",
         "[{\"iso_3166_1\": \"US\", \"name\": \"United States of America\"}, {\"iso_3166_1\": \"GB\", \"name\": \"United Kingdom\"}]",
         "2009-12-10",
         "2787965087",
         "162.0",
         "[{\"iso_639_1\": \"en\", \"name\": \"English\"}, {\"iso_639_1\": \"es\", \"name\": \"Espa\\u00f1ol\"}]",
         "Released",
         "Enter the World of Pandora.",
         "Avatar",
         "7.2",
         "11800"
        ]
       ],
       "shape": {
        "columns": 20,
        "rows": 1
       }
      },
      "text/html": [
       "<div>\n",
       "<style scoped>\n",
       "    .dataframe tbody tr th:only-of-type {\n",
       "        vertical-align: middle;\n",
       "    }\n",
       "\n",
       "    .dataframe tbody tr th {\n",
       "        vertical-align: top;\n",
       "    }\n",
       "\n",
       "    .dataframe thead th {\n",
       "        text-align: right;\n",
       "    }\n",
       "</style>\n",
       "<table border=\"1\" class=\"dataframe\">\n",
       "  <thead>\n",
       "    <tr style=\"text-align: right;\">\n",
       "      <th></th>\n",
       "      <th>budget</th>\n",
       "      <th>genres</th>\n",
       "      <th>homepage</th>\n",
       "      <th>id</th>\n",
       "      <th>keywords</th>\n",
       "      <th>original_language</th>\n",
       "      <th>original_title</th>\n",
       "      <th>overview</th>\n",
       "      <th>popularity</th>\n",
       "      <th>production_companies</th>\n",
       "      <th>production_countries</th>\n",
       "      <th>release_date</th>\n",
       "      <th>revenue</th>\n",
       "      <th>runtime</th>\n",
       "      <th>spoken_languages</th>\n",
       "      <th>status</th>\n",
       "      <th>tagline</th>\n",
       "      <th>title</th>\n",
       "      <th>vote_average</th>\n",
       "      <th>vote_count</th>\n",
       "    </tr>\n",
       "  </thead>\n",
       "  <tbody>\n",
       "    <tr>\n",
       "      <th>0</th>\n",
       "      <td>237000000</td>\n",
       "      <td>[{\"id\": 28, \"name\": \"Action\"}, {\"id\": 12, \"nam...</td>\n",
       "      <td>http://www.avatarmovie.com/</td>\n",
       "      <td>19995</td>\n",
       "      <td>[{\"id\": 1463, \"name\": \"culture clash\"}, {\"id\":...</td>\n",
       "      <td>en</td>\n",
       "      <td>Avatar</td>\n",
       "      <td>In the 22nd century, a paraplegic Marine is di...</td>\n",
       "      <td>150.437577</td>\n",
       "      <td>[{\"name\": \"Ingenious Film Partners\", \"id\": 289...</td>\n",
       "      <td>[{\"iso_3166_1\": \"US\", \"name\": \"United States o...</td>\n",
       "      <td>2009-12-10</td>\n",
       "      <td>2787965087</td>\n",
       "      <td>162.0</td>\n",
       "      <td>[{\"iso_639_1\": \"en\", \"name\": \"English\"}, {\"iso...</td>\n",
       "      <td>Released</td>\n",
       "      <td>Enter the World of Pandora.</td>\n",
       "      <td>Avatar</td>\n",
       "      <td>7.2</td>\n",
       "      <td>11800</td>\n",
       "    </tr>\n",
       "  </tbody>\n",
       "</table>\n",
       "</div>"
      ],
      "text/plain": [
       "      budget                                             genres  \\\n",
       "0  237000000  [{\"id\": 28, \"name\": \"Action\"}, {\"id\": 12, \"nam...   \n",
       "\n",
       "                      homepage     id  \\\n",
       "0  http://www.avatarmovie.com/  19995   \n",
       "\n",
       "                                            keywords original_language  \\\n",
       "0  [{\"id\": 1463, \"name\": \"culture clash\"}, {\"id\":...                en   \n",
       "\n",
       "  original_title                                           overview  \\\n",
       "0         Avatar  In the 22nd century, a paraplegic Marine is di...   \n",
       "\n",
       "   popularity                               production_companies  \\\n",
       "0  150.437577  [{\"name\": \"Ingenious Film Partners\", \"id\": 289...   \n",
       "\n",
       "                                production_countries release_date     revenue  \\\n",
       "0  [{\"iso_3166_1\": \"US\", \"name\": \"United States o...   2009-12-10  2787965087   \n",
       "\n",
       "   runtime                                   spoken_languages    status  \\\n",
       "0    162.0  [{\"iso_639_1\": \"en\", \"name\": \"English\"}, {\"iso...  Released   \n",
       "\n",
       "                       tagline   title  vote_average  vote_count  \n",
       "0  Enter the World of Pandora.  Avatar           7.2       11800  "
      ]
     },
     "execution_count": 4,
     "metadata": {},
     "output_type": "execute_result"
    }
   ],
   "source": [
    "movies.head(1)"
   ]
  },
  {
   "cell_type": "code",
   "execution_count": 5,
   "id": "283149d1",
   "metadata": {},
   "outputs": [
    {
     "data": {
      "application/vnd.microsoft.datawrangler.viewer.v0+json": {
       "columns": [
        {
         "name": "index",
         "rawType": "int64",
         "type": "integer"
        },
        {
         "name": "movie_id",
         "rawType": "int64",
         "type": "integer"
        },
        {
         "name": "title",
         "rawType": "object",
         "type": "string"
        },
        {
         "name": "cast",
         "rawType": "object",
         "type": "string"
        },
        {
         "name": "crew",
         "rawType": "object",
         "type": "string"
        }
       ],
       "ref": "ac43cb68-194f-4f33-8d2d-8eccd07cc2d8",
       "rows": [
        [
         "0",
         "19995",
         "Avatar",
         "[{\"cast_id\": 242, \"character\": \"Jake Sully\", \"credit_id\": \"5602a8a7c3a3685532001c9a\", \"gender\": 2, \"id\": 65731, \"name\": \"Sam Worthington\", \"order\": 0}, {\"cast_id\": 3, \"character\": \"Neytiri\", \"credit_id\": \"52fe48009251416c750ac9cb\", \"gender\": 1, \"id\": 8691, \"name\": \"Zoe Saldana\", \"order\": 1}, {\"cast_id\": 25, \"character\": \"Dr. Grace Augustine\", \"credit_id\": \"52fe48009251416c750aca39\", \"gender\": 1, \"id\": 10205, \"name\": \"Sigourney Weaver\", \"order\": 2}, {\"cast_id\": 4, \"character\": \"Col. Quaritch\", \"credit_id\": \"52fe48009251416c750ac9cf\", \"gender\": 2, \"id\": 32747, \"name\": \"Stephen Lang\", \"order\": 3}, {\"cast_id\": 5, \"character\": \"Trudy Chacon\", \"credit_id\": \"52fe48009251416c750ac9d3\", \"gender\": 1, \"id\": 17647, \"name\": \"Michelle Rodriguez\", \"order\": 4}, {\"cast_id\": 8, \"character\": \"Selfridge\", \"credit_id\": \"52fe48009251416c750ac9e1\", \"gender\": 2, \"id\": 1771, \"name\": \"Giovanni Ribisi\", \"order\": 5}, {\"cast_id\": 7, \"character\": \"Norm Spellman\", \"credit_id\": \"52fe48009251416c750ac9dd\", \"gender\": 2, \"id\": 59231, \"name\": \"Joel David Moore\", \"order\": 6}, {\"cast_id\": 9, \"character\": \"Moat\", \"credit_id\": \"52fe48009251416c750ac9e5\", \"gender\": 1, \"id\": 30485, \"name\": \"CCH Pounder\", \"order\": 7}, {\"cast_id\": 11, \"character\": \"Eytukan\", \"credit_id\": \"52fe48009251416c750ac9ed\", \"gender\": 2, \"id\": 15853, \"name\": \"Wes Studi\", \"order\": 8}, {\"cast_id\": 10, \"character\": \"Tsu'Tey\", \"credit_id\": \"52fe48009251416c750ac9e9\", \"gender\": 2, \"id\": 10964, \"name\": \"Laz Alonso\", \"order\": 9}, {\"cast_id\": 12, \"character\": \"Dr. Max Patel\", \"credit_id\": \"52fe48009251416c750ac9f1\", \"gender\": 2, \"id\": 95697, \"name\": \"Dileep Rao\", \"order\": 10}, {\"cast_id\": 13, \"character\": \"Lyle Wainfleet\", \"credit_id\": \"52fe48009251416c750ac9f5\", \"gender\": 2, \"id\": 98215, \"name\": \"Matt Gerald\", \"order\": 11}, {\"cast_id\": 32, \"character\": \"Private Fike\", \"credit_id\": \"52fe48009251416c750aca5b\", \"gender\": 2, \"id\": 154153, \"name\": \"Sean Anthony Moran\", \"order\": 12}, {\"cast_id\": 33, \"character\": \"Cryo Vault Med Tech\", \"credit_id\": \"52fe48009251416c750aca5f\", \"gender\": 2, \"id\": 397312, \"name\": \"Jason Whyte\", \"order\": 13}, {\"cast_id\": 34, \"character\": \"Venture Star Crew Chief\", \"credit_id\": \"52fe48009251416c750aca63\", \"gender\": 2, \"id\": 42317, \"name\": \"Scott Lawrence\", \"order\": 14}, {\"cast_id\": 35, \"character\": \"Lock Up Trooper\", \"credit_id\": \"52fe48009251416c750aca67\", \"gender\": 2, \"id\": 986734, \"name\": \"Kelly Kilgour\", \"order\": 15}, {\"cast_id\": 36, \"character\": \"Shuttle Pilot\", \"credit_id\": \"52fe48009251416c750aca6b\", \"gender\": 0, \"id\": 1207227, \"name\": \"James Patrick Pitt\", \"order\": 16}, {\"cast_id\": 37, \"character\": \"Shuttle Co-Pilot\", \"credit_id\": \"52fe48009251416c750aca6f\", \"gender\": 0, \"id\": 1180936, \"name\": \"Sean Patrick Murphy\", \"order\": 17}, {\"cast_id\": 38, \"character\": \"Shuttle Crew Chief\", \"credit_id\": \"52fe48009251416c750aca73\", \"gender\": 2, \"id\": 1019578, \"name\": \"Peter Dillon\", \"order\": 18}, {\"cast_id\": 39, \"character\": \"Tractor Operator / Troupe\", \"credit_id\": \"52fe48009251416c750aca77\", \"gender\": 0, \"id\": 91443, \"name\": \"Kevin Dorman\", \"order\": 19}, {\"cast_id\": 40, \"character\": \"Dragon Gunship Pilot\", \"credit_id\": \"52fe48009251416c750aca7b\", \"gender\": 2, \"id\": 173391, \"name\": \"Kelson Henderson\", \"order\": 20}, {\"cast_id\": 41, \"character\": \"Dragon Gunship Gunner\", \"credit_id\": \"52fe48009251416c750aca7f\", \"gender\": 0, \"id\": 1207236, \"name\": \"David Van Horn\", \"order\": 21}, {\"cast_id\": 42, \"character\": \"Dragon Gunship Navigator\", \"credit_id\": \"52fe48009251416c750aca83\", \"gender\": 0, \"id\": 215913, \"name\": \"Jacob Tomuri\", \"order\": 22}, {\"cast_id\": 43, \"character\": \"Suit #1\", \"credit_id\": \"52fe48009251416c750aca87\", \"gender\": 0, \"id\": 143206, \"name\": \"Michael Blain-Rozgay\", \"order\": 23}, {\"cast_id\": 44, \"character\": \"Suit #2\", \"credit_id\": \"52fe48009251416c750aca8b\", \"gender\": 2, \"id\": 169676, \"name\": \"Jon Curry\", \"order\": 24}, {\"cast_id\": 46, \"character\": \"Ambient Room Tech\", \"credit_id\": \"52fe48009251416c750aca8f\", \"gender\": 0, \"id\": 1048610, \"name\": \"Luke Hawker\", \"order\": 25}, {\"cast_id\": 47, \"character\": \"Ambient Room Tech / Troupe\", \"credit_id\": \"52fe48009251416c750aca93\", \"gender\": 0, \"id\": 42288, \"name\": \"Woody Schultz\", \"order\": 26}, {\"cast_id\": 48, \"character\": \"Horse Clan Leader\", \"credit_id\": \"52fe48009251416c750aca97\", \"gender\": 2, \"id\": 68278, \"name\": \"Peter Mensah\", \"order\": 27}, {\"cast_id\": 49, \"character\": \"Link Room Tech\", \"credit_id\": \"52fe48009251416c750aca9b\", \"gender\": 0, \"id\": 1207247, \"name\": \"Sonia Yee\", \"order\": 28}, {\"cast_id\": 50, \"character\": \"Basketball Avatar / Troupe\", \"credit_id\": \"52fe48009251416c750aca9f\", \"gender\": 1, \"id\": 1207248, \"name\": \"Jahnel Curfman\", \"order\": 29}, {\"cast_id\": 51, \"character\": \"Basketball Avatar\", \"credit_id\": \"52fe48009251416c750acaa3\", \"gender\": 0, \"id\": 89714, \"name\": \"Ilram Choi\", \"order\": 30}, {\"cast_id\": 52, \"character\": \"Na'vi Child\", \"credit_id\": \"52fe48009251416c750acaa7\", \"gender\": 0, \"id\": 1207249, \"name\": \"Kyla Warren\", \"order\": 31}, {\"cast_id\": 53, \"character\": \"Troupe\", \"credit_id\": \"52fe48009251416c750acaab\", \"gender\": 0, \"id\": 1207250, \"name\": \"Lisa Roumain\", \"order\": 32}, {\"cast_id\": 54, \"character\": \"Troupe\", \"credit_id\": \"52fe48009251416c750acaaf\", \"gender\": 1, \"id\": 83105, \"name\": \"Debra Wilson\", \"order\": 33}, {\"cast_id\": 57, \"character\": \"Troupe\", \"credit_id\": \"52fe48009251416c750acabb\", \"gender\": 0, \"id\": 1207253, \"name\": \"Chris Mala\", \"order\": 34}, {\"cast_id\": 55, \"character\": \"Troupe\", \"credit_id\": \"52fe48009251416c750acab3\", \"gender\": 0, \"id\": 1207251, \"name\": \"Taylor Kibby\", \"order\": 35}, {\"cast_id\": 56, \"character\": \"Troupe\", \"credit_id\": \"52fe48009251416c750acab7\", \"gender\": 0, \"id\": 1207252, \"name\": \"Jodie Landau\", \"order\": 36}, {\"cast_id\": 58, \"character\": \"Troupe\", \"credit_id\": \"52fe48009251416c750acabf\", \"gender\": 0, \"id\": 1207254, \"name\": \"Julie Lamm\", \"order\": 37}, {\"cast_id\": 59, \"character\": \"Troupe\", \"credit_id\": \"52fe48009251416c750acac3\", \"gender\": 0, \"id\": 1207257, \"name\": \"Cullen B. Madden\", \"order\": 38}, {\"cast_id\": 60, \"character\": \"Troupe\", \"credit_id\": \"52fe48009251416c750acac7\", \"gender\": 0, \"id\": 1207259, \"name\": \"Joseph Brady Madden\", \"order\": 39}, {\"cast_id\": 61, \"character\": \"Troupe\", \"credit_id\": \"52fe48009251416c750acacb\", \"gender\": 0, \"id\": 1207262, \"name\": \"Frankie Torres\", \"order\": 40}, {\"cast_id\": 62, \"character\": \"Troupe\", \"credit_id\": \"52fe48009251416c750acacf\", \"gender\": 1, \"id\": 1158600, \"name\": \"Austin Wilson\", \"order\": 41}, {\"cast_id\": 63, \"character\": \"Troupe\", \"credit_id\": \"52fe48019251416c750acad3\", \"gender\": 1, \"id\": 983705, \"name\": \"Sara Wilson\", \"order\": 42}, {\"cast_id\": 64, \"character\": \"Troupe\", \"credit_id\": \"52fe48019251416c750acad7\", \"gender\": 0, \"id\": 1207263, \"name\": \"Tamica Washington-Miller\", \"order\": 43}, {\"cast_id\": 65, \"character\": \"Op Center Staff\", \"credit_id\": \"52fe48019251416c750acadb\", \"gender\": 1, \"id\": 1145098, \"name\": \"Lucy Briant\", \"order\": 44}, {\"cast_id\": 66, \"character\": \"Op Center Staff\", \"credit_id\": \"52fe48019251416c750acadf\", \"gender\": 2, \"id\": 33305, \"name\": \"Nathan Meister\", \"order\": 45}, {\"cast_id\": 67, \"character\": \"Op Center Staff\", \"credit_id\": \"52fe48019251416c750acae3\", \"gender\": 0, \"id\": 1207264, \"name\": \"Gerry Blair\", \"order\": 46}, {\"cast_id\": 68, \"character\": \"Op Center Staff\", \"credit_id\": \"52fe48019251416c750acae7\", \"gender\": 2, \"id\": 33311, \"name\": \"Matthew Chamberlain\", \"order\": 47}, {\"cast_id\": 69, \"character\": \"Op Center Staff\", \"credit_id\": \"52fe48019251416c750acaeb\", \"gender\": 0, \"id\": 1207265, \"name\": \"Paul Yates\", \"order\": 48}, {\"cast_id\": 70, \"character\": \"Op Center Duty Officer\", \"credit_id\": \"52fe48019251416c750acaef\", \"gender\": 0, \"id\": 1207266, \"name\": \"Wray Wilson\", \"order\": 49}, {\"cast_id\": 71, \"character\": \"Op Center Staff\", \"credit_id\": \"52fe48019251416c750acaf3\", \"gender\": 2, \"id\": 54492, \"name\": \"James Gaylyn\", \"order\": 50}, {\"cast_id\": 72, \"character\": \"Dancer\", \"credit_id\": \"52fe48019251416c750acaf7\", \"gender\": 0, \"id\": 1207267, \"name\": \"Melvin Leno Clark III\", \"order\": 51}, {\"cast_id\": 73, \"character\": \"Dancer\", \"credit_id\": \"52fe48019251416c750acafb\", \"gender\": 0, \"id\": 1207268, \"name\": \"Carvon Futrell\", \"order\": 52}, {\"cast_id\": 74, \"character\": \"Dancer\", \"credit_id\": \"52fe48019251416c750acaff\", \"gender\": 0, \"id\": 1207269, \"name\": \"Brandon Jelkes\", \"order\": 53}, {\"cast_id\": 75, \"character\": \"Dancer\", \"credit_id\": \"52fe48019251416c750acb03\", \"gender\": 0, \"id\": 1207270, \"name\": \"Micah Moch\", \"order\": 54}, {\"cast_id\": 76, \"character\": \"Dancer\", \"credit_id\": \"52fe48019251416c750acb07\", \"gender\": 0, \"id\": 1207271, \"name\": \"Hanniyah Muhammad\", \"order\": 55}, {\"cast_id\": 77, \"character\": \"Dancer\", \"credit_id\": \"52fe48019251416c750acb0b\", \"gender\": 0, \"id\": 1207272, \"name\": \"Christopher Nolen\", \"order\": 56}, {\"cast_id\": 78, \"character\": \"Dancer\", \"credit_id\": \"52fe48019251416c750acb0f\", \"gender\": 0, \"id\": 1207273, \"name\": \"Christa Oliver\", \"order\": 57}, {\"cast_id\": 79, \"character\": \"Dancer\", \"credit_id\": \"52fe48019251416c750acb13\", \"gender\": 0, \"id\": 1207274, \"name\": \"April Marie Thomas\", \"order\": 58}, {\"cast_id\": 80, \"character\": \"Dancer\", \"credit_id\": \"52fe48019251416c750acb17\", \"gender\": 0, \"id\": 1207275, \"name\": \"Bravita A. Threatt\", \"order\": 59}, {\"cast_id\": 81, \"character\": \"Mining Chief (uncredited)\", \"credit_id\": \"52fe48019251416c750acb1b\", \"gender\": 0, \"id\": 1207276, \"name\": \"Colin Bleasdale\", \"order\": 60}, {\"cast_id\": 82, \"character\": \"Veteran Miner (uncredited)\", \"credit_id\": \"52fe48019251416c750acb1f\", \"gender\": 0, \"id\": 107969, \"name\": \"Mike Bodnar\", \"order\": 61}, {\"cast_id\": 83, \"character\": \"Richard (uncredited)\", \"credit_id\": \"52fe48019251416c750acb23\", \"gender\": 0, \"id\": 1207278, \"name\": \"Matt Clayton\", \"order\": 62}, {\"cast_id\": 84, \"character\": \"Nav'i (uncredited)\", \"credit_id\": \"52fe48019251416c750acb27\", \"gender\": 1, \"id\": 147898, \"name\": \"Nicole Dionne\", \"order\": 63}, {\"cast_id\": 85, \"character\": \"Trooper (uncredited)\", \"credit_id\": \"52fe48019251416c750acb2b\", \"gender\": 0, \"id\": 1207280, \"name\": \"Jamie Harrison\", \"order\": 64}, {\"cast_id\": 86, \"character\": \"Trooper (uncredited)\", \"credit_id\": \"52fe48019251416c750acb2f\", \"gender\": 0, \"id\": 1207281, \"name\": \"Allan Henry\", \"order\": 65}, {\"cast_id\": 87, \"character\": \"Ground Technician (uncredited)\", \"credit_id\": \"52fe48019251416c750acb33\", \"gender\": 2, \"id\": 1207282, \"name\": \"Anthony Ingruber\", \"order\": 66}, {\"cast_id\": 88, \"character\": \"Flight Crew Mechanic (uncredited)\", \"credit_id\": \"52fe48019251416c750acb37\", \"gender\": 0, \"id\": 1207283, \"name\": \"Ashley Jeffery\", \"order\": 67}, {\"cast_id\": 14, \"character\": \"Samson Pilot\", \"credit_id\": \"52fe48009251416c750ac9f9\", \"gender\": 0, \"id\": 98216, \"name\": \"Dean Knowsley\", \"order\": 68}, {\"cast_id\": 89, \"character\": \"Trooper (uncredited)\", \"credit_id\": \"52fe48019251416c750acb3b\", \"gender\": 0, \"id\": 1201399, \"name\": \"Joseph Mika-Hunt\", \"order\": 69}, {\"cast_id\": 90, \"character\": \"Banshee (uncredited)\", \"credit_id\": \"52fe48019251416c750acb3f\", \"gender\": 0, \"id\": 236696, \"name\": \"Terry Notary\", \"order\": 70}, {\"cast_id\": 91, \"character\": \"Soldier (uncredited)\", \"credit_id\": \"52fe48019251416c750acb43\", \"gender\": 0, \"id\": 1207287, \"name\": \"Kai Pantano\", \"order\": 71}, {\"cast_id\": 92, \"character\": \"Blast Technician (uncredited)\", \"credit_id\": \"52fe48019251416c750acb47\", \"gender\": 0, \"id\": 1207288, \"name\": \"Logan Pithyou\", \"order\": 72}, {\"cast_id\": 93, \"character\": \"Vindum Raah (uncredited)\", \"credit_id\": \"52fe48019251416c750acb4b\", \"gender\": 0, \"id\": 1207289, \"name\": \"Stuart Pollock\", \"order\": 73}, {\"cast_id\": 94, \"character\": \"Hero (uncredited)\", \"credit_id\": \"52fe48019251416c750acb4f\", \"gender\": 0, \"id\": 584868, \"name\": \"Raja\", \"order\": 74}, {\"cast_id\": 95, \"character\": \"Ops Centreworker (uncredited)\", \"credit_id\": \"52fe48019251416c750acb53\", \"gender\": 0, \"id\": 1207290, \"name\": \"Gareth Ruck\", \"order\": 75}, {\"cast_id\": 96, \"character\": \"Engineer (uncredited)\", \"credit_id\": \"52fe48019251416c750acb57\", \"gender\": 0, \"id\": 1062463, \"name\": \"Rhian Sheehan\", \"order\": 76}, {\"cast_id\": 97, \"character\": \"Col. Quaritch's Mech Suit (uncredited)\", \"credit_id\": \"52fe48019251416c750acb5b\", \"gender\": 0, \"id\": 60656, \"name\": \"T. J. Storm\", \"order\": 77}, {\"cast_id\": 98, \"character\": \"Female Marine (uncredited)\", \"credit_id\": \"52fe48019251416c750acb5f\", \"gender\": 0, \"id\": 1207291, \"name\": \"Jodie Taylor\", \"order\": 78}, {\"cast_id\": 99, \"character\": \"Ikran Clan Leader (uncredited)\", \"credit_id\": \"52fe48019251416c750acb63\", \"gender\": 1, \"id\": 1186027, \"name\": \"Alicia Vela-Bailey\", \"order\": 79}, {\"cast_id\": 100, \"character\": \"Geologist (uncredited)\", \"credit_id\": \"52fe48019251416c750acb67\", \"gender\": 0, \"id\": 1207292, \"name\": \"Richard Whiteside\", \"order\": 80}, {\"cast_id\": 101, \"character\": \"Na'vi (uncredited)\", \"credit_id\": \"52fe48019251416c750acb6b\", \"gender\": 0, \"id\": 103259, \"name\": \"Nikie Zambo\", \"order\": 81}, {\"cast_id\": 102, \"character\": \"Ambient Room Tech / Troupe\", \"credit_id\": \"52fe48019251416c750acb6f\", \"gender\": 1, \"id\": 42286, \"name\": \"Julene Renee\", \"order\": 82}]",
         "[{\"credit_id\": \"52fe48009251416c750aca23\", \"department\": \"Editing\", \"gender\": 0, \"id\": 1721, \"job\": \"Editor\", \"name\": \"Stephen E. Rivkin\"}, {\"credit_id\": \"539c47ecc3a36810e3001f87\", \"department\": \"Art\", \"gender\": 2, \"id\": 496, \"job\": \"Production Design\", \"name\": \"Rick Carter\"}, {\"credit_id\": \"54491c89c3a3680fb4001cf7\", \"department\": \"Sound\", \"gender\": 0, \"id\": 900, \"job\": \"Sound Designer\", \"name\": \"Christopher Boyes\"}, {\"credit_id\": \"54491cb70e0a267480001bd0\", \"department\": \"Sound\", \"gender\": 0, \"id\": 900, \"job\": \"Supervising Sound Editor\", \"name\": \"Christopher Boyes\"}, {\"credit_id\": \"539c4a4cc3a36810c9002101\", \"department\": \"Production\", \"gender\": 1, \"id\": 1262, \"job\": \"Casting\", \"name\": \"Mali Finn\"}, {\"credit_id\": \"5544ee3b925141499f0008fc\", \"department\": \"Sound\", \"gender\": 2, \"id\": 1729, \"job\": \"Original Music Composer\", \"name\": \"James Horner\"}, {\"credit_id\": \"52fe48009251416c750ac9c3\", \"department\": \"Directing\", \"gender\": 2, \"id\": 2710, \"job\": \"Director\", \"name\": \"James Cameron\"}, {\"credit_id\": \"52fe48009251416c750ac9d9\", \"department\": \"Writing\", \"gender\": 2, \"id\": 2710, \"job\": \"Writer\", \"name\": \"James Cameron\"}, {\"credit_id\": \"52fe48009251416c750aca17\", \"department\": \"Editing\", \"gender\": 2, \"id\": 2710, \"job\": \"Editor\", \"name\": \"James Cameron\"}, {\"credit_id\": \"52fe48009251416c750aca29\", \"department\": \"Production\", \"gender\": 2, \"id\": 2710, \"job\": \"Producer\", \"name\": \"James Cameron\"}, {\"credit_id\": \"52fe48009251416c750aca3f\", \"department\": \"Writing\", \"gender\": 2, \"id\": 2710, \"job\": \"Screenplay\", \"name\": \"James Cameron\"}, {\"credit_id\": \"539c4987c3a36810ba0021a4\", \"department\": \"Art\", \"gender\": 2, \"id\": 7236, \"job\": \"Art Direction\", \"name\": \"Andrew Menzies\"}, {\"credit_id\": \"549598c3c3a3686ae9004383\", \"department\": \"Visual Effects\", \"gender\": 0, \"id\": 6690, \"job\": \"Visual Effects Producer\", \"name\": \"Jill Brooks\"}, {\"credit_id\": \"52fe48009251416c750aca4b\", \"department\": \"Production\", \"gender\": 1, \"id\": 6347, \"job\": \"Casting\", \"name\": \"Margery Simkin\"}, {\"credit_id\": \"570b6f419251417da70032fe\", \"department\": \"Art\", \"gender\": 2, \"id\": 6878, \"job\": \"Supervising Art Director\", \"name\": \"Kevin Ishioka\"}, {\"credit_id\": \"5495a0fac3a3686ae9004468\", \"department\": \"Sound\", \"gender\": 0, \"id\": 6883, \"job\": \"Music Editor\", \"name\": \"Dick Bernstein\"}, {\"credit_id\": \"54959706c3a3686af3003e81\", \"department\": \"Sound\", \"gender\": 0, \"id\": 8159, \"job\": \"Sound Effects Editor\", \"name\": \"Shannon Mills\"}, {\"credit_id\": \"54491d58c3a3680fb1001ccb\", \"department\": \"Sound\", \"gender\": 0, \"id\": 8160, \"job\": \"Foley\", \"name\": \"Dennie Thorpe\"}, {\"credit_id\": \"54491d6cc3a3680fa5001b2c\", \"department\": \"Sound\", \"gender\": 0, \"id\": 8163, \"job\": \"Foley\", \"name\": \"Jana Vance\"}, {\"credit_id\": \"52fe48009251416c750aca57\", \"department\": \"Costume & Make-Up\", \"gender\": 1, \"id\": 8527, \"job\": \"Costume Design\", \"name\": \"Deborah Lynn Scott\"}, {\"credit_id\": \"52fe48009251416c750aca2f\", \"department\": \"Production\", \"gender\": 2, \"id\": 8529, \"job\": \"Producer\", \"name\": \"Jon Landau\"}, {\"credit_id\": \"539c4937c3a36810ba002194\", \"department\": \"Art\", \"gender\": 0, \"id\": 9618, \"job\": \"Art Direction\", \"name\": \"Sean Haworth\"}, {\"credit_id\": \"539c49b6c3a36810c10020e6\", \"department\": \"Art\", \"gender\": 1, \"id\": 12653, \"job\": \"Set Decoration\", \"name\": \"Kim Sinclair\"}, {\"credit_id\": \"570b6f2f9251413a0e00020d\", \"department\": \"Art\", \"gender\": 1, \"id\": 12653, \"job\": \"Supervising Art Director\", \"name\": \"Kim Sinclair\"}, {\"credit_id\": \"54491a6c0e0a26748c001b19\", \"department\": \"Art\", \"gender\": 2, \"id\": 14350, \"job\": \"Set Designer\", \"name\": \"Richard F. Mays\"}, {\"credit_id\": \"56928cf4c3a3684cff0025c4\", \"department\": \"Production\", \"gender\": 1, \"id\": 20294, \"job\": \"Executive Producer\", \"name\": \"Laeta Kalogridis\"}, {\"credit_id\": \"52fe48009251416c750aca51\", \"department\": \"Costume & Make-Up\", \"gender\": 0, \"id\": 17675, \"job\": \"Costume Design\", \"name\": \"Mayes C. Rubeo\"}, {\"credit_id\": \"52fe48009251416c750aca11\", \"department\": \"Camera\", \"gender\": 2, \"id\": 18265, \"job\": \"Director of Photography\", \"name\": \"Mauro Fiore\"}, {\"credit_id\": \"5449194d0e0a26748f001b39\", \"department\": \"Art\", \"gender\": 0, \"id\": 42281, \"job\": \"Set Designer\", \"name\": \"Scott Herbertson\"}, {\"credit_id\": \"52fe48009251416c750aca05\", \"department\": \"Crew\", \"gender\": 0, \"id\": 42288, \"job\": \"Stunts\", \"name\": \"Woody Schultz\"}, {\"credit_id\": \"5592aefb92514152de0010f5\", \"department\": \"Costume & Make-Up\", \"gender\": 0, \"id\": 29067, \"job\": \"Makeup Artist\", \"name\": \"Linda DeVetta\"}, {\"credit_id\": \"5592afa492514152de00112c\", \"department\": \"Costume & Make-Up\", \"gender\": 0, \"id\": 29067, \"job\": \"Hairstylist\", \"name\": \"Linda DeVetta\"}, {\"credit_id\": \"54959ed592514130fc002e5d\", \"department\": \"Camera\", \"gender\": 2, \"id\": 33302, \"job\": \"Camera Operator\", \"name\": \"Richard Bluck\"}, {\"credit_id\": \"539c4891c3a36810ba002147\", \"department\": \"Art\", \"gender\": 2, \"id\": 33303, \"job\": \"Art Direction\", \"name\": \"Simon Bright\"}, {\"credit_id\": \"54959c069251417a81001f3a\", \"department\": \"Visual Effects\", \"gender\": 0, \"id\": 113145, \"job\": \"Visual Effects Supervisor\", \"name\": \"Richard Martin\"}, {\"credit_id\": \"54959a0dc3a3680ff5002c8d\", \"department\": \"Crew\", \"gender\": 2, \"id\": 58188, \"job\": \"Visual Effects Editor\", \"name\": \"Steve R. Moore\"}, {\"credit_id\": \"52fe48009251416c750aca1d\", \"department\": \"Editing\", \"gender\": 2, \"id\": 58871, \"job\": \"Editor\", \"name\": \"John Refoua\"}, {\"credit_id\": \"54491a4dc3a3680fc30018ca\", \"department\": \"Art\", \"gender\": 0, \"id\": 92359, \"job\": \"Set Designer\", \"name\": \"Karl J. Martin\"}, {\"credit_id\": \"52fe48009251416c750aca35\", \"department\": \"Camera\", \"gender\": 1, \"id\": 72201, \"job\": \"Director of Photography\", \"name\": \"Chiling Lin\"}, {\"credit_id\": \"52fe48009251416c750ac9ff\", \"department\": \"Crew\", \"gender\": 0, \"id\": 89714, \"job\": \"Stunts\", \"name\": \"Ilram Choi\"}, {\"credit_id\": \"54959c529251416e2b004394\", \"department\": \"Visual Effects\", \"gender\": 2, \"id\": 93214, \"job\": \"Visual Effects Supervisor\", \"name\": \"Steven Quale\"}, {\"credit_id\": \"54491edf0e0a267489001c37\", \"department\": \"Crew\", \"gender\": 1, \"id\": 122607, \"job\": \"Dialect Coach\", \"name\": \"Carla Meyer\"}, {\"credit_id\": \"539c485bc3a368653d001a3a\", \"department\": \"Art\", \"gender\": 2, \"id\": 132585, \"job\": \"Art Direction\", \"name\": \"Nick Bassett\"}, {\"credit_id\": \"539c4903c3a368653d001a74\", \"department\": \"Art\", \"gender\": 0, \"id\": 132596, \"job\": \"Art Direction\", \"name\": \"Jill Cormack\"}, {\"credit_id\": \"539c4967c3a368653d001a94\", \"department\": \"Art\", \"gender\": 0, \"id\": 132604, \"job\": \"Art Direction\", \"name\": \"Andy McLaren\"}, {\"credit_id\": \"52fe48009251416c750aca45\", \"department\": \"Crew\", \"gender\": 0, \"id\": 236696, \"job\": \"Motion Capture Artist\", \"name\": \"Terry Notary\"}, {\"credit_id\": \"54959e02c3a3680fc60027d2\", \"department\": \"Crew\", \"gender\": 2, \"id\": 956198, \"job\": \"Stunt Coordinator\", \"name\": \"Garrett Warren\"}, {\"credit_id\": \"54959ca3c3a3686ae300438c\", \"department\": \"Visual Effects\", \"gender\": 2, \"id\": 957874, \"job\": \"Visual Effects Supervisor\", \"name\": \"Jonathan Rothbart\"}, {\"credit_id\": \"570b6f519251412c74001b2f\", \"department\": \"Art\", \"gender\": 0, \"id\": 957889, \"job\": \"Supervising Art Director\", \"name\": \"Stefan Dechant\"}, {\"credit_id\": \"570b6f62c3a3680b77007460\", \"department\": \"Art\", \"gender\": 2, \"id\": 959555, \"job\": \"Supervising Art Director\", \"name\": \"Todd Cherniawsky\"}, {\"credit_id\": \"539c4a3ac3a36810da0021cc\", \"department\": \"Production\", \"gender\": 0, \"id\": 1016177, \"job\": \"Casting\", \"name\": \"Miranda Rivers\"}, {\"credit_id\": \"539c482cc3a36810c1002062\", \"department\": \"Art\", \"gender\": 0, \"id\": 1032536, \"job\": \"Production Design\", \"name\": \"Robert Stromberg\"}, {\"credit_id\": \"539c4b65c3a36810c9002125\", \"department\": \"Costume & Make-Up\", \"gender\": 2, \"id\": 1071680, \"job\": \"Costume Design\", \"name\": \"John Harding\"}, {\"credit_id\": \"54959e6692514130fc002e4e\", \"department\": \"Camera\", \"gender\": 0, \"id\": 1177364, \"job\": \"Steadicam Operator\", \"name\": \"Roberto De Angelis\"}, {\"credit_id\": \"539c49f1c3a368653d001aac\", \"department\": \"Costume & Make-Up\", \"gender\": 2, \"id\": 1202850, \"job\": \"Makeup Department Head\", \"name\": \"Mike Smithson\"}, {\"credit_id\": \"5495999ec3a3686ae100460c\", \"department\": \"Visual Effects\", \"gender\": 0, \"id\": 1204668, \"job\": \"Visual Effects Producer\", \"name\": \"Alain Lalanne\"}, {\"credit_id\": \"54959cdfc3a3681153002729\", \"department\": \"Visual Effects\", \"gender\": 0, \"id\": 1206410, \"job\": \"Visual Effects Supervisor\", \"name\": \"Lucas Salton\"}, {\"credit_id\": \"549596239251417a81001eae\", \"department\": \"Crew\", \"gender\": 0, \"id\": 1234266, \"job\": \"Post Production Supervisor\", \"name\": \"Janace Tashjian\"}, {\"credit_id\": \"54959c859251416e1e003efe\", \"department\": \"Visual Effects\", \"gender\": 0, \"id\": 1271932, \"job\": \"Visual Effects Supervisor\", \"name\": \"Stephen Rosenbaum\"}, {\"credit_id\": \"5592af28c3a368775a00105f\", \"department\": \"Costume & Make-Up\", \"gender\": 0, \"id\": 1310064, \"job\": \"Makeup Artist\", \"name\": \"Frankie Karena\"}, {\"credit_id\": \"539c4adfc3a36810e300203b\", \"department\": \"Costume & Make-Up\", \"gender\": 1, \"id\": 1319844, \"job\": \"Costume Supervisor\", \"name\": \"Lisa Lovaas\"}, {\"credit_id\": \"54959b579251416e2b004371\", \"department\": \"Visual Effects\", \"gender\": 0, \"id\": 1327028, \"job\": \"Visual Effects Supervisor\", \"name\": \"Jonathan Fawkner\"}, {\"credit_id\": \"539c48a7c3a36810b5001fa7\", \"department\": \"Art\", \"gender\": 0, \"id\": 1330561, \"job\": \"Art Direction\", \"name\": \"Robert Bavin\"}, {\"credit_id\": \"539c4a71c3a36810da0021e0\", \"department\": \"Costume & Make-Up\", \"gender\": 0, \"id\": 1330567, \"job\": \"Costume Supervisor\", \"name\": \"Anthony Almaraz\"}, {\"credit_id\": \"539c4a8ac3a36810ba0021e4\", \"department\": \"Costume & Make-Up\", \"gender\": 0, \"id\": 1330570, \"job\": \"Costume Supervisor\", \"name\": \"Carolyn M. Fenton\"}, {\"credit_id\": \"539c4ab6c3a36810da0021f0\", \"department\": \"Costume & Make-Up\", \"gender\": 0, \"id\": 1330574, \"job\": \"Costume Supervisor\", \"name\": \"Beth Koenigsberg\"}, {\"credit_id\": \"54491ab70e0a267480001ba2\", \"department\": \"Art\", \"gender\": 0, \"id\": 1336191, \"job\": \"Set Designer\", \"name\": \"Sam Page\"}, {\"credit_id\": \"544919d9c3a3680fc30018bd\", \"department\": \"Art\", \"gender\": 0, \"id\": 1339441, \"job\": \"Set Designer\", \"name\": \"Tex Kadonaga\"}, {\"credit_id\": \"54491cf50e0a267483001b0c\", \"department\": \"Editing\", \"gender\": 0, \"id\": 1352422, \"job\": \"Dialogue Editor\", \"name\": \"Kim Foscato\"}, {\"credit_id\": \"544919f40e0a26748c001b09\", \"department\": \"Art\", \"gender\": 0, \"id\": 1352962, \"job\": \"Set Designer\", \"name\": \"Tammy S. Lee\"}, {\"credit_id\": \"5495a115c3a3680ff5002d71\", \"department\": \"Crew\", \"gender\": 0, \"id\": 1357070, \"job\": \"Transportation Coordinator\", \"name\": \"Denny Caira\"}, {\"credit_id\": \"5495a12f92514130fc002e94\", \"department\": \"Crew\", \"gender\": 0, \"id\": 1357071, \"job\": \"Transportation Coordinator\", \"name\": \"James Waitkus\"}, {\"credit_id\": \"5495976fc3a36811530026b0\", \"department\": \"Sound\", \"gender\": 0, \"id\": 1360103, \"job\": \"Supervising Sound Editor\", \"name\": \"Addison Teague\"}, {\"credit_id\": \"54491837c3a3680fb1001c5a\", \"department\": \"Art\", \"gender\": 2, \"id\": 1376887, \"job\": \"Set Designer\", \"name\": \"C. Scott Baker\"}, {\"credit_id\": \"54491878c3a3680fb4001c9d\", \"department\": \"Art\", \"gender\": 0, \"id\": 1376888, \"job\": \"Set Designer\", \"name\": \"Luke Caska\"}, {\"credit_id\": \"544918dac3a3680fa5001ae0\", \"department\": \"Art\", \"gender\": 0, \"id\": 1376889, \"job\": \"Set Designer\", \"name\": \"David Chow\"}, {\"credit_id\": \"544919110e0a267486001b68\", \"department\": \"Art\", \"gender\": 0, \"id\": 1376890, \"job\": \"Set Designer\", \"name\": \"Jonathan Dyer\"}, {\"credit_id\": \"54491967c3a3680faa001b5e\", \"department\": \"Art\", \"gender\": 0, \"id\": 1376891, \"job\": \"Set Designer\", \"name\": \"Joseph Hiura\"}, {\"credit_id\": \"54491997c3a3680fb1001c8a\", \"department\": \"Art\", \"gender\": 0, \"id\": 1376892, \"job\": \"Art Department Coordinator\", \"name\": \"Rebecca Jellie\"}, {\"credit_id\": \"544919ba0e0a26748f001b42\", \"department\": \"Art\", \"gender\": 0, \"id\": 1376893, \"job\": \"Set Designer\", \"name\": \"Robert Andrew Johnson\"}, {\"credit_id\": \"54491b1dc3a3680faa001b8c\", \"department\": \"Art\", \"gender\": 0, \"id\": 1376895, \"job\": \"Assistant Art Director\", \"name\": \"Mike Stassi\"}, {\"credit_id\": \"54491b79c3a3680fbb001826\", \"department\": \"Art\", \"gender\": 0, \"id\": 1376897, \"job\": \"Construction Coordinator\", \"name\": \"John Villarino\"}, {\"credit_id\": \"54491baec3a3680fb4001ce6\", \"department\": \"Art\", \"gender\": 2, \"id\": 1376898, \"job\": \"Assistant Art Director\", \"name\": \"Jeffrey Wisniewski\"}, {\"credit_id\": \"54491d2fc3a3680fb4001d07\", \"department\": \"Editing\", \"gender\": 0, \"id\": 1376899, \"job\": \"Dialogue Editor\", \"name\": \"Cheryl Nardi\"}, {\"credit_id\": \"54491d86c3a3680fa5001b2f\", \"department\": \"Editing\", \"gender\": 0, \"id\": 1376901, \"job\": \"Dialogue Editor\", \"name\": \"Marshall Winn\"}, {\"credit_id\": \"54491d9dc3a3680faa001bb0\", \"department\": \"Sound\", \"gender\": 0, \"id\": 1376902, \"job\": \"Supervising Sound Editor\", \"name\": \"Gwendolyn Yates Whittle\"}, {\"credit_id\": \"54491dc10e0a267486001bce\", \"department\": \"Sound\", \"gender\": 0, \"id\": 1376903, \"job\": \"Sound Re-Recording Mixer\", \"name\": \"William Stein\"}, {\"credit_id\": \"54491f500e0a26747c001c07\", \"department\": \"Crew\", \"gender\": 0, \"id\": 1376909, \"job\": \"Choreographer\", \"name\": \"Lula Washington\"}, {\"credit_id\": \"549599239251412c4e002a2e\", \"department\": \"Visual Effects\", \"gender\": 0, \"id\": 1391692, \"job\": \"Visual Effects Producer\", \"name\": \"Chris Del Conte\"}, {\"credit_id\": \"54959d54c3a36831b8001d9a\", \"department\": \"Visual Effects\", \"gender\": 2, \"id\": 1391695, \"job\": \"Visual Effects Supervisor\", \"name\": \"R. Christopher White\"}, {\"credit_id\": \"54959bdf9251412c4e002a66\", \"department\": \"Visual Effects\", \"gender\": 0, \"id\": 1394070, \"job\": \"Visual Effects Supervisor\", \"name\": \"Dan Lemmon\"}, {\"credit_id\": \"5495971d92514132ed002922\", \"department\": \"Sound\", \"gender\": 0, \"id\": 1394129, \"job\": \"Sound Effects Editor\", \"name\": \"Tim Nielsen\"}, {\"credit_id\": \"5592b25792514152cc0011aa\", \"department\": \"Crew\", \"gender\": 0, \"id\": 1394286, \"job\": \"CG Supervisor\", \"name\": \"Michael Mulholland\"}, {\"credit_id\": \"54959a329251416e2b004355\", \"department\": \"Crew\", \"gender\": 0, \"id\": 1394750, \"job\": \"Visual Effects Editor\", \"name\": \"Thomas Nittmann\"}, {\"credit_id\": \"54959d6dc3a3686ae9004401\", \"department\": \"Visual Effects\", \"gender\": 0, \"id\": 1394755, \"job\": \"Visual Effects Supervisor\", \"name\": \"Edson Williams\"}, {\"credit_id\": \"5495a08fc3a3686ae300441c\", \"department\": \"Editing\", \"gender\": 0, \"id\": 1394953, \"job\": \"Digital Intermediate\", \"name\": \"Christine Carr\"}, {\"credit_id\": \"55402d659251413d6d000249\", \"department\": \"Visual Effects\", \"gender\": 0, \"id\": 1395269, \"job\": \"Visual Effects Supervisor\", \"name\": \"John Bruno\"}, {\"credit_id\": \"54959e7b9251416e1e003f3e\", \"department\": \"Camera\", \"gender\": 0, \"id\": 1398970, \"job\": \"Steadicam Operator\", \"name\": \"David Emmerichs\"}, {\"credit_id\": \"54959734c3a3686ae10045e0\", \"department\": \"Sound\", \"gender\": 0, \"id\": 1400906, \"job\": \"Sound Effects Editor\", \"name\": \"Christopher Scarabosio\"}, {\"credit_id\": \"549595dd92514130fc002d79\", \"department\": \"Production\", \"gender\": 0, \"id\": 1401784, \"job\": \"Production Supervisor\", \"name\": \"Jennifer Teves\"}, {\"credit_id\": \"549596009251413af70028cc\", \"department\": \"Production\", \"gender\": 0, \"id\": 1401785, \"job\": \"Production Manager\", \"name\": \"Brigitte Yorke\"}, {\"credit_id\": \"549596e892514130fc002d99\", \"department\": \"Sound\", \"gender\": 0, \"id\": 1401786, \"job\": \"Sound Effects Editor\", \"name\": \"Ken Fischer\"}, {\"credit_id\": \"549598229251412c4e002a1c\", \"department\": \"Crew\", \"gender\": 0, \"id\": 1401787, \"job\": \"Special Effects Coordinator\", \"name\": \"Iain Hutton\"}, {\"credit_id\": \"549598349251416e2b00432b\", \"department\": \"Crew\", \"gender\": 0, \"id\": 1401788, \"job\": \"Special Effects Coordinator\", \"name\": \"Steve Ingram\"}, {\"credit_id\": \"54959905c3a3686ae3004324\", \"department\": \"Visual Effects\", \"gender\": 0, \"id\": 1401789, \"job\": \"Visual Effects Producer\", \"name\": \"Joyce Cox\"}, {\"credit_id\": \"5495994b92514132ed002951\", \"department\": \"Visual Effects\", \"gender\": 0, \"id\": 1401790, \"job\": \"Visual Effects Producer\", \"name\": \"Jenny Foster\"}, {\"credit_id\": \"549599cbc3a3686ae1004613\", \"department\": \"Crew\", \"gender\": 0, \"id\": 1401791, \"job\": \"Visual Effects Editor\", \"name\": \"Christopher Marino\"}, {\"credit_id\": \"549599f2c3a3686ae100461e\", \"department\": \"Crew\", \"gender\": 0, \"id\": 1401792, \"job\": \"Visual Effects Editor\", \"name\": \"Jim Milton\"}, {\"credit_id\": \"54959a51c3a3686af3003eb5\", \"department\": \"Visual Effects\", \"gender\": 0, \"id\": 1401793, \"job\": \"Visual Effects Producer\", \"name\": \"Cyndi Ochs\"}, {\"credit_id\": \"54959a7cc3a36811530026f4\", \"department\": \"Crew\", \"gender\": 0, \"id\": 1401794, \"job\": \"Visual Effects Editor\", \"name\": \"Lucas Putnam\"}, {\"credit_id\": \"54959b91c3a3680ff5002cb4\", \"department\": \"Visual Effects\", \"gender\": 0, \"id\": 1401795, \"job\": \"Visual Effects Supervisor\", \"name\": \"Anthony 'Max' Ivins\"}, {\"credit_id\": \"54959bb69251412c4e002a5f\", \"department\": \"Visual Effects\", \"gender\": 0, \"id\": 1401796, \"job\": \"Visual Effects Supervisor\", \"name\": \"John Knoll\"}, {\"credit_id\": \"54959cbbc3a3686ae3004391\", \"department\": \"Visual Effects\", \"gender\": 2, \"id\": 1401799, \"job\": \"Visual Effects Supervisor\", \"name\": \"Eric Saindon\"}, {\"credit_id\": \"54959d06c3a3686ae90043f6\", \"department\": \"Visual Effects\", \"gender\": 0, \"id\": 1401800, \"job\": \"Visual Effects Supervisor\", \"name\": \"Wayne Stables\"}, {\"credit_id\": \"54959d259251416e1e003f11\", \"department\": \"Visual Effects\", \"gender\": 0, \"id\": 1401801, \"job\": \"Visual Effects Supervisor\", \"name\": \"David Stinnett\"}, {\"credit_id\": \"54959db49251413af7002975\", \"department\": \"Visual Effects\", \"gender\": 0, \"id\": 1401803, \"job\": \"Visual Effects Supervisor\", \"name\": \"Guy Williams\"}, {\"credit_id\": \"54959de4c3a3681153002750\", \"department\": \"Crew\", \"gender\": 0, \"id\": 1401804, \"job\": \"Stunt Coordinator\", \"name\": \"Stuart Thorp\"}, {\"credit_id\": \"54959ef2c3a3680fc60027f2\", \"department\": \"Lighting\", \"gender\": 0, \"id\": 1401805, \"job\": \"Best Boy Electric\", \"name\": \"Giles Coburn\"}, {\"credit_id\": \"54959f07c3a3680fc60027f9\", \"department\": \"Camera\", \"gender\": 2, \"id\": 1401806, \"job\": \"Still Photographer\", \"name\": \"Mark Fellman\"}, {\"credit_id\": \"54959f47c3a3681153002774\", \"department\": \"Lighting\", \"gender\": 0, \"id\": 1401807, \"job\": \"Lighting Technician\", \"name\": \"Scott Sprague\"}, {\"credit_id\": \"54959f8cc3a36831b8001df2\", \"department\": \"Visual Effects\", \"gender\": 0, \"id\": 1401808, \"job\": \"Animation Director\", \"name\": \"Jeremy Hollobon\"}, {\"credit_id\": \"54959fa0c3a36831b8001dfb\", \"department\": \"Visual Effects\", \"gender\": 0, \"id\": 1401809, \"job\": \"Animation Director\", \"name\": \"Orlando Meunier\"}, {\"credit_id\": \"54959fb6c3a3686af3003f54\", \"department\": \"Visual Effects\", \"gender\": 0, \"id\": 1401810, \"job\": \"Animation Director\", \"name\": \"Taisuke Tanimura\"}, {\"credit_id\": \"54959fd2c3a36831b8001e02\", \"department\": \"Costume & Make-Up\", \"gender\": 0, \"id\": 1401812, \"job\": \"Set Costumer\", \"name\": \"Lilia Mishel Acevedo\"}, {\"credit_id\": \"54959ff9c3a3686ae300440c\", \"department\": \"Costume & Make-Up\", \"gender\": 0, \"id\": 1401814, \"job\": \"Set Costumer\", \"name\": \"Alejandro M. Hernandez\"}, {\"credit_id\": \"5495a0ddc3a3686ae10046fe\", \"department\": \"Editing\", \"gender\": 0, \"id\": 1401815, \"job\": \"Digital Intermediate\", \"name\": \"Marvin Hall\"}, {\"credit_id\": \"5495a1f7c3a3686ae3004443\", \"department\": \"Production\", \"gender\": 0, \"id\": 1401816, \"job\": \"Publicist\", \"name\": \"Judy Alley\"}, {\"credit_id\": \"5592b29fc3a36869d100002f\", \"department\": \"Crew\", \"gender\": 0, \"id\": 1418381, \"job\": \"CG Supervisor\", \"name\": \"Mike Perry\"}, {\"credit_id\": \"5592b23a9251415df8001081\", \"department\": \"Crew\", \"gender\": 0, \"id\": 1426854, \"job\": \"CG Supervisor\", \"name\": \"Andrew Morley\"}, {\"credit_id\": \"55491e1192514104c40002d8\", \"department\": \"Art\", \"gender\": 0, \"id\": 1438901, \"job\": \"Conceptual Design\", \"name\": \"Seth Engstrom\"}, {\"credit_id\": \"5525d5809251417276002b06\", \"department\": \"Crew\", \"gender\": 0, \"id\": 1447362, \"job\": \"Visual Effects Art Director\", \"name\": \"Eric Oliver\"}, {\"credit_id\": \"554427ca925141586500312a\", \"department\": \"Visual Effects\", \"gender\": 0, \"id\": 1447503, \"job\": \"Modeling\", \"name\": \"Matsune Suzuki\"}, {\"credit_id\": \"551906889251415aab001c88\", \"department\": \"Art\", \"gender\": 0, \"id\": 1447524, \"job\": \"Art Department Manager\", \"name\": \"Paul Tobin\"}, {\"credit_id\": \"5592af8492514152cc0010de\", \"department\": \"Costume & Make-Up\", \"gender\": 0, \"id\": 1452643, \"job\": \"Hairstylist\", \"name\": \"Roxane Griffin\"}, {\"credit_id\": \"553d3c109251415852001318\", \"department\": \"Lighting\", \"gender\": 0, \"id\": 1453938, \"job\": \"Lighting Artist\", \"name\": \"Arun Ram-Mohan\"}, {\"credit_id\": \"5592af4692514152d5001355\", \"department\": \"Costume & Make-Up\", \"gender\": 0, \"id\": 1457305, \"job\": \"Makeup Artist\", \"name\": \"Georgia Lockhart-Adams\"}, {\"credit_id\": \"5592b2eac3a36877470012a5\", \"department\": \"Crew\", \"gender\": 0, \"id\": 1466035, \"job\": \"CG Supervisor\", \"name\": \"Thrain Shadbolt\"}, {\"credit_id\": \"5592b032c3a36877450015f1\", \"department\": \"Crew\", \"gender\": 0, \"id\": 1483220, \"job\": \"CG Supervisor\", \"name\": \"Brad Alexander\"}, {\"credit_id\": \"5592b05592514152d80012f6\", \"department\": \"Crew\", \"gender\": 0, \"id\": 1483221, \"job\": \"CG Supervisor\", \"name\": \"Shadi Almassizadeh\"}, {\"credit_id\": \"5592b090c3a36877570010b5\", \"department\": \"Crew\", \"gender\": 0, \"id\": 1483222, \"job\": \"CG Supervisor\", \"name\": \"Simon Clutterbuck\"}, {\"credit_id\": \"5592b0dbc3a368774b00112c\", \"department\": \"Crew\", \"gender\": 0, \"id\": 1483223, \"job\": \"CG Supervisor\", \"name\": \"Graeme Demmocks\"}, {\"credit_id\": \"5592b0fe92514152db0010c1\", \"department\": \"Crew\", \"gender\": 0, \"id\": 1483224, \"job\": \"CG Supervisor\", \"name\": \"Adrian Fernandes\"}, {\"credit_id\": \"5592b11f9251415df8001059\", \"department\": \"Crew\", \"gender\": 0, \"id\": 1483225, \"job\": \"CG Supervisor\", \"name\": \"Mitch Gates\"}, {\"credit_id\": \"5592b15dc3a3687745001645\", \"department\": \"Crew\", \"gender\": 0, \"id\": 1483226, \"job\": \"CG Supervisor\", \"name\": \"Jerry Kung\"}, {\"credit_id\": \"5592b18e925141645a0004ae\", \"department\": \"Crew\", \"gender\": 0, \"id\": 1483227, \"job\": \"CG Supervisor\", \"name\": \"Andy Lomas\"}, {\"credit_id\": \"5592b1bfc3a368775d0010e7\", \"department\": \"Crew\", \"gender\": 0, \"id\": 1483228, \"job\": \"CG Supervisor\", \"name\": \"Sebastian Marino\"}, {\"credit_id\": \"5592b2049251415df8001078\", \"department\": \"Crew\", \"gender\": 0, \"id\": 1483229, \"job\": \"CG Supervisor\", \"name\": \"Matthias Menz\"}, {\"credit_id\": \"5592b27b92514152d800136a\", \"department\": \"Crew\", \"gender\": 0, \"id\": 1483230, \"job\": \"CG Supervisor\", \"name\": \"Sergei Nevshupov\"}, {\"credit_id\": \"5592b2c3c3a36869e800003c\", \"department\": \"Crew\", \"gender\": 0, \"id\": 1483231, \"job\": \"CG Supervisor\", \"name\": \"Philippe Rebours\"}, {\"credit_id\": \"5592b317c3a36877470012af\", \"department\": \"Crew\", \"gender\": 0, \"id\": 1483232, \"job\": \"CG Supervisor\", \"name\": \"Michael Takarangi\"}, {\"credit_id\": \"5592b345c3a36877470012bb\", \"department\": \"Crew\", \"gender\": 0, \"id\": 1483233, \"job\": \"CG Supervisor\", \"name\": \"David Weitzberg\"}, {\"credit_id\": \"5592b37cc3a368775100113b\", \"department\": \"Crew\", \"gender\": 0, \"id\": 1483234, \"job\": \"CG Supervisor\", \"name\": \"Ben White\"}, {\"credit_id\": \"573c8e2f9251413f5d000094\", \"department\": \"Crew\", \"gender\": 1, \"id\": 1621932, \"job\": \"Stunts\", \"name\": \"Min Windle\"}]"
        ]
       ],
       "shape": {
        "columns": 4,
        "rows": 1
       }
      },
      "text/html": [
       "<div>\n",
       "<style scoped>\n",
       "    .dataframe tbody tr th:only-of-type {\n",
       "        vertical-align: middle;\n",
       "    }\n",
       "\n",
       "    .dataframe tbody tr th {\n",
       "        vertical-align: top;\n",
       "    }\n",
       "\n",
       "    .dataframe thead th {\n",
       "        text-align: right;\n",
       "    }\n",
       "</style>\n",
       "<table border=\"1\" class=\"dataframe\">\n",
       "  <thead>\n",
       "    <tr style=\"text-align: right;\">\n",
       "      <th></th>\n",
       "      <th>movie_id</th>\n",
       "      <th>title</th>\n",
       "      <th>cast</th>\n",
       "      <th>crew</th>\n",
       "    </tr>\n",
       "  </thead>\n",
       "  <tbody>\n",
       "    <tr>\n",
       "      <th>0</th>\n",
       "      <td>19995</td>\n",
       "      <td>Avatar</td>\n",
       "      <td>[{\"cast_id\": 242, \"character\": \"Jake Sully\", \"...</td>\n",
       "      <td>[{\"credit_id\": \"52fe48009251416c750aca23\", \"de...</td>\n",
       "    </tr>\n",
       "  </tbody>\n",
       "</table>\n",
       "</div>"
      ],
      "text/plain": [
       "   movie_id   title                                               cast  \\\n",
       "0     19995  Avatar  [{\"cast_id\": 242, \"character\": \"Jake Sully\", \"...   \n",
       "\n",
       "                                                crew  \n",
       "0  [{\"credit_id\": \"52fe48009251416c750aca23\", \"de...  "
      ]
     },
     "execution_count": 5,
     "metadata": {},
     "output_type": "execute_result"
    }
   ],
   "source": [
    "\n",
    "credits.head(1)"
   ]
  },
  {
   "cell_type": "markdown",
   "id": "81bb297b",
   "metadata": {},
   "source": [
    "#We hava to data set so firslty we can merge both data set based on 'id' or 'title'"
   ]
  },
  {
   "cell_type": "code",
   "execution_count": 6,
   "id": "c940ea56",
   "metadata": {},
   "outputs": [],
   "source": [
    "#let's merge both data sets\n",
    "movies = movies.merge(credits, on='title')"
   ]
  },
  {
   "cell_type": "code",
   "execution_count": 7,
   "id": "b10e2bff",
   "metadata": {},
   "outputs": [
    {
     "data": {
      "text/plain": [
       "(4809, 23)"
      ]
     },
     "execution_count": 7,
     "metadata": {},
     "output_type": "execute_result"
    }
   ],
   "source": [
    "movies.shape"
   ]
  },
  {
   "cell_type": "code",
   "execution_count": 8,
   "id": "9380c08c",
   "metadata": {},
   "outputs": [],
   "source": [
    "movies = movies.head(1000)"
   ]
  },
  {
   "cell_type": "markdown",
   "id": "ec4bba29",
   "metadata": {},
   "source": [
    "#extract important features\n",
    "- genres \n",
    "- id\n",
    "- keywords\n",
    "- title\n",
    "- overview\n",
    "- genres\n",
    "- cast\n",
    "- crew"
   ]
  },
  {
   "cell_type": "code",
   "execution_count": 9,
   "id": "e48665e6",
   "metadata": {},
   "outputs": [
    {
     "data": {
      "application/vnd.microsoft.datawrangler.viewer.v0+json": {
       "columns": [
        {
         "name": "index",
         "rawType": "int64",
         "type": "integer"
        },
        {
         "name": "movie_id",
         "rawType": "int64",
         "type": "integer"
        },
        {
         "name": "title",
         "rawType": "object",
         "type": "string"
        },
        {
         "name": "overview",
         "rawType": "object",
         "type": "string"
        },
        {
         "name": "genres",
         "rawType": "object",
         "type": "string"
        },
        {
         "name": "keywords",
         "rawType": "object",
         "type": "string"
        },
        {
         "name": "cast",
         "rawType": "object",
         "type": "string"
        },
        {
         "name": "crew",
         "rawType": "object",
         "type": "string"
        }
       ],
       "ref": "58310f70-c459-4281-965e-95108d6727a7",
       "rows": [
        [
         "0",
         "19995",
         "Avatar",
         "In the 22nd century, a paraplegic Marine is dispatched to the moon Pandora on a unique mission, but becomes torn between following orders and protecting an alien civilization.",
         "[{\"id\": 28, \"name\": \"Action\"}, {\"id\": 12, \"name\": \"Adventure\"}, {\"id\": 14, \"name\": \"Fantasy\"}, {\"id\": 878, \"name\": \"Science Fiction\"}]",
         "[{\"id\": 1463, \"name\": \"culture clash\"}, {\"id\": 2964, \"name\": \"future\"}, {\"id\": 3386, \"name\": \"space war\"}, {\"id\": 3388, \"name\": \"space colony\"}, {\"id\": 3679, \"name\": \"society\"}, {\"id\": 3801, \"name\": \"space travel\"}, {\"id\": 9685, \"name\": \"futuristic\"}, {\"id\": 9840, \"name\": \"romance\"}, {\"id\": 9882, \"name\": \"space\"}, {\"id\": 9951, \"name\": \"alien\"}, {\"id\": 10148, \"name\": \"tribe\"}, {\"id\": 10158, \"name\": \"alien planet\"}, {\"id\": 10987, \"name\": \"cgi\"}, {\"id\": 11399, \"name\": \"marine\"}, {\"id\": 13065, \"name\": \"soldier\"}, {\"id\": 14643, \"name\": \"battle\"}, {\"id\": 14720, \"name\": \"love affair\"}, {\"id\": 165431, \"name\": \"anti war\"}, {\"id\": 193554, \"name\": \"power relations\"}, {\"id\": 206690, \"name\": \"mind and soul\"}, {\"id\": 209714, \"name\": \"3d\"}]",
         "[{\"cast_id\": 242, \"character\": \"Jake Sully\", \"credit_id\": \"5602a8a7c3a3685532001c9a\", \"gender\": 2, \"id\": 65731, \"name\": \"Sam Worthington\", \"order\": 0}, {\"cast_id\": 3, \"character\": \"Neytiri\", \"credit_id\": \"52fe48009251416c750ac9cb\", \"gender\": 1, \"id\": 8691, \"name\": \"Zoe Saldana\", \"order\": 1}, {\"cast_id\": 25, \"character\": \"Dr. Grace Augustine\", \"credit_id\": \"52fe48009251416c750aca39\", \"gender\": 1, \"id\": 10205, \"name\": \"Sigourney Weaver\", \"order\": 2}, {\"cast_id\": 4, \"character\": \"Col. Quaritch\", \"credit_id\": \"52fe48009251416c750ac9cf\", \"gender\": 2, \"id\": 32747, \"name\": \"Stephen Lang\", \"order\": 3}, {\"cast_id\": 5, \"character\": \"Trudy Chacon\", \"credit_id\": \"52fe48009251416c750ac9d3\", \"gender\": 1, \"id\": 17647, \"name\": \"Michelle Rodriguez\", \"order\": 4}, {\"cast_id\": 8, \"character\": \"Selfridge\", \"credit_id\": \"52fe48009251416c750ac9e1\", \"gender\": 2, \"id\": 1771, \"name\": \"Giovanni Ribisi\", \"order\": 5}, {\"cast_id\": 7, \"character\": \"Norm Spellman\", \"credit_id\": \"52fe48009251416c750ac9dd\", \"gender\": 2, \"id\": 59231, \"name\": \"Joel David Moore\", \"order\": 6}, {\"cast_id\": 9, \"character\": \"Moat\", \"credit_id\": \"52fe48009251416c750ac9e5\", \"gender\": 1, \"id\": 30485, \"name\": \"CCH Pounder\", \"order\": 7}, {\"cast_id\": 11, \"character\": \"Eytukan\", \"credit_id\": \"52fe48009251416c750ac9ed\", \"gender\": 2, \"id\": 15853, \"name\": \"Wes Studi\", \"order\": 8}, {\"cast_id\": 10, \"character\": \"Tsu'Tey\", \"credit_id\": \"52fe48009251416c750ac9e9\", \"gender\": 2, \"id\": 10964, \"name\": \"Laz Alonso\", \"order\": 9}, {\"cast_id\": 12, \"character\": \"Dr. Max Patel\", \"credit_id\": \"52fe48009251416c750ac9f1\", \"gender\": 2, \"id\": 95697, \"name\": \"Dileep Rao\", \"order\": 10}, {\"cast_id\": 13, \"character\": \"Lyle Wainfleet\", \"credit_id\": \"52fe48009251416c750ac9f5\", \"gender\": 2, \"id\": 98215, \"name\": \"Matt Gerald\", \"order\": 11}, {\"cast_id\": 32, \"character\": \"Private Fike\", \"credit_id\": \"52fe48009251416c750aca5b\", \"gender\": 2, \"id\": 154153, \"name\": \"Sean Anthony Moran\", \"order\": 12}, {\"cast_id\": 33, \"character\": \"Cryo Vault Med Tech\", \"credit_id\": \"52fe48009251416c750aca5f\", \"gender\": 2, \"id\": 397312, \"name\": \"Jason Whyte\", \"order\": 13}, {\"cast_id\": 34, \"character\": \"Venture Star Crew Chief\", \"credit_id\": \"52fe48009251416c750aca63\", \"gender\": 2, \"id\": 42317, \"name\": \"Scott Lawrence\", \"order\": 14}, {\"cast_id\": 35, \"character\": \"Lock Up Trooper\", \"credit_id\": \"52fe48009251416c750aca67\", \"gender\": 2, \"id\": 986734, \"name\": \"Kelly Kilgour\", \"order\": 15}, {\"cast_id\": 36, \"character\": \"Shuttle Pilot\", \"credit_id\": \"52fe48009251416c750aca6b\", \"gender\": 0, \"id\": 1207227, \"name\": \"James Patrick Pitt\", \"order\": 16}, {\"cast_id\": 37, \"character\": \"Shuttle Co-Pilot\", \"credit_id\": \"52fe48009251416c750aca6f\", \"gender\": 0, \"id\": 1180936, \"name\": \"Sean Patrick Murphy\", \"order\": 17}, {\"cast_id\": 38, \"character\": \"Shuttle Crew Chief\", \"credit_id\": \"52fe48009251416c750aca73\", \"gender\": 2, \"id\": 1019578, \"name\": \"Peter Dillon\", \"order\": 18}, {\"cast_id\": 39, \"character\": \"Tractor Operator / Troupe\", \"credit_id\": \"52fe48009251416c750aca77\", \"gender\": 0, \"id\": 91443, \"name\": \"Kevin Dorman\", \"order\": 19}, {\"cast_id\": 40, \"character\": \"Dragon Gunship Pilot\", \"credit_id\": \"52fe48009251416c750aca7b\", \"gender\": 2, \"id\": 173391, \"name\": \"Kelson Henderson\", \"order\": 20}, {\"cast_id\": 41, \"character\": \"Dragon Gunship Gunner\", \"credit_id\": \"52fe48009251416c750aca7f\", \"gender\": 0, \"id\": 1207236, \"name\": \"David Van Horn\", \"order\": 21}, {\"cast_id\": 42, \"character\": \"Dragon Gunship Navigator\", \"credit_id\": \"52fe48009251416c750aca83\", \"gender\": 0, \"id\": 215913, \"name\": \"Jacob Tomuri\", \"order\": 22}, {\"cast_id\": 43, \"character\": \"Suit #1\", \"credit_id\": \"52fe48009251416c750aca87\", \"gender\": 0, \"id\": 143206, \"name\": \"Michael Blain-Rozgay\", \"order\": 23}, {\"cast_id\": 44, \"character\": \"Suit #2\", \"credit_id\": \"52fe48009251416c750aca8b\", \"gender\": 2, \"id\": 169676, \"name\": \"Jon Curry\", \"order\": 24}, {\"cast_id\": 46, \"character\": \"Ambient Room Tech\", \"credit_id\": \"52fe48009251416c750aca8f\", \"gender\": 0, \"id\": 1048610, \"name\": \"Luke Hawker\", \"order\": 25}, {\"cast_id\": 47, \"character\": \"Ambient Room Tech / Troupe\", \"credit_id\": \"52fe48009251416c750aca93\", \"gender\": 0, \"id\": 42288, \"name\": \"Woody Schultz\", \"order\": 26}, {\"cast_id\": 48, \"character\": \"Horse Clan Leader\", \"credit_id\": \"52fe48009251416c750aca97\", \"gender\": 2, \"id\": 68278, \"name\": \"Peter Mensah\", \"order\": 27}, {\"cast_id\": 49, \"character\": \"Link Room Tech\", \"credit_id\": \"52fe48009251416c750aca9b\", \"gender\": 0, \"id\": 1207247, \"name\": \"Sonia Yee\", \"order\": 28}, {\"cast_id\": 50, \"character\": \"Basketball Avatar / Troupe\", \"credit_id\": \"52fe48009251416c750aca9f\", \"gender\": 1, \"id\": 1207248, \"name\": \"Jahnel Curfman\", \"order\": 29}, {\"cast_id\": 51, \"character\": \"Basketball Avatar\", \"credit_id\": \"52fe48009251416c750acaa3\", \"gender\": 0, \"id\": 89714, \"name\": \"Ilram Choi\", \"order\": 30}, {\"cast_id\": 52, \"character\": \"Na'vi Child\", \"credit_id\": \"52fe48009251416c750acaa7\", \"gender\": 0, \"id\": 1207249, \"name\": \"Kyla Warren\", \"order\": 31}, {\"cast_id\": 53, \"character\": \"Troupe\", \"credit_id\": \"52fe48009251416c750acaab\", \"gender\": 0, \"id\": 1207250, \"name\": \"Lisa Roumain\", \"order\": 32}, {\"cast_id\": 54, \"character\": \"Troupe\", \"credit_id\": \"52fe48009251416c750acaaf\", \"gender\": 1, \"id\": 83105, \"name\": \"Debra Wilson\", \"order\": 33}, {\"cast_id\": 57, \"character\": \"Troupe\", \"credit_id\": \"52fe48009251416c750acabb\", \"gender\": 0, \"id\": 1207253, \"name\": \"Chris Mala\", \"order\": 34}, {\"cast_id\": 55, \"character\": \"Troupe\", \"credit_id\": \"52fe48009251416c750acab3\", \"gender\": 0, \"id\": 1207251, \"name\": \"Taylor Kibby\", \"order\": 35}, {\"cast_id\": 56, \"character\": \"Troupe\", \"credit_id\": \"52fe48009251416c750acab7\", \"gender\": 0, \"id\": 1207252, \"name\": \"Jodie Landau\", \"order\": 36}, {\"cast_id\": 58, \"character\": \"Troupe\", \"credit_id\": \"52fe48009251416c750acabf\", \"gender\": 0, \"id\": 1207254, \"name\": \"Julie Lamm\", \"order\": 37}, {\"cast_id\": 59, \"character\": \"Troupe\", \"credit_id\": \"52fe48009251416c750acac3\", \"gender\": 0, \"id\": 1207257, \"name\": \"Cullen B. Madden\", \"order\": 38}, {\"cast_id\": 60, \"character\": \"Troupe\", \"credit_id\": \"52fe48009251416c750acac7\", \"gender\": 0, \"id\": 1207259, \"name\": \"Joseph Brady Madden\", \"order\": 39}, {\"cast_id\": 61, \"character\": \"Troupe\", \"credit_id\": \"52fe48009251416c750acacb\", \"gender\": 0, \"id\": 1207262, \"name\": \"Frankie Torres\", \"order\": 40}, {\"cast_id\": 62, \"character\": \"Troupe\", \"credit_id\": \"52fe48009251416c750acacf\", \"gender\": 1, \"id\": 1158600, \"name\": \"Austin Wilson\", \"order\": 41}, {\"cast_id\": 63, \"character\": \"Troupe\", \"credit_id\": \"52fe48019251416c750acad3\", \"gender\": 1, \"id\": 983705, \"name\": \"Sara Wilson\", \"order\": 42}, {\"cast_id\": 64, \"character\": \"Troupe\", \"credit_id\": \"52fe48019251416c750acad7\", \"gender\": 0, \"id\": 1207263, \"name\": \"Tamica Washington-Miller\", \"order\": 43}, {\"cast_id\": 65, \"character\": \"Op Center Staff\", \"credit_id\": \"52fe48019251416c750acadb\", \"gender\": 1, \"id\": 1145098, \"name\": \"Lucy Briant\", \"order\": 44}, {\"cast_id\": 66, \"character\": \"Op Center Staff\", \"credit_id\": \"52fe48019251416c750acadf\", \"gender\": 2, \"id\": 33305, \"name\": \"Nathan Meister\", \"order\": 45}, {\"cast_id\": 67, \"character\": \"Op Center Staff\", \"credit_id\": \"52fe48019251416c750acae3\", \"gender\": 0, \"id\": 1207264, \"name\": \"Gerry Blair\", \"order\": 46}, {\"cast_id\": 68, \"character\": \"Op Center Staff\", \"credit_id\": \"52fe48019251416c750acae7\", \"gender\": 2, \"id\": 33311, \"name\": \"Matthew Chamberlain\", \"order\": 47}, {\"cast_id\": 69, \"character\": \"Op Center Staff\", \"credit_id\": \"52fe48019251416c750acaeb\", \"gender\": 0, \"id\": 1207265, \"name\": \"Paul Yates\", \"order\": 48}, {\"cast_id\": 70, \"character\": \"Op Center Duty Officer\", \"credit_id\": \"52fe48019251416c750acaef\", \"gender\": 0, \"id\": 1207266, \"name\": \"Wray Wilson\", \"order\": 49}, {\"cast_id\": 71, \"character\": \"Op Center Staff\", \"credit_id\": \"52fe48019251416c750acaf3\", \"gender\": 2, \"id\": 54492, \"name\": \"James Gaylyn\", \"order\": 50}, {\"cast_id\": 72, \"character\": \"Dancer\", \"credit_id\": \"52fe48019251416c750acaf7\", \"gender\": 0, \"id\": 1207267, \"name\": \"Melvin Leno Clark III\", \"order\": 51}, {\"cast_id\": 73, \"character\": \"Dancer\", \"credit_id\": \"52fe48019251416c750acafb\", \"gender\": 0, \"id\": 1207268, \"name\": \"Carvon Futrell\", \"order\": 52}, {\"cast_id\": 74, \"character\": \"Dancer\", \"credit_id\": \"52fe48019251416c750acaff\", \"gender\": 0, \"id\": 1207269, \"name\": \"Brandon Jelkes\", \"order\": 53}, {\"cast_id\": 75, \"character\": \"Dancer\", \"credit_id\": \"52fe48019251416c750acb03\", \"gender\": 0, \"id\": 1207270, \"name\": \"Micah Moch\", \"order\": 54}, {\"cast_id\": 76, \"character\": \"Dancer\", \"credit_id\": \"52fe48019251416c750acb07\", \"gender\": 0, \"id\": 1207271, \"name\": \"Hanniyah Muhammad\", \"order\": 55}, {\"cast_id\": 77, \"character\": \"Dancer\", \"credit_id\": \"52fe48019251416c750acb0b\", \"gender\": 0, \"id\": 1207272, \"name\": \"Christopher Nolen\", \"order\": 56}, {\"cast_id\": 78, \"character\": \"Dancer\", \"credit_id\": \"52fe48019251416c750acb0f\", \"gender\": 0, \"id\": 1207273, \"name\": \"Christa Oliver\", \"order\": 57}, {\"cast_id\": 79, \"character\": \"Dancer\", \"credit_id\": \"52fe48019251416c750acb13\", \"gender\": 0, \"id\": 1207274, \"name\": \"April Marie Thomas\", \"order\": 58}, {\"cast_id\": 80, \"character\": \"Dancer\", \"credit_id\": \"52fe48019251416c750acb17\", \"gender\": 0, \"id\": 1207275, \"name\": \"Bravita A. Threatt\", \"order\": 59}, {\"cast_id\": 81, \"character\": \"Mining Chief (uncredited)\", \"credit_id\": \"52fe48019251416c750acb1b\", \"gender\": 0, \"id\": 1207276, \"name\": \"Colin Bleasdale\", \"order\": 60}, {\"cast_id\": 82, \"character\": \"Veteran Miner (uncredited)\", \"credit_id\": \"52fe48019251416c750acb1f\", \"gender\": 0, \"id\": 107969, \"name\": \"Mike Bodnar\", \"order\": 61}, {\"cast_id\": 83, \"character\": \"Richard (uncredited)\", \"credit_id\": \"52fe48019251416c750acb23\", \"gender\": 0, \"id\": 1207278, \"name\": \"Matt Clayton\", \"order\": 62}, {\"cast_id\": 84, \"character\": \"Nav'i (uncredited)\", \"credit_id\": \"52fe48019251416c750acb27\", \"gender\": 1, \"id\": 147898, \"name\": \"Nicole Dionne\", \"order\": 63}, {\"cast_id\": 85, \"character\": \"Trooper (uncredited)\", \"credit_id\": \"52fe48019251416c750acb2b\", \"gender\": 0, \"id\": 1207280, \"name\": \"Jamie Harrison\", \"order\": 64}, {\"cast_id\": 86, \"character\": \"Trooper (uncredited)\", \"credit_id\": \"52fe48019251416c750acb2f\", \"gender\": 0, \"id\": 1207281, \"name\": \"Allan Henry\", \"order\": 65}, {\"cast_id\": 87, \"character\": \"Ground Technician (uncredited)\", \"credit_id\": \"52fe48019251416c750acb33\", \"gender\": 2, \"id\": 1207282, \"name\": \"Anthony Ingruber\", \"order\": 66}, {\"cast_id\": 88, \"character\": \"Flight Crew Mechanic (uncredited)\", \"credit_id\": \"52fe48019251416c750acb37\", \"gender\": 0, \"id\": 1207283, \"name\": \"Ashley Jeffery\", \"order\": 67}, {\"cast_id\": 14, \"character\": \"Samson Pilot\", \"credit_id\": \"52fe48009251416c750ac9f9\", \"gender\": 0, \"id\": 98216, \"name\": \"Dean Knowsley\", \"order\": 68}, {\"cast_id\": 89, \"character\": \"Trooper (uncredited)\", \"credit_id\": \"52fe48019251416c750acb3b\", \"gender\": 0, \"id\": 1201399, \"name\": \"Joseph Mika-Hunt\", \"order\": 69}, {\"cast_id\": 90, \"character\": \"Banshee (uncredited)\", \"credit_id\": \"52fe48019251416c750acb3f\", \"gender\": 0, \"id\": 236696, \"name\": \"Terry Notary\", \"order\": 70}, {\"cast_id\": 91, \"character\": \"Soldier (uncredited)\", \"credit_id\": \"52fe48019251416c750acb43\", \"gender\": 0, \"id\": 1207287, \"name\": \"Kai Pantano\", \"order\": 71}, {\"cast_id\": 92, \"character\": \"Blast Technician (uncredited)\", \"credit_id\": \"52fe48019251416c750acb47\", \"gender\": 0, \"id\": 1207288, \"name\": \"Logan Pithyou\", \"order\": 72}, {\"cast_id\": 93, \"character\": \"Vindum Raah (uncredited)\", \"credit_id\": \"52fe48019251416c750acb4b\", \"gender\": 0, \"id\": 1207289, \"name\": \"Stuart Pollock\", \"order\": 73}, {\"cast_id\": 94, \"character\": \"Hero (uncredited)\", \"credit_id\": \"52fe48019251416c750acb4f\", \"gender\": 0, \"id\": 584868, \"name\": \"Raja\", \"order\": 74}, {\"cast_id\": 95, \"character\": \"Ops Centreworker (uncredited)\", \"credit_id\": \"52fe48019251416c750acb53\", \"gender\": 0, \"id\": 1207290, \"name\": \"Gareth Ruck\", \"order\": 75}, {\"cast_id\": 96, \"character\": \"Engineer (uncredited)\", \"credit_id\": \"52fe48019251416c750acb57\", \"gender\": 0, \"id\": 1062463, \"name\": \"Rhian Sheehan\", \"order\": 76}, {\"cast_id\": 97, \"character\": \"Col. Quaritch's Mech Suit (uncredited)\", \"credit_id\": \"52fe48019251416c750acb5b\", \"gender\": 0, \"id\": 60656, \"name\": \"T. J. Storm\", \"order\": 77}, {\"cast_id\": 98, \"character\": \"Female Marine (uncredited)\", \"credit_id\": \"52fe48019251416c750acb5f\", \"gender\": 0, \"id\": 1207291, \"name\": \"Jodie Taylor\", \"order\": 78}, {\"cast_id\": 99, \"character\": \"Ikran Clan Leader (uncredited)\", \"credit_id\": \"52fe48019251416c750acb63\", \"gender\": 1, \"id\": 1186027, \"name\": \"Alicia Vela-Bailey\", \"order\": 79}, {\"cast_id\": 100, \"character\": \"Geologist (uncredited)\", \"credit_id\": \"52fe48019251416c750acb67\", \"gender\": 0, \"id\": 1207292, \"name\": \"Richard Whiteside\", \"order\": 80}, {\"cast_id\": 101, \"character\": \"Na'vi (uncredited)\", \"credit_id\": \"52fe48019251416c750acb6b\", \"gender\": 0, \"id\": 103259, \"name\": \"Nikie Zambo\", \"order\": 81}, {\"cast_id\": 102, \"character\": \"Ambient Room Tech / Troupe\", \"credit_id\": \"52fe48019251416c750acb6f\", \"gender\": 1, \"id\": 42286, \"name\": \"Julene Renee\", \"order\": 82}]",
         "[{\"credit_id\": \"52fe48009251416c750aca23\", \"department\": \"Editing\", \"gender\": 0, \"id\": 1721, \"job\": \"Editor\", \"name\": \"Stephen E. Rivkin\"}, {\"credit_id\": \"539c47ecc3a36810e3001f87\", \"department\": \"Art\", \"gender\": 2, \"id\": 496, \"job\": \"Production Design\", \"name\": \"Rick Carter\"}, {\"credit_id\": \"54491c89c3a3680fb4001cf7\", \"department\": \"Sound\", \"gender\": 0, \"id\": 900, \"job\": \"Sound Designer\", \"name\": \"Christopher Boyes\"}, {\"credit_id\": \"54491cb70e0a267480001bd0\", \"department\": \"Sound\", \"gender\": 0, \"id\": 900, \"job\": \"Supervising Sound Editor\", \"name\": \"Christopher Boyes\"}, {\"credit_id\": \"539c4a4cc3a36810c9002101\", \"department\": \"Production\", \"gender\": 1, \"id\": 1262, \"job\": \"Casting\", \"name\": \"Mali Finn\"}, {\"credit_id\": \"5544ee3b925141499f0008fc\", \"department\": \"Sound\", \"gender\": 2, \"id\": 1729, \"job\": \"Original Music Composer\", \"name\": \"James Horner\"}, {\"credit_id\": \"52fe48009251416c750ac9c3\", \"department\": \"Directing\", \"gender\": 2, \"id\": 2710, \"job\": \"Director\", \"name\": \"James Cameron\"}, {\"credit_id\": \"52fe48009251416c750ac9d9\", \"department\": \"Writing\", \"gender\": 2, \"id\": 2710, \"job\": \"Writer\", \"name\": \"James Cameron\"}, {\"credit_id\": \"52fe48009251416c750aca17\", \"department\": \"Editing\", \"gender\": 2, \"id\": 2710, \"job\": \"Editor\", \"name\": \"James Cameron\"}, {\"credit_id\": \"52fe48009251416c750aca29\", \"department\": \"Production\", \"gender\": 2, \"id\": 2710, \"job\": \"Producer\", \"name\": \"James Cameron\"}, {\"credit_id\": \"52fe48009251416c750aca3f\", \"department\": \"Writing\", \"gender\": 2, \"id\": 2710, \"job\": \"Screenplay\", \"name\": \"James Cameron\"}, {\"credit_id\": \"539c4987c3a36810ba0021a4\", \"department\": \"Art\", \"gender\": 2, \"id\": 7236, \"job\": \"Art Direction\", \"name\": \"Andrew Menzies\"}, {\"credit_id\": \"549598c3c3a3686ae9004383\", \"department\": \"Visual Effects\", \"gender\": 0, \"id\": 6690, \"job\": \"Visual Effects Producer\", \"name\": \"Jill Brooks\"}, {\"credit_id\": \"52fe48009251416c750aca4b\", \"department\": \"Production\", \"gender\": 1, \"id\": 6347, \"job\": \"Casting\", \"name\": \"Margery Simkin\"}, {\"credit_id\": \"570b6f419251417da70032fe\", \"department\": \"Art\", \"gender\": 2, \"id\": 6878, \"job\": \"Supervising Art Director\", \"name\": \"Kevin Ishioka\"}, {\"credit_id\": \"5495a0fac3a3686ae9004468\", \"department\": \"Sound\", \"gender\": 0, \"id\": 6883, \"job\": \"Music Editor\", \"name\": \"Dick Bernstein\"}, {\"credit_id\": \"54959706c3a3686af3003e81\", \"department\": \"Sound\", \"gender\": 0, \"id\": 8159, \"job\": \"Sound Effects Editor\", \"name\": \"Shannon Mills\"}, {\"credit_id\": \"54491d58c3a3680fb1001ccb\", \"department\": \"Sound\", \"gender\": 0, \"id\": 8160, \"job\": \"Foley\", \"name\": \"Dennie Thorpe\"}, {\"credit_id\": \"54491d6cc3a3680fa5001b2c\", \"department\": \"Sound\", \"gender\": 0, \"id\": 8163, \"job\": \"Foley\", \"name\": \"Jana Vance\"}, {\"credit_id\": \"52fe48009251416c750aca57\", \"department\": \"Costume & Make-Up\", \"gender\": 1, \"id\": 8527, \"job\": \"Costume Design\", \"name\": \"Deborah Lynn Scott\"}, {\"credit_id\": \"52fe48009251416c750aca2f\", \"department\": \"Production\", \"gender\": 2, \"id\": 8529, \"job\": \"Producer\", \"name\": \"Jon Landau\"}, {\"credit_id\": \"539c4937c3a36810ba002194\", \"department\": \"Art\", \"gender\": 0, \"id\": 9618, \"job\": \"Art Direction\", \"name\": \"Sean Haworth\"}, {\"credit_id\": \"539c49b6c3a36810c10020e6\", \"department\": \"Art\", \"gender\": 1, \"id\": 12653, \"job\": \"Set Decoration\", \"name\": \"Kim Sinclair\"}, {\"credit_id\": \"570b6f2f9251413a0e00020d\", \"department\": \"Art\", \"gender\": 1, \"id\": 12653, \"job\": \"Supervising Art Director\", \"name\": \"Kim Sinclair\"}, {\"credit_id\": \"54491a6c0e0a26748c001b19\", \"department\": \"Art\", \"gender\": 2, \"id\": 14350, \"job\": \"Set Designer\", \"name\": \"Richard F. Mays\"}, {\"credit_id\": \"56928cf4c3a3684cff0025c4\", \"department\": \"Production\", \"gender\": 1, \"id\": 20294, \"job\": \"Executive Producer\", \"name\": \"Laeta Kalogridis\"}, {\"credit_id\": \"52fe48009251416c750aca51\", \"department\": \"Costume & Make-Up\", \"gender\": 0, \"id\": 17675, \"job\": \"Costume Design\", \"name\": \"Mayes C. Rubeo\"}, {\"credit_id\": \"52fe48009251416c750aca11\", \"department\": \"Camera\", \"gender\": 2, \"id\": 18265, \"job\": \"Director of Photography\", \"name\": \"Mauro Fiore\"}, {\"credit_id\": \"5449194d0e0a26748f001b39\", \"department\": \"Art\", \"gender\": 0, \"id\": 42281, \"job\": \"Set Designer\", \"name\": \"Scott Herbertson\"}, {\"credit_id\": \"52fe48009251416c750aca05\", \"department\": \"Crew\", \"gender\": 0, \"id\": 42288, \"job\": \"Stunts\", \"name\": \"Woody Schultz\"}, {\"credit_id\": \"5592aefb92514152de0010f5\", \"department\": \"Costume & Make-Up\", \"gender\": 0, \"id\": 29067, \"job\": \"Makeup Artist\", \"name\": \"Linda DeVetta\"}, {\"credit_id\": \"5592afa492514152de00112c\", \"department\": \"Costume & Make-Up\", \"gender\": 0, \"id\": 29067, \"job\": \"Hairstylist\", \"name\": \"Linda DeVetta\"}, {\"credit_id\": \"54959ed592514130fc002e5d\", \"department\": \"Camera\", \"gender\": 2, \"id\": 33302, \"job\": \"Camera Operator\", \"name\": \"Richard Bluck\"}, {\"credit_id\": \"539c4891c3a36810ba002147\", \"department\": \"Art\", \"gender\": 2, \"id\": 33303, \"job\": \"Art Direction\", \"name\": \"Simon Bright\"}, {\"credit_id\": \"54959c069251417a81001f3a\", \"department\": \"Visual Effects\", \"gender\": 0, \"id\": 113145, \"job\": \"Visual Effects Supervisor\", \"name\": \"Richard Martin\"}, {\"credit_id\": \"54959a0dc3a3680ff5002c8d\", \"department\": \"Crew\", \"gender\": 2, \"id\": 58188, \"job\": \"Visual Effects Editor\", \"name\": \"Steve R. Moore\"}, {\"credit_id\": \"52fe48009251416c750aca1d\", \"department\": \"Editing\", \"gender\": 2, \"id\": 58871, \"job\": \"Editor\", \"name\": \"John Refoua\"}, {\"credit_id\": \"54491a4dc3a3680fc30018ca\", \"department\": \"Art\", \"gender\": 0, \"id\": 92359, \"job\": \"Set Designer\", \"name\": \"Karl J. Martin\"}, {\"credit_id\": \"52fe48009251416c750aca35\", \"department\": \"Camera\", \"gender\": 1, \"id\": 72201, \"job\": \"Director of Photography\", \"name\": \"Chiling Lin\"}, {\"credit_id\": \"52fe48009251416c750ac9ff\", \"department\": \"Crew\", \"gender\": 0, \"id\": 89714, \"job\": \"Stunts\", \"name\": \"Ilram Choi\"}, {\"credit_id\": \"54959c529251416e2b004394\", \"department\": \"Visual Effects\", \"gender\": 2, \"id\": 93214, \"job\": \"Visual Effects Supervisor\", \"name\": \"Steven Quale\"}, {\"credit_id\": \"54491edf0e0a267489001c37\", \"department\": \"Crew\", \"gender\": 1, \"id\": 122607, \"job\": \"Dialect Coach\", \"name\": \"Carla Meyer\"}, {\"credit_id\": \"539c485bc3a368653d001a3a\", \"department\": \"Art\", \"gender\": 2, \"id\": 132585, \"job\": \"Art Direction\", \"name\": \"Nick Bassett\"}, {\"credit_id\": \"539c4903c3a368653d001a74\", \"department\": \"Art\", \"gender\": 0, \"id\": 132596, \"job\": \"Art Direction\", \"name\": \"Jill Cormack\"}, {\"credit_id\": \"539c4967c3a368653d001a94\", \"department\": \"Art\", \"gender\": 0, \"id\": 132604, \"job\": \"Art Direction\", \"name\": \"Andy McLaren\"}, {\"credit_id\": \"52fe48009251416c750aca45\", \"department\": \"Crew\", \"gender\": 0, \"id\": 236696, \"job\": \"Motion Capture Artist\", \"name\": \"Terry Notary\"}, {\"credit_id\": \"54959e02c3a3680fc60027d2\", \"department\": \"Crew\", \"gender\": 2, \"id\": 956198, \"job\": \"Stunt Coordinator\", \"name\": \"Garrett Warren\"}, {\"credit_id\": \"54959ca3c3a3686ae300438c\", \"department\": \"Visual Effects\", \"gender\": 2, \"id\": 957874, \"job\": \"Visual Effects Supervisor\", \"name\": \"Jonathan Rothbart\"}, {\"credit_id\": \"570b6f519251412c74001b2f\", \"department\": \"Art\", \"gender\": 0, \"id\": 957889, \"job\": \"Supervising Art Director\", \"name\": \"Stefan Dechant\"}, {\"credit_id\": \"570b6f62c3a3680b77007460\", \"department\": \"Art\", \"gender\": 2, \"id\": 959555, \"job\": \"Supervising Art Director\", \"name\": \"Todd Cherniawsky\"}, {\"credit_id\": \"539c4a3ac3a36810da0021cc\", \"department\": \"Production\", \"gender\": 0, \"id\": 1016177, \"job\": \"Casting\", \"name\": \"Miranda Rivers\"}, {\"credit_id\": \"539c482cc3a36810c1002062\", \"department\": \"Art\", \"gender\": 0, \"id\": 1032536, \"job\": \"Production Design\", \"name\": \"Robert Stromberg\"}, {\"credit_id\": \"539c4b65c3a36810c9002125\", \"department\": \"Costume & Make-Up\", \"gender\": 2, \"id\": 1071680, \"job\": \"Costume Design\", \"name\": \"John Harding\"}, {\"credit_id\": \"54959e6692514130fc002e4e\", \"department\": \"Camera\", \"gender\": 0, \"id\": 1177364, \"job\": \"Steadicam Operator\", \"name\": \"Roberto De Angelis\"}, {\"credit_id\": \"539c49f1c3a368653d001aac\", \"department\": \"Costume & Make-Up\", \"gender\": 2, \"id\": 1202850, \"job\": \"Makeup Department Head\", \"name\": \"Mike Smithson\"}, {\"credit_id\": \"5495999ec3a3686ae100460c\", \"department\": \"Visual Effects\", \"gender\": 0, \"id\": 1204668, \"job\": \"Visual Effects Producer\", \"name\": \"Alain Lalanne\"}, {\"credit_id\": \"54959cdfc3a3681153002729\", \"department\": \"Visual Effects\", \"gender\": 0, \"id\": 1206410, \"job\": \"Visual Effects Supervisor\", \"name\": \"Lucas Salton\"}, {\"credit_id\": \"549596239251417a81001eae\", \"department\": \"Crew\", \"gender\": 0, \"id\": 1234266, \"job\": \"Post Production Supervisor\", \"name\": \"Janace Tashjian\"}, {\"credit_id\": \"54959c859251416e1e003efe\", \"department\": \"Visual Effects\", \"gender\": 0, \"id\": 1271932, \"job\": \"Visual Effects Supervisor\", \"name\": \"Stephen Rosenbaum\"}, {\"credit_id\": \"5592af28c3a368775a00105f\", \"department\": \"Costume & Make-Up\", \"gender\": 0, \"id\": 1310064, \"job\": \"Makeup Artist\", \"name\": \"Frankie Karena\"}, {\"credit_id\": \"539c4adfc3a36810e300203b\", \"department\": \"Costume & Make-Up\", \"gender\": 1, \"id\": 1319844, \"job\": \"Costume Supervisor\", \"name\": \"Lisa Lovaas\"}, {\"credit_id\": \"54959b579251416e2b004371\", \"department\": \"Visual Effects\", \"gender\": 0, \"id\": 1327028, \"job\": \"Visual Effects Supervisor\", \"name\": \"Jonathan Fawkner\"}, {\"credit_id\": \"539c48a7c3a36810b5001fa7\", \"department\": \"Art\", \"gender\": 0, \"id\": 1330561, \"job\": \"Art Direction\", \"name\": \"Robert Bavin\"}, {\"credit_id\": \"539c4a71c3a36810da0021e0\", \"department\": \"Costume & Make-Up\", \"gender\": 0, \"id\": 1330567, \"job\": \"Costume Supervisor\", \"name\": \"Anthony Almaraz\"}, {\"credit_id\": \"539c4a8ac3a36810ba0021e4\", \"department\": \"Costume & Make-Up\", \"gender\": 0, \"id\": 1330570, \"job\": \"Costume Supervisor\", \"name\": \"Carolyn M. Fenton\"}, {\"credit_id\": \"539c4ab6c3a36810da0021f0\", \"department\": \"Costume & Make-Up\", \"gender\": 0, \"id\": 1330574, \"job\": \"Costume Supervisor\", \"name\": \"Beth Koenigsberg\"}, {\"credit_id\": \"54491ab70e0a267480001ba2\", \"department\": \"Art\", \"gender\": 0, \"id\": 1336191, \"job\": \"Set Designer\", \"name\": \"Sam Page\"}, {\"credit_id\": \"544919d9c3a3680fc30018bd\", \"department\": \"Art\", \"gender\": 0, \"id\": 1339441, \"job\": \"Set Designer\", \"name\": \"Tex Kadonaga\"}, {\"credit_id\": \"54491cf50e0a267483001b0c\", \"department\": \"Editing\", \"gender\": 0, \"id\": 1352422, \"job\": \"Dialogue Editor\", \"name\": \"Kim Foscato\"}, {\"credit_id\": \"544919f40e0a26748c001b09\", \"department\": \"Art\", \"gender\": 0, \"id\": 1352962, \"job\": \"Set Designer\", \"name\": \"Tammy S. Lee\"}, {\"credit_id\": \"5495a115c3a3680ff5002d71\", \"department\": \"Crew\", \"gender\": 0, \"id\": 1357070, \"job\": \"Transportation Coordinator\", \"name\": \"Denny Caira\"}, {\"credit_id\": \"5495a12f92514130fc002e94\", \"department\": \"Crew\", \"gender\": 0, \"id\": 1357071, \"job\": \"Transportation Coordinator\", \"name\": \"James Waitkus\"}, {\"credit_id\": \"5495976fc3a36811530026b0\", \"department\": \"Sound\", \"gender\": 0, \"id\": 1360103, \"job\": \"Supervising Sound Editor\", \"name\": \"Addison Teague\"}, {\"credit_id\": \"54491837c3a3680fb1001c5a\", \"department\": \"Art\", \"gender\": 2, \"id\": 1376887, \"job\": \"Set Designer\", \"name\": \"C. Scott Baker\"}, {\"credit_id\": \"54491878c3a3680fb4001c9d\", \"department\": \"Art\", \"gender\": 0, \"id\": 1376888, \"job\": \"Set Designer\", \"name\": \"Luke Caska\"}, {\"credit_id\": \"544918dac3a3680fa5001ae0\", \"department\": \"Art\", \"gender\": 0, \"id\": 1376889, \"job\": \"Set Designer\", \"name\": \"David Chow\"}, {\"credit_id\": \"544919110e0a267486001b68\", \"department\": \"Art\", \"gender\": 0, \"id\": 1376890, \"job\": \"Set Designer\", \"name\": \"Jonathan Dyer\"}, {\"credit_id\": \"54491967c3a3680faa001b5e\", \"department\": \"Art\", \"gender\": 0, \"id\": 1376891, \"job\": \"Set Designer\", \"name\": \"Joseph Hiura\"}, {\"credit_id\": \"54491997c3a3680fb1001c8a\", \"department\": \"Art\", \"gender\": 0, \"id\": 1376892, \"job\": \"Art Department Coordinator\", \"name\": \"Rebecca Jellie\"}, {\"credit_id\": \"544919ba0e0a26748f001b42\", \"department\": \"Art\", \"gender\": 0, \"id\": 1376893, \"job\": \"Set Designer\", \"name\": \"Robert Andrew Johnson\"}, {\"credit_id\": \"54491b1dc3a3680faa001b8c\", \"department\": \"Art\", \"gender\": 0, \"id\": 1376895, \"job\": \"Assistant Art Director\", \"name\": \"Mike Stassi\"}, {\"credit_id\": \"54491b79c3a3680fbb001826\", \"department\": \"Art\", \"gender\": 0, \"id\": 1376897, \"job\": \"Construction Coordinator\", \"name\": \"John Villarino\"}, {\"credit_id\": \"54491baec3a3680fb4001ce6\", \"department\": \"Art\", \"gender\": 2, \"id\": 1376898, \"job\": \"Assistant Art Director\", \"name\": \"Jeffrey Wisniewski\"}, {\"credit_id\": \"54491d2fc3a3680fb4001d07\", \"department\": \"Editing\", \"gender\": 0, \"id\": 1376899, \"job\": \"Dialogue Editor\", \"name\": \"Cheryl Nardi\"}, {\"credit_id\": \"54491d86c3a3680fa5001b2f\", \"department\": \"Editing\", \"gender\": 0, \"id\": 1376901, \"job\": \"Dialogue Editor\", \"name\": \"Marshall Winn\"}, {\"credit_id\": \"54491d9dc3a3680faa001bb0\", \"department\": \"Sound\", \"gender\": 0, \"id\": 1376902, \"job\": \"Supervising Sound Editor\", \"name\": \"Gwendolyn Yates Whittle\"}, {\"credit_id\": \"54491dc10e0a267486001bce\", \"department\": \"Sound\", \"gender\": 0, \"id\": 1376903, \"job\": \"Sound Re-Recording Mixer\", \"name\": \"William Stein\"}, {\"credit_id\": \"54491f500e0a26747c001c07\", \"department\": \"Crew\", \"gender\": 0, \"id\": 1376909, \"job\": \"Choreographer\", \"name\": \"Lula Washington\"}, {\"credit_id\": \"549599239251412c4e002a2e\", \"department\": \"Visual Effects\", \"gender\": 0, \"id\": 1391692, \"job\": \"Visual Effects Producer\", \"name\": \"Chris Del Conte\"}, {\"credit_id\": \"54959d54c3a36831b8001d9a\", \"department\": \"Visual Effects\", \"gender\": 2, \"id\": 1391695, \"job\": \"Visual Effects Supervisor\", \"name\": \"R. Christopher White\"}, {\"credit_id\": \"54959bdf9251412c4e002a66\", \"department\": \"Visual Effects\", \"gender\": 0, \"id\": 1394070, \"job\": \"Visual Effects Supervisor\", \"name\": \"Dan Lemmon\"}, {\"credit_id\": \"5495971d92514132ed002922\", \"department\": \"Sound\", \"gender\": 0, \"id\": 1394129, \"job\": \"Sound Effects Editor\", \"name\": \"Tim Nielsen\"}, {\"credit_id\": \"5592b25792514152cc0011aa\", \"department\": \"Crew\", \"gender\": 0, \"id\": 1394286, \"job\": \"CG Supervisor\", \"name\": \"Michael Mulholland\"}, {\"credit_id\": \"54959a329251416e2b004355\", \"department\": \"Crew\", \"gender\": 0, \"id\": 1394750, \"job\": \"Visual Effects Editor\", \"name\": \"Thomas Nittmann\"}, {\"credit_id\": \"54959d6dc3a3686ae9004401\", \"department\": \"Visual Effects\", \"gender\": 0, \"id\": 1394755, \"job\": \"Visual Effects Supervisor\", \"name\": \"Edson Williams\"}, {\"credit_id\": \"5495a08fc3a3686ae300441c\", \"department\": \"Editing\", \"gender\": 0, \"id\": 1394953, \"job\": \"Digital Intermediate\", \"name\": \"Christine Carr\"}, {\"credit_id\": \"55402d659251413d6d000249\", \"department\": \"Visual Effects\", \"gender\": 0, \"id\": 1395269, \"job\": \"Visual Effects Supervisor\", \"name\": \"John Bruno\"}, {\"credit_id\": \"54959e7b9251416e1e003f3e\", \"department\": \"Camera\", \"gender\": 0, \"id\": 1398970, \"job\": \"Steadicam Operator\", \"name\": \"David Emmerichs\"}, {\"credit_id\": \"54959734c3a3686ae10045e0\", \"department\": \"Sound\", \"gender\": 0, \"id\": 1400906, \"job\": \"Sound Effects Editor\", \"name\": \"Christopher Scarabosio\"}, {\"credit_id\": \"549595dd92514130fc002d79\", \"department\": \"Production\", \"gender\": 0, \"id\": 1401784, \"job\": \"Production Supervisor\", \"name\": \"Jennifer Teves\"}, {\"credit_id\": \"549596009251413af70028cc\", \"department\": \"Production\", \"gender\": 0, \"id\": 1401785, \"job\": \"Production Manager\", \"name\": \"Brigitte Yorke\"}, {\"credit_id\": \"549596e892514130fc002d99\", \"department\": \"Sound\", \"gender\": 0, \"id\": 1401786, \"job\": \"Sound Effects Editor\", \"name\": \"Ken Fischer\"}, {\"credit_id\": \"549598229251412c4e002a1c\", \"department\": \"Crew\", \"gender\": 0, \"id\": 1401787, \"job\": \"Special Effects Coordinator\", \"name\": \"Iain Hutton\"}, {\"credit_id\": \"549598349251416e2b00432b\", \"department\": \"Crew\", \"gender\": 0, \"id\": 1401788, \"job\": \"Special Effects Coordinator\", \"name\": \"Steve Ingram\"}, {\"credit_id\": \"54959905c3a3686ae3004324\", \"department\": \"Visual Effects\", \"gender\": 0, \"id\": 1401789, \"job\": \"Visual Effects Producer\", \"name\": \"Joyce Cox\"}, {\"credit_id\": \"5495994b92514132ed002951\", \"department\": \"Visual Effects\", \"gender\": 0, \"id\": 1401790, \"job\": \"Visual Effects Producer\", \"name\": \"Jenny Foster\"}, {\"credit_id\": \"549599cbc3a3686ae1004613\", \"department\": \"Crew\", \"gender\": 0, \"id\": 1401791, \"job\": \"Visual Effects Editor\", \"name\": \"Christopher Marino\"}, {\"credit_id\": \"549599f2c3a3686ae100461e\", \"department\": \"Crew\", \"gender\": 0, \"id\": 1401792, \"job\": \"Visual Effects Editor\", \"name\": \"Jim Milton\"}, {\"credit_id\": \"54959a51c3a3686af3003eb5\", \"department\": \"Visual Effects\", \"gender\": 0, \"id\": 1401793, \"job\": \"Visual Effects Producer\", \"name\": \"Cyndi Ochs\"}, {\"credit_id\": \"54959a7cc3a36811530026f4\", \"department\": \"Crew\", \"gender\": 0, \"id\": 1401794, \"job\": \"Visual Effects Editor\", \"name\": \"Lucas Putnam\"}, {\"credit_id\": \"54959b91c3a3680ff5002cb4\", \"department\": \"Visual Effects\", \"gender\": 0, \"id\": 1401795, \"job\": \"Visual Effects Supervisor\", \"name\": \"Anthony 'Max' Ivins\"}, {\"credit_id\": \"54959bb69251412c4e002a5f\", \"department\": \"Visual Effects\", \"gender\": 0, \"id\": 1401796, \"job\": \"Visual Effects Supervisor\", \"name\": \"John Knoll\"}, {\"credit_id\": \"54959cbbc3a3686ae3004391\", \"department\": \"Visual Effects\", \"gender\": 2, \"id\": 1401799, \"job\": \"Visual Effects Supervisor\", \"name\": \"Eric Saindon\"}, {\"credit_id\": \"54959d06c3a3686ae90043f6\", \"department\": \"Visual Effects\", \"gender\": 0, \"id\": 1401800, \"job\": \"Visual Effects Supervisor\", \"name\": \"Wayne Stables\"}, {\"credit_id\": \"54959d259251416e1e003f11\", \"department\": \"Visual Effects\", \"gender\": 0, \"id\": 1401801, \"job\": \"Visual Effects Supervisor\", \"name\": \"David Stinnett\"}, {\"credit_id\": \"54959db49251413af7002975\", \"department\": \"Visual Effects\", \"gender\": 0, \"id\": 1401803, \"job\": \"Visual Effects Supervisor\", \"name\": \"Guy Williams\"}, {\"credit_id\": \"54959de4c3a3681153002750\", \"department\": \"Crew\", \"gender\": 0, \"id\": 1401804, \"job\": \"Stunt Coordinator\", \"name\": \"Stuart Thorp\"}, {\"credit_id\": \"54959ef2c3a3680fc60027f2\", \"department\": \"Lighting\", \"gender\": 0, \"id\": 1401805, \"job\": \"Best Boy Electric\", \"name\": \"Giles Coburn\"}, {\"credit_id\": \"54959f07c3a3680fc60027f9\", \"department\": \"Camera\", \"gender\": 2, \"id\": 1401806, \"job\": \"Still Photographer\", \"name\": \"Mark Fellman\"}, {\"credit_id\": \"54959f47c3a3681153002774\", \"department\": \"Lighting\", \"gender\": 0, \"id\": 1401807, \"job\": \"Lighting Technician\", \"name\": \"Scott Sprague\"}, {\"credit_id\": \"54959f8cc3a36831b8001df2\", \"department\": \"Visual Effects\", \"gender\": 0, \"id\": 1401808, \"job\": \"Animation Director\", \"name\": \"Jeremy Hollobon\"}, {\"credit_id\": \"54959fa0c3a36831b8001dfb\", \"department\": \"Visual Effects\", \"gender\": 0, \"id\": 1401809, \"job\": \"Animation Director\", \"name\": \"Orlando Meunier\"}, {\"credit_id\": \"54959fb6c3a3686af3003f54\", \"department\": \"Visual Effects\", \"gender\": 0, \"id\": 1401810, \"job\": \"Animation Director\", \"name\": \"Taisuke Tanimura\"}, {\"credit_id\": \"54959fd2c3a36831b8001e02\", \"department\": \"Costume & Make-Up\", \"gender\": 0, \"id\": 1401812, \"job\": \"Set Costumer\", \"name\": \"Lilia Mishel Acevedo\"}, {\"credit_id\": \"54959ff9c3a3686ae300440c\", \"department\": \"Costume & Make-Up\", \"gender\": 0, \"id\": 1401814, \"job\": \"Set Costumer\", \"name\": \"Alejandro M. Hernandez\"}, {\"credit_id\": \"5495a0ddc3a3686ae10046fe\", \"department\": \"Editing\", \"gender\": 0, \"id\": 1401815, \"job\": \"Digital Intermediate\", \"name\": \"Marvin Hall\"}, {\"credit_id\": \"5495a1f7c3a3686ae3004443\", \"department\": \"Production\", \"gender\": 0, \"id\": 1401816, \"job\": \"Publicist\", \"name\": \"Judy Alley\"}, {\"credit_id\": \"5592b29fc3a36869d100002f\", \"department\": \"Crew\", \"gender\": 0, \"id\": 1418381, \"job\": \"CG Supervisor\", \"name\": \"Mike Perry\"}, {\"credit_id\": \"5592b23a9251415df8001081\", \"department\": \"Crew\", \"gender\": 0, \"id\": 1426854, \"job\": \"CG Supervisor\", \"name\": \"Andrew Morley\"}, {\"credit_id\": \"55491e1192514104c40002d8\", \"department\": \"Art\", \"gender\": 0, \"id\": 1438901, \"job\": \"Conceptual Design\", \"name\": \"Seth Engstrom\"}, {\"credit_id\": \"5525d5809251417276002b06\", \"department\": \"Crew\", \"gender\": 0, \"id\": 1447362, \"job\": \"Visual Effects Art Director\", \"name\": \"Eric Oliver\"}, {\"credit_id\": \"554427ca925141586500312a\", \"department\": \"Visual Effects\", \"gender\": 0, \"id\": 1447503, \"job\": \"Modeling\", \"name\": \"Matsune Suzuki\"}, {\"credit_id\": \"551906889251415aab001c88\", \"department\": \"Art\", \"gender\": 0, \"id\": 1447524, \"job\": \"Art Department Manager\", \"name\": \"Paul Tobin\"}, {\"credit_id\": \"5592af8492514152cc0010de\", \"department\": \"Costume & Make-Up\", \"gender\": 0, \"id\": 1452643, \"job\": \"Hairstylist\", \"name\": \"Roxane Griffin\"}, {\"credit_id\": \"553d3c109251415852001318\", \"department\": \"Lighting\", \"gender\": 0, \"id\": 1453938, \"job\": \"Lighting Artist\", \"name\": \"Arun Ram-Mohan\"}, {\"credit_id\": \"5592af4692514152d5001355\", \"department\": \"Costume & Make-Up\", \"gender\": 0, \"id\": 1457305, \"job\": \"Makeup Artist\", \"name\": \"Georgia Lockhart-Adams\"}, {\"credit_id\": \"5592b2eac3a36877470012a5\", \"department\": \"Crew\", \"gender\": 0, \"id\": 1466035, \"job\": \"CG Supervisor\", \"name\": \"Thrain Shadbolt\"}, {\"credit_id\": \"5592b032c3a36877450015f1\", \"department\": \"Crew\", \"gender\": 0, \"id\": 1483220, \"job\": \"CG Supervisor\", \"name\": \"Brad Alexander\"}, {\"credit_id\": \"5592b05592514152d80012f6\", \"department\": \"Crew\", \"gender\": 0, \"id\": 1483221, \"job\": \"CG Supervisor\", \"name\": \"Shadi Almassizadeh\"}, {\"credit_id\": \"5592b090c3a36877570010b5\", \"department\": \"Crew\", \"gender\": 0, \"id\": 1483222, \"job\": \"CG Supervisor\", \"name\": \"Simon Clutterbuck\"}, {\"credit_id\": \"5592b0dbc3a368774b00112c\", \"department\": \"Crew\", \"gender\": 0, \"id\": 1483223, \"job\": \"CG Supervisor\", \"name\": \"Graeme Demmocks\"}, {\"credit_id\": \"5592b0fe92514152db0010c1\", \"department\": \"Crew\", \"gender\": 0, \"id\": 1483224, \"job\": \"CG Supervisor\", \"name\": \"Adrian Fernandes\"}, {\"credit_id\": \"5592b11f9251415df8001059\", \"department\": \"Crew\", \"gender\": 0, \"id\": 1483225, \"job\": \"CG Supervisor\", \"name\": \"Mitch Gates\"}, {\"credit_id\": \"5592b15dc3a3687745001645\", \"department\": \"Crew\", \"gender\": 0, \"id\": 1483226, \"job\": \"CG Supervisor\", \"name\": \"Jerry Kung\"}, {\"credit_id\": \"5592b18e925141645a0004ae\", \"department\": \"Crew\", \"gender\": 0, \"id\": 1483227, \"job\": \"CG Supervisor\", \"name\": \"Andy Lomas\"}, {\"credit_id\": \"5592b1bfc3a368775d0010e7\", \"department\": \"Crew\", \"gender\": 0, \"id\": 1483228, \"job\": \"CG Supervisor\", \"name\": \"Sebastian Marino\"}, {\"credit_id\": \"5592b2049251415df8001078\", \"department\": \"Crew\", \"gender\": 0, \"id\": 1483229, \"job\": \"CG Supervisor\", \"name\": \"Matthias Menz\"}, {\"credit_id\": \"5592b27b92514152d800136a\", \"department\": \"Crew\", \"gender\": 0, \"id\": 1483230, \"job\": \"CG Supervisor\", \"name\": \"Sergei Nevshupov\"}, {\"credit_id\": \"5592b2c3c3a36869e800003c\", \"department\": \"Crew\", \"gender\": 0, \"id\": 1483231, \"job\": \"CG Supervisor\", \"name\": \"Philippe Rebours\"}, {\"credit_id\": \"5592b317c3a36877470012af\", \"department\": \"Crew\", \"gender\": 0, \"id\": 1483232, \"job\": \"CG Supervisor\", \"name\": \"Michael Takarangi\"}, {\"credit_id\": \"5592b345c3a36877470012bb\", \"department\": \"Crew\", \"gender\": 0, \"id\": 1483233, \"job\": \"CG Supervisor\", \"name\": \"David Weitzberg\"}, {\"credit_id\": \"5592b37cc3a368775100113b\", \"department\": \"Crew\", \"gender\": 0, \"id\": 1483234, \"job\": \"CG Supervisor\", \"name\": \"Ben White\"}, {\"credit_id\": \"573c8e2f9251413f5d000094\", \"department\": \"Crew\", \"gender\": 1, \"id\": 1621932, \"job\": \"Stunts\", \"name\": \"Min Windle\"}]"
        ]
       ],
       "shape": {
        "columns": 7,
        "rows": 1
       }
      },
      "text/html": [
       "<div>\n",
       "<style scoped>\n",
       "    .dataframe tbody tr th:only-of-type {\n",
       "        vertical-align: middle;\n",
       "    }\n",
       "\n",
       "    .dataframe tbody tr th {\n",
       "        vertical-align: top;\n",
       "    }\n",
       "\n",
       "    .dataframe thead th {\n",
       "        text-align: right;\n",
       "    }\n",
       "</style>\n",
       "<table border=\"1\" class=\"dataframe\">\n",
       "  <thead>\n",
       "    <tr style=\"text-align: right;\">\n",
       "      <th></th>\n",
       "      <th>movie_id</th>\n",
       "      <th>title</th>\n",
       "      <th>overview</th>\n",
       "      <th>genres</th>\n",
       "      <th>keywords</th>\n",
       "      <th>cast</th>\n",
       "      <th>crew</th>\n",
       "    </tr>\n",
       "  </thead>\n",
       "  <tbody>\n",
       "    <tr>\n",
       "      <th>0</th>\n",
       "      <td>19995</td>\n",
       "      <td>Avatar</td>\n",
       "      <td>In the 22nd century, a paraplegic Marine is di...</td>\n",
       "      <td>[{\"id\": 28, \"name\": \"Action\"}, {\"id\": 12, \"nam...</td>\n",
       "      <td>[{\"id\": 1463, \"name\": \"culture clash\"}, {\"id\":...</td>\n",
       "      <td>[{\"cast_id\": 242, \"character\": \"Jake Sully\", \"...</td>\n",
       "      <td>[{\"credit_id\": \"52fe48009251416c750aca23\", \"de...</td>\n",
       "    </tr>\n",
       "  </tbody>\n",
       "</table>\n",
       "</div>"
      ],
      "text/plain": [
       "   movie_id   title                                           overview  \\\n",
       "0     19995  Avatar  In the 22nd century, a paraplegic Marine is di...   \n",
       "\n",
       "                                              genres  \\\n",
       "0  [{\"id\": 28, \"name\": \"Action\"}, {\"id\": 12, \"nam...   \n",
       "\n",
       "                                            keywords  \\\n",
       "0  [{\"id\": 1463, \"name\": \"culture clash\"}, {\"id\":...   \n",
       "\n",
       "                                                cast  \\\n",
       "0  [{\"cast_id\": 242, \"character\": \"Jake Sully\", \"...   \n",
       "\n",
       "                                                crew  \n",
       "0  [{\"credit_id\": \"52fe48009251416c750aca23\", \"de...  "
      ]
     },
     "execution_count": 9,
     "metadata": {},
     "output_type": "execute_result"
    }
   ],
   "source": [
    "movies = movies[['movie_id', 'title', 'overview', 'genres', 'keywords',  'cast', 'crew']]\n",
    "movies.head(1)"
   ]
  },
  {
   "cell_type": "code",
   "execution_count": 10,
   "id": "1be7d543",
   "metadata": {},
   "outputs": [
    {
     "data": {
      "application/vnd.microsoft.datawrangler.viewer.v0+json": {
       "columns": [
        {
         "name": "index",
         "rawType": "object",
         "type": "string"
        },
        {
         "name": "0",
         "rawType": "int64",
         "type": "integer"
        }
       ],
       "ref": "621d4985-0262-434b-9b70-b3a7713679fd",
       "rows": [
        [
         "movie_id",
         "0"
        ],
        [
         "title",
         "0"
        ],
        [
         "overview",
         "0"
        ],
        [
         "genres",
         "0"
        ],
        [
         "keywords",
         "0"
        ],
        [
         "cast",
         "0"
        ],
        [
         "crew",
         "0"
        ]
       ],
       "shape": {
        "columns": 1,
        "rows": 7
       }
      },
      "text/plain": [
       "movie_id    0\n",
       "title       0\n",
       "overview    0\n",
       "genres      0\n",
       "keywords    0\n",
       "cast        0\n",
       "crew        0\n",
       "dtype: int64"
      ]
     },
     "execution_count": 10,
     "metadata": {},
     "output_type": "execute_result"
    }
   ],
   "source": [
    "#check missing values\n",
    "movies.isna().sum()"
   ]
  },
  {
   "cell_type": "code",
   "execution_count": 11,
   "id": "620afc78",
   "metadata": {},
   "outputs": [
    {
     "data": {
      "application/vnd.microsoft.datawrangler.viewer.v0+json": {
       "columns": [
        {
         "name": "index",
         "rawType": "object",
         "type": "string"
        },
        {
         "name": "0",
         "rawType": "int64",
         "type": "integer"
        }
       ],
       "ref": "a8bb3e8e-4dc9-4599-8bc3-b479687c5d5a",
       "rows": [
        [
         "movie_id",
         "0"
        ],
        [
         "title",
         "0"
        ],
        [
         "overview",
         "0"
        ],
        [
         "genres",
         "0"
        ],
        [
         "keywords",
         "0"
        ],
        [
         "cast",
         "0"
        ],
        [
         "crew",
         "0"
        ]
       ],
       "shape": {
        "columns": 1,
        "rows": 7
       }
      },
      "text/plain": [
       "movie_id    0\n",
       "title       0\n",
       "overview    0\n",
       "genres      0\n",
       "keywords    0\n",
       "cast        0\n",
       "crew        0\n",
       "dtype: int64"
      ]
     },
     "execution_count": 11,
     "metadata": {},
     "output_type": "execute_result"
    }
   ],
   "source": [
    "movies.dropna(inplace=True)\n",
    "movies.isna().sum()"
   ]
  },
  {
   "cell_type": "code",
   "execution_count": 12,
   "id": "d628d2b1",
   "metadata": {},
   "outputs": [
    {
     "data": {
      "text/plain": [
       "np.int64(0)"
      ]
     },
     "execution_count": 12,
     "metadata": {},
     "output_type": "execute_result"
    }
   ],
   "source": [
    "#lets check duplicate values\n",
    "movies.duplicated().sum()"
   ]
  },
  {
   "cell_type": "markdown",
   "id": "ac2ca558",
   "metadata": {},
   "source": []
  },
  {
   "cell_type": "code",
   "execution_count": 13,
   "id": "61aa2b3f",
   "metadata": {},
   "outputs": [
    {
     "data": {
      "text/plain": [
       "'[{\"id\": 28, \"name\": \"Action\"}, {\"id\": 12, \"name\": \"Adventure\"}, {\"id\": 14, \"name\": \"Fantasy\"}, {\"id\": 878, \"name\": \"Science Fiction\"}]'"
      ]
     },
     "execution_count": 13,
     "metadata": {},
     "output_type": "execute_result"
    }
   ],
   "source": [
    "movies.iloc[0].genres"
   ]
  },
  {
   "cell_type": "code",
   "execution_count": 14,
   "id": "b405ebe6",
   "metadata": {},
   "outputs": [],
   "source": [
    "#[{\"id\": 28, \"name\": \"Action\"}, {\"id\": 12, \"name\": \"Adventure\"}, {\"id\": 14, \"name\": \"Fantasy\"}, {\"id\": 878, \"name\": \"Science Fiction\"}]'\n",
    "#we need this form : ['Action', 'Adventure', 'Fantasy', 'Science Fiction']\n",
    "# if now we will try to call covert fucntion it will throw error bcz data is in string so first have to convert it into list\n",
    "\n",
    "import ast\n",
    "\n",
    "def convert(obj):\n",
    "    l = []\n",
    "    for i in ast.literal_eval(obj):\n",
    "        l.append(i['name'])\n",
    "    return l"
   ]
  },
  {
   "cell_type": "code",
   "execution_count": 15,
   "id": "f22cb054",
   "metadata": {},
   "outputs": [],
   "source": [
    "movies['genres'] = movies.genres.apply(convert)\n",
    "movies['keywords'] = movies.keywords.apply(convert)"
   ]
  },
  {
   "cell_type": "code",
   "execution_count": 16,
   "id": "21760054",
   "metadata": {},
   "outputs": [],
   "source": [
    "import ast\n",
    "\n",
    "def convert3(obj):\n",
    "    l = []\n",
    "    counter = 0\n",
    "    for i in ast.literal_eval(obj):\n",
    "        if counter != 3:\n",
    "            l.append(i['name'])\n",
    "            counter += 1\n",
    "        else:\n",
    "            break\n",
    "    return l"
   ]
  },
  {
   "cell_type": "code",
   "execution_count": 17,
   "id": "b66e89e9",
   "metadata": {},
   "outputs": [
    {
     "data": {
      "application/vnd.microsoft.datawrangler.viewer.v0+json": {
       "columns": [
        {
         "name": "index",
         "rawType": "int64",
         "type": "integer"
        },
        {
         "name": "movie_id",
         "rawType": "int64",
         "type": "integer"
        },
        {
         "name": "title",
         "rawType": "object",
         "type": "string"
        },
        {
         "name": "overview",
         "rawType": "object",
         "type": "string"
        },
        {
         "name": "genres",
         "rawType": "object",
         "type": "unknown"
        },
        {
         "name": "keywords",
         "rawType": "object",
         "type": "unknown"
        },
        {
         "name": "cast",
         "rawType": "object",
         "type": "unknown"
        },
        {
         "name": "crew",
         "rawType": "object",
         "type": "string"
        }
       ],
       "ref": "378cf5ff-720d-4185-ad92-fad4d8950328",
       "rows": [
        [
         "0",
         "19995",
         "Avatar",
         "In the 22nd century, a paraplegic Marine is dispatched to the moon Pandora on a unique mission, but becomes torn between following orders and protecting an alien civilization.",
         "['Action', 'Adventure', 'Fantasy', 'Science Fiction']",
         "['culture clash', 'future', 'space war', 'space colony', 'society', 'space travel', 'futuristic', 'romance', 'space', 'alien', 'tribe', 'alien planet', 'cgi', 'marine', 'soldier', 'battle', 'love affair', 'anti war', 'power relations', 'mind and soul', '3d']",
         "['Sam Worthington', 'Zoe Saldana', 'Sigourney Weaver']",
         "[{\"credit_id\": \"52fe48009251416c750aca23\", \"department\": \"Editing\", \"gender\": 0, \"id\": 1721, \"job\": \"Editor\", \"name\": \"Stephen E. Rivkin\"}, {\"credit_id\": \"539c47ecc3a36810e3001f87\", \"department\": \"Art\", \"gender\": 2, \"id\": 496, \"job\": \"Production Design\", \"name\": \"Rick Carter\"}, {\"credit_id\": \"54491c89c3a3680fb4001cf7\", \"department\": \"Sound\", \"gender\": 0, \"id\": 900, \"job\": \"Sound Designer\", \"name\": \"Christopher Boyes\"}, {\"credit_id\": \"54491cb70e0a267480001bd0\", \"department\": \"Sound\", \"gender\": 0, \"id\": 900, \"job\": \"Supervising Sound Editor\", \"name\": \"Christopher Boyes\"}, {\"credit_id\": \"539c4a4cc3a36810c9002101\", \"department\": \"Production\", \"gender\": 1, \"id\": 1262, \"job\": \"Casting\", \"name\": \"Mali Finn\"}, {\"credit_id\": \"5544ee3b925141499f0008fc\", \"department\": \"Sound\", \"gender\": 2, \"id\": 1729, \"job\": \"Original Music Composer\", \"name\": \"James Horner\"}, {\"credit_id\": \"52fe48009251416c750ac9c3\", \"department\": \"Directing\", \"gender\": 2, \"id\": 2710, \"job\": \"Director\", \"name\": \"James Cameron\"}, {\"credit_id\": \"52fe48009251416c750ac9d9\", \"department\": \"Writing\", \"gender\": 2, \"id\": 2710, \"job\": \"Writer\", \"name\": \"James Cameron\"}, {\"credit_id\": \"52fe48009251416c750aca17\", \"department\": \"Editing\", \"gender\": 2, \"id\": 2710, \"job\": \"Editor\", \"name\": \"James Cameron\"}, {\"credit_id\": \"52fe48009251416c750aca29\", \"department\": \"Production\", \"gender\": 2, \"id\": 2710, \"job\": \"Producer\", \"name\": \"James Cameron\"}, {\"credit_id\": \"52fe48009251416c750aca3f\", \"department\": \"Writing\", \"gender\": 2, \"id\": 2710, \"job\": \"Screenplay\", \"name\": \"James Cameron\"}, {\"credit_id\": \"539c4987c3a36810ba0021a4\", \"department\": \"Art\", \"gender\": 2, \"id\": 7236, \"job\": \"Art Direction\", \"name\": \"Andrew Menzies\"}, {\"credit_id\": \"549598c3c3a3686ae9004383\", \"department\": \"Visual Effects\", \"gender\": 0, \"id\": 6690, \"job\": \"Visual Effects Producer\", \"name\": \"Jill Brooks\"}, {\"credit_id\": \"52fe48009251416c750aca4b\", \"department\": \"Production\", \"gender\": 1, \"id\": 6347, \"job\": \"Casting\", \"name\": \"Margery Simkin\"}, {\"credit_id\": \"570b6f419251417da70032fe\", \"department\": \"Art\", \"gender\": 2, \"id\": 6878, \"job\": \"Supervising Art Director\", \"name\": \"Kevin Ishioka\"}, {\"credit_id\": \"5495a0fac3a3686ae9004468\", \"department\": \"Sound\", \"gender\": 0, \"id\": 6883, \"job\": \"Music Editor\", \"name\": \"Dick Bernstein\"}, {\"credit_id\": \"54959706c3a3686af3003e81\", \"department\": \"Sound\", \"gender\": 0, \"id\": 8159, \"job\": \"Sound Effects Editor\", \"name\": \"Shannon Mills\"}, {\"credit_id\": \"54491d58c3a3680fb1001ccb\", \"department\": \"Sound\", \"gender\": 0, \"id\": 8160, \"job\": \"Foley\", \"name\": \"Dennie Thorpe\"}, {\"credit_id\": \"54491d6cc3a3680fa5001b2c\", \"department\": \"Sound\", \"gender\": 0, \"id\": 8163, \"job\": \"Foley\", \"name\": \"Jana Vance\"}, {\"credit_id\": \"52fe48009251416c750aca57\", \"department\": \"Costume & Make-Up\", \"gender\": 1, \"id\": 8527, \"job\": \"Costume Design\", \"name\": \"Deborah Lynn Scott\"}, {\"credit_id\": \"52fe48009251416c750aca2f\", \"department\": \"Production\", \"gender\": 2, \"id\": 8529, \"job\": \"Producer\", \"name\": \"Jon Landau\"}, {\"credit_id\": \"539c4937c3a36810ba002194\", \"department\": \"Art\", \"gender\": 0, \"id\": 9618, \"job\": \"Art Direction\", \"name\": \"Sean Haworth\"}, {\"credit_id\": \"539c49b6c3a36810c10020e6\", \"department\": \"Art\", \"gender\": 1, \"id\": 12653, \"job\": \"Set Decoration\", \"name\": \"Kim Sinclair\"}, {\"credit_id\": \"570b6f2f9251413a0e00020d\", \"department\": \"Art\", \"gender\": 1, \"id\": 12653, \"job\": \"Supervising Art Director\", \"name\": \"Kim Sinclair\"}, {\"credit_id\": \"54491a6c0e0a26748c001b19\", \"department\": \"Art\", \"gender\": 2, \"id\": 14350, \"job\": \"Set Designer\", \"name\": \"Richard F. Mays\"}, {\"credit_id\": \"56928cf4c3a3684cff0025c4\", \"department\": \"Production\", \"gender\": 1, \"id\": 20294, \"job\": \"Executive Producer\", \"name\": \"Laeta Kalogridis\"}, {\"credit_id\": \"52fe48009251416c750aca51\", \"department\": \"Costume & Make-Up\", \"gender\": 0, \"id\": 17675, \"job\": \"Costume Design\", \"name\": \"Mayes C. Rubeo\"}, {\"credit_id\": \"52fe48009251416c750aca11\", \"department\": \"Camera\", \"gender\": 2, \"id\": 18265, \"job\": \"Director of Photography\", \"name\": \"Mauro Fiore\"}, {\"credit_id\": \"5449194d0e0a26748f001b39\", \"department\": \"Art\", \"gender\": 0, \"id\": 42281, \"job\": \"Set Designer\", \"name\": \"Scott Herbertson\"}, {\"credit_id\": \"52fe48009251416c750aca05\", \"department\": \"Crew\", \"gender\": 0, \"id\": 42288, \"job\": \"Stunts\", \"name\": \"Woody Schultz\"}, {\"credit_id\": \"5592aefb92514152de0010f5\", \"department\": \"Costume & Make-Up\", \"gender\": 0, \"id\": 29067, \"job\": \"Makeup Artist\", \"name\": \"Linda DeVetta\"}, {\"credit_id\": \"5592afa492514152de00112c\", \"department\": \"Costume & Make-Up\", \"gender\": 0, \"id\": 29067, \"job\": \"Hairstylist\", \"name\": \"Linda DeVetta\"}, {\"credit_id\": \"54959ed592514130fc002e5d\", \"department\": \"Camera\", \"gender\": 2, \"id\": 33302, \"job\": \"Camera Operator\", \"name\": \"Richard Bluck\"}, {\"credit_id\": \"539c4891c3a36810ba002147\", \"department\": \"Art\", \"gender\": 2, \"id\": 33303, \"job\": \"Art Direction\", \"name\": \"Simon Bright\"}, {\"credit_id\": \"54959c069251417a81001f3a\", \"department\": \"Visual Effects\", \"gender\": 0, \"id\": 113145, \"job\": \"Visual Effects Supervisor\", \"name\": \"Richard Martin\"}, {\"credit_id\": \"54959a0dc3a3680ff5002c8d\", \"department\": \"Crew\", \"gender\": 2, \"id\": 58188, \"job\": \"Visual Effects Editor\", \"name\": \"Steve R. Moore\"}, {\"credit_id\": \"52fe48009251416c750aca1d\", \"department\": \"Editing\", \"gender\": 2, \"id\": 58871, \"job\": \"Editor\", \"name\": \"John Refoua\"}, {\"credit_id\": \"54491a4dc3a3680fc30018ca\", \"department\": \"Art\", \"gender\": 0, \"id\": 92359, \"job\": \"Set Designer\", \"name\": \"Karl J. Martin\"}, {\"credit_id\": \"52fe48009251416c750aca35\", \"department\": \"Camera\", \"gender\": 1, \"id\": 72201, \"job\": \"Director of Photography\", \"name\": \"Chiling Lin\"}, {\"credit_id\": \"52fe48009251416c750ac9ff\", \"department\": \"Crew\", \"gender\": 0, \"id\": 89714, \"job\": \"Stunts\", \"name\": \"Ilram Choi\"}, {\"credit_id\": \"54959c529251416e2b004394\", \"department\": \"Visual Effects\", \"gender\": 2, \"id\": 93214, \"job\": \"Visual Effects Supervisor\", \"name\": \"Steven Quale\"}, {\"credit_id\": \"54491edf0e0a267489001c37\", \"department\": \"Crew\", \"gender\": 1, \"id\": 122607, \"job\": \"Dialect Coach\", \"name\": \"Carla Meyer\"}, {\"credit_id\": \"539c485bc3a368653d001a3a\", \"department\": \"Art\", \"gender\": 2, \"id\": 132585, \"job\": \"Art Direction\", \"name\": \"Nick Bassett\"}, {\"credit_id\": \"539c4903c3a368653d001a74\", \"department\": \"Art\", \"gender\": 0, \"id\": 132596, \"job\": \"Art Direction\", \"name\": \"Jill Cormack\"}, {\"credit_id\": \"539c4967c3a368653d001a94\", \"department\": \"Art\", \"gender\": 0, \"id\": 132604, \"job\": \"Art Direction\", \"name\": \"Andy McLaren\"}, {\"credit_id\": \"52fe48009251416c750aca45\", \"department\": \"Crew\", \"gender\": 0, \"id\": 236696, \"job\": \"Motion Capture Artist\", \"name\": \"Terry Notary\"}, {\"credit_id\": \"54959e02c3a3680fc60027d2\", \"department\": \"Crew\", \"gender\": 2, \"id\": 956198, \"job\": \"Stunt Coordinator\", \"name\": \"Garrett Warren\"}, {\"credit_id\": \"54959ca3c3a3686ae300438c\", \"department\": \"Visual Effects\", \"gender\": 2, \"id\": 957874, \"job\": \"Visual Effects Supervisor\", \"name\": \"Jonathan Rothbart\"}, {\"credit_id\": \"570b6f519251412c74001b2f\", \"department\": \"Art\", \"gender\": 0, \"id\": 957889, \"job\": \"Supervising Art Director\", \"name\": \"Stefan Dechant\"}, {\"credit_id\": \"570b6f62c3a3680b77007460\", \"department\": \"Art\", \"gender\": 2, \"id\": 959555, \"job\": \"Supervising Art Director\", \"name\": \"Todd Cherniawsky\"}, {\"credit_id\": \"539c4a3ac3a36810da0021cc\", \"department\": \"Production\", \"gender\": 0, \"id\": 1016177, \"job\": \"Casting\", \"name\": \"Miranda Rivers\"}, {\"credit_id\": \"539c482cc3a36810c1002062\", \"department\": \"Art\", \"gender\": 0, \"id\": 1032536, \"job\": \"Production Design\", \"name\": \"Robert Stromberg\"}, {\"credit_id\": \"539c4b65c3a36810c9002125\", \"department\": \"Costume & Make-Up\", \"gender\": 2, \"id\": 1071680, \"job\": \"Costume Design\", \"name\": \"John Harding\"}, {\"credit_id\": \"54959e6692514130fc002e4e\", \"department\": \"Camera\", \"gender\": 0, \"id\": 1177364, \"job\": \"Steadicam Operator\", \"name\": \"Roberto De Angelis\"}, {\"credit_id\": \"539c49f1c3a368653d001aac\", \"department\": \"Costume & Make-Up\", \"gender\": 2, \"id\": 1202850, \"job\": \"Makeup Department Head\", \"name\": \"Mike Smithson\"}, {\"credit_id\": \"5495999ec3a3686ae100460c\", \"department\": \"Visual Effects\", \"gender\": 0, \"id\": 1204668, \"job\": \"Visual Effects Producer\", \"name\": \"Alain Lalanne\"}, {\"credit_id\": \"54959cdfc3a3681153002729\", \"department\": \"Visual Effects\", \"gender\": 0, \"id\": 1206410, \"job\": \"Visual Effects Supervisor\", \"name\": \"Lucas Salton\"}, {\"credit_id\": \"549596239251417a81001eae\", \"department\": \"Crew\", \"gender\": 0, \"id\": 1234266, \"job\": \"Post Production Supervisor\", \"name\": \"Janace Tashjian\"}, {\"credit_id\": \"54959c859251416e1e003efe\", \"department\": \"Visual Effects\", \"gender\": 0, \"id\": 1271932, \"job\": \"Visual Effects Supervisor\", \"name\": \"Stephen Rosenbaum\"}, {\"credit_id\": \"5592af28c3a368775a00105f\", \"department\": \"Costume & Make-Up\", \"gender\": 0, \"id\": 1310064, \"job\": \"Makeup Artist\", \"name\": \"Frankie Karena\"}, {\"credit_id\": \"539c4adfc3a36810e300203b\", \"department\": \"Costume & Make-Up\", \"gender\": 1, \"id\": 1319844, \"job\": \"Costume Supervisor\", \"name\": \"Lisa Lovaas\"}, {\"credit_id\": \"54959b579251416e2b004371\", \"department\": \"Visual Effects\", \"gender\": 0, \"id\": 1327028, \"job\": \"Visual Effects Supervisor\", \"name\": \"Jonathan Fawkner\"}, {\"credit_id\": \"539c48a7c3a36810b5001fa7\", \"department\": \"Art\", \"gender\": 0, \"id\": 1330561, \"job\": \"Art Direction\", \"name\": \"Robert Bavin\"}, {\"credit_id\": \"539c4a71c3a36810da0021e0\", \"department\": \"Costume & Make-Up\", \"gender\": 0, \"id\": 1330567, \"job\": \"Costume Supervisor\", \"name\": \"Anthony Almaraz\"}, {\"credit_id\": \"539c4a8ac3a36810ba0021e4\", \"department\": \"Costume & Make-Up\", \"gender\": 0, \"id\": 1330570, \"job\": \"Costume Supervisor\", \"name\": \"Carolyn M. Fenton\"}, {\"credit_id\": \"539c4ab6c3a36810da0021f0\", \"department\": \"Costume & Make-Up\", \"gender\": 0, \"id\": 1330574, \"job\": \"Costume Supervisor\", \"name\": \"Beth Koenigsberg\"}, {\"credit_id\": \"54491ab70e0a267480001ba2\", \"department\": \"Art\", \"gender\": 0, \"id\": 1336191, \"job\": \"Set Designer\", \"name\": \"Sam Page\"}, {\"credit_id\": \"544919d9c3a3680fc30018bd\", \"department\": \"Art\", \"gender\": 0, \"id\": 1339441, \"job\": \"Set Designer\", \"name\": \"Tex Kadonaga\"}, {\"credit_id\": \"54491cf50e0a267483001b0c\", \"department\": \"Editing\", \"gender\": 0, \"id\": 1352422, \"job\": \"Dialogue Editor\", \"name\": \"Kim Foscato\"}, {\"credit_id\": \"544919f40e0a26748c001b09\", \"department\": \"Art\", \"gender\": 0, \"id\": 1352962, \"job\": \"Set Designer\", \"name\": \"Tammy S. Lee\"}, {\"credit_id\": \"5495a115c3a3680ff5002d71\", \"department\": \"Crew\", \"gender\": 0, \"id\": 1357070, \"job\": \"Transportation Coordinator\", \"name\": \"Denny Caira\"}, {\"credit_id\": \"5495a12f92514130fc002e94\", \"department\": \"Crew\", \"gender\": 0, \"id\": 1357071, \"job\": \"Transportation Coordinator\", \"name\": \"James Waitkus\"}, {\"credit_id\": \"5495976fc3a36811530026b0\", \"department\": \"Sound\", \"gender\": 0, \"id\": 1360103, \"job\": \"Supervising Sound Editor\", \"name\": \"Addison Teague\"}, {\"credit_id\": \"54491837c3a3680fb1001c5a\", \"department\": \"Art\", \"gender\": 2, \"id\": 1376887, \"job\": \"Set Designer\", \"name\": \"C. Scott Baker\"}, {\"credit_id\": \"54491878c3a3680fb4001c9d\", \"department\": \"Art\", \"gender\": 0, \"id\": 1376888, \"job\": \"Set Designer\", \"name\": \"Luke Caska\"}, {\"credit_id\": \"544918dac3a3680fa5001ae0\", \"department\": \"Art\", \"gender\": 0, \"id\": 1376889, \"job\": \"Set Designer\", \"name\": \"David Chow\"}, {\"credit_id\": \"544919110e0a267486001b68\", \"department\": \"Art\", \"gender\": 0, \"id\": 1376890, \"job\": \"Set Designer\", \"name\": \"Jonathan Dyer\"}, {\"credit_id\": \"54491967c3a3680faa001b5e\", \"department\": \"Art\", \"gender\": 0, \"id\": 1376891, \"job\": \"Set Designer\", \"name\": \"Joseph Hiura\"}, {\"credit_id\": \"54491997c3a3680fb1001c8a\", \"department\": \"Art\", \"gender\": 0, \"id\": 1376892, \"job\": \"Art Department Coordinator\", \"name\": \"Rebecca Jellie\"}, {\"credit_id\": \"544919ba0e0a26748f001b42\", \"department\": \"Art\", \"gender\": 0, \"id\": 1376893, \"job\": \"Set Designer\", \"name\": \"Robert Andrew Johnson\"}, {\"credit_id\": \"54491b1dc3a3680faa001b8c\", \"department\": \"Art\", \"gender\": 0, \"id\": 1376895, \"job\": \"Assistant Art Director\", \"name\": \"Mike Stassi\"}, {\"credit_id\": \"54491b79c3a3680fbb001826\", \"department\": \"Art\", \"gender\": 0, \"id\": 1376897, \"job\": \"Construction Coordinator\", \"name\": \"John Villarino\"}, {\"credit_id\": \"54491baec3a3680fb4001ce6\", \"department\": \"Art\", \"gender\": 2, \"id\": 1376898, \"job\": \"Assistant Art Director\", \"name\": \"Jeffrey Wisniewski\"}, {\"credit_id\": \"54491d2fc3a3680fb4001d07\", \"department\": \"Editing\", \"gender\": 0, \"id\": 1376899, \"job\": \"Dialogue Editor\", \"name\": \"Cheryl Nardi\"}, {\"credit_id\": \"54491d86c3a3680fa5001b2f\", \"department\": \"Editing\", \"gender\": 0, \"id\": 1376901, \"job\": \"Dialogue Editor\", \"name\": \"Marshall Winn\"}, {\"credit_id\": \"54491d9dc3a3680faa001bb0\", \"department\": \"Sound\", \"gender\": 0, \"id\": 1376902, \"job\": \"Supervising Sound Editor\", \"name\": \"Gwendolyn Yates Whittle\"}, {\"credit_id\": \"54491dc10e0a267486001bce\", \"department\": \"Sound\", \"gender\": 0, \"id\": 1376903, \"job\": \"Sound Re-Recording Mixer\", \"name\": \"William Stein\"}, {\"credit_id\": \"54491f500e0a26747c001c07\", \"department\": \"Crew\", \"gender\": 0, \"id\": 1376909, \"job\": \"Choreographer\", \"name\": \"Lula Washington\"}, {\"credit_id\": \"549599239251412c4e002a2e\", \"department\": \"Visual Effects\", \"gender\": 0, \"id\": 1391692, \"job\": \"Visual Effects Producer\", \"name\": \"Chris Del Conte\"}, {\"credit_id\": \"54959d54c3a36831b8001d9a\", \"department\": \"Visual Effects\", \"gender\": 2, \"id\": 1391695, \"job\": \"Visual Effects Supervisor\", \"name\": \"R. Christopher White\"}, {\"credit_id\": \"54959bdf9251412c4e002a66\", \"department\": \"Visual Effects\", \"gender\": 0, \"id\": 1394070, \"job\": \"Visual Effects Supervisor\", \"name\": \"Dan Lemmon\"}, {\"credit_id\": \"5495971d92514132ed002922\", \"department\": \"Sound\", \"gender\": 0, \"id\": 1394129, \"job\": \"Sound Effects Editor\", \"name\": \"Tim Nielsen\"}, {\"credit_id\": \"5592b25792514152cc0011aa\", \"department\": \"Crew\", \"gender\": 0, \"id\": 1394286, \"job\": \"CG Supervisor\", \"name\": \"Michael Mulholland\"}, {\"credit_id\": \"54959a329251416e2b004355\", \"department\": \"Crew\", \"gender\": 0, \"id\": 1394750, \"job\": \"Visual Effects Editor\", \"name\": \"Thomas Nittmann\"}, {\"credit_id\": \"54959d6dc3a3686ae9004401\", \"department\": \"Visual Effects\", \"gender\": 0, \"id\": 1394755, \"job\": \"Visual Effects Supervisor\", \"name\": \"Edson Williams\"}, {\"credit_id\": \"5495a08fc3a3686ae300441c\", \"department\": \"Editing\", \"gender\": 0, \"id\": 1394953, \"job\": \"Digital Intermediate\", \"name\": \"Christine Carr\"}, {\"credit_id\": \"55402d659251413d6d000249\", \"department\": \"Visual Effects\", \"gender\": 0, \"id\": 1395269, \"job\": \"Visual Effects Supervisor\", \"name\": \"John Bruno\"}, {\"credit_id\": \"54959e7b9251416e1e003f3e\", \"department\": \"Camera\", \"gender\": 0, \"id\": 1398970, \"job\": \"Steadicam Operator\", \"name\": \"David Emmerichs\"}, {\"credit_id\": \"54959734c3a3686ae10045e0\", \"department\": \"Sound\", \"gender\": 0, \"id\": 1400906, \"job\": \"Sound Effects Editor\", \"name\": \"Christopher Scarabosio\"}, {\"credit_id\": \"549595dd92514130fc002d79\", \"department\": \"Production\", \"gender\": 0, \"id\": 1401784, \"job\": \"Production Supervisor\", \"name\": \"Jennifer Teves\"}, {\"credit_id\": \"549596009251413af70028cc\", \"department\": \"Production\", \"gender\": 0, \"id\": 1401785, \"job\": \"Production Manager\", \"name\": \"Brigitte Yorke\"}, {\"credit_id\": \"549596e892514130fc002d99\", \"department\": \"Sound\", \"gender\": 0, \"id\": 1401786, \"job\": \"Sound Effects Editor\", \"name\": \"Ken Fischer\"}, {\"credit_id\": \"549598229251412c4e002a1c\", \"department\": \"Crew\", \"gender\": 0, \"id\": 1401787, \"job\": \"Special Effects Coordinator\", \"name\": \"Iain Hutton\"}, {\"credit_id\": \"549598349251416e2b00432b\", \"department\": \"Crew\", \"gender\": 0, \"id\": 1401788, \"job\": \"Special Effects Coordinator\", \"name\": \"Steve Ingram\"}, {\"credit_id\": \"54959905c3a3686ae3004324\", \"department\": \"Visual Effects\", \"gender\": 0, \"id\": 1401789, \"job\": \"Visual Effects Producer\", \"name\": \"Joyce Cox\"}, {\"credit_id\": \"5495994b92514132ed002951\", \"department\": \"Visual Effects\", \"gender\": 0, \"id\": 1401790, \"job\": \"Visual Effects Producer\", \"name\": \"Jenny Foster\"}, {\"credit_id\": \"549599cbc3a3686ae1004613\", \"department\": \"Crew\", \"gender\": 0, \"id\": 1401791, \"job\": \"Visual Effects Editor\", \"name\": \"Christopher Marino\"}, {\"credit_id\": \"549599f2c3a3686ae100461e\", \"department\": \"Crew\", \"gender\": 0, \"id\": 1401792, \"job\": \"Visual Effects Editor\", \"name\": \"Jim Milton\"}, {\"credit_id\": \"54959a51c3a3686af3003eb5\", \"department\": \"Visual Effects\", \"gender\": 0, \"id\": 1401793, \"job\": \"Visual Effects Producer\", \"name\": \"Cyndi Ochs\"}, {\"credit_id\": \"54959a7cc3a36811530026f4\", \"department\": \"Crew\", \"gender\": 0, \"id\": 1401794, \"job\": \"Visual Effects Editor\", \"name\": \"Lucas Putnam\"}, {\"credit_id\": \"54959b91c3a3680ff5002cb4\", \"department\": \"Visual Effects\", \"gender\": 0, \"id\": 1401795, \"job\": \"Visual Effects Supervisor\", \"name\": \"Anthony 'Max' Ivins\"}, {\"credit_id\": \"54959bb69251412c4e002a5f\", \"department\": \"Visual Effects\", \"gender\": 0, \"id\": 1401796, \"job\": \"Visual Effects Supervisor\", \"name\": \"John Knoll\"}, {\"credit_id\": \"54959cbbc3a3686ae3004391\", \"department\": \"Visual Effects\", \"gender\": 2, \"id\": 1401799, \"job\": \"Visual Effects Supervisor\", \"name\": \"Eric Saindon\"}, {\"credit_id\": \"54959d06c3a3686ae90043f6\", \"department\": \"Visual Effects\", \"gender\": 0, \"id\": 1401800, \"job\": \"Visual Effects Supervisor\", \"name\": \"Wayne Stables\"}, {\"credit_id\": \"54959d259251416e1e003f11\", \"department\": \"Visual Effects\", \"gender\": 0, \"id\": 1401801, \"job\": \"Visual Effects Supervisor\", \"name\": \"David Stinnett\"}, {\"credit_id\": \"54959db49251413af7002975\", \"department\": \"Visual Effects\", \"gender\": 0, \"id\": 1401803, \"job\": \"Visual Effects Supervisor\", \"name\": \"Guy Williams\"}, {\"credit_id\": \"54959de4c3a3681153002750\", \"department\": \"Crew\", \"gender\": 0, \"id\": 1401804, \"job\": \"Stunt Coordinator\", \"name\": \"Stuart Thorp\"}, {\"credit_id\": \"54959ef2c3a3680fc60027f2\", \"department\": \"Lighting\", \"gender\": 0, \"id\": 1401805, \"job\": \"Best Boy Electric\", \"name\": \"Giles Coburn\"}, {\"credit_id\": \"54959f07c3a3680fc60027f9\", \"department\": \"Camera\", \"gender\": 2, \"id\": 1401806, \"job\": \"Still Photographer\", \"name\": \"Mark Fellman\"}, {\"credit_id\": \"54959f47c3a3681153002774\", \"department\": \"Lighting\", \"gender\": 0, \"id\": 1401807, \"job\": \"Lighting Technician\", \"name\": \"Scott Sprague\"}, {\"credit_id\": \"54959f8cc3a36831b8001df2\", \"department\": \"Visual Effects\", \"gender\": 0, \"id\": 1401808, \"job\": \"Animation Director\", \"name\": \"Jeremy Hollobon\"}, {\"credit_id\": \"54959fa0c3a36831b8001dfb\", \"department\": \"Visual Effects\", \"gender\": 0, \"id\": 1401809, \"job\": \"Animation Director\", \"name\": \"Orlando Meunier\"}, {\"credit_id\": \"54959fb6c3a3686af3003f54\", \"department\": \"Visual Effects\", \"gender\": 0, \"id\": 1401810, \"job\": \"Animation Director\", \"name\": \"Taisuke Tanimura\"}, {\"credit_id\": \"54959fd2c3a36831b8001e02\", \"department\": \"Costume & Make-Up\", \"gender\": 0, \"id\": 1401812, \"job\": \"Set Costumer\", \"name\": \"Lilia Mishel Acevedo\"}, {\"credit_id\": \"54959ff9c3a3686ae300440c\", \"department\": \"Costume & Make-Up\", \"gender\": 0, \"id\": 1401814, \"job\": \"Set Costumer\", \"name\": \"Alejandro M. Hernandez\"}, {\"credit_id\": \"5495a0ddc3a3686ae10046fe\", \"department\": \"Editing\", \"gender\": 0, \"id\": 1401815, \"job\": \"Digital Intermediate\", \"name\": \"Marvin Hall\"}, {\"credit_id\": \"5495a1f7c3a3686ae3004443\", \"department\": \"Production\", \"gender\": 0, \"id\": 1401816, \"job\": \"Publicist\", \"name\": \"Judy Alley\"}, {\"credit_id\": \"5592b29fc3a36869d100002f\", \"department\": \"Crew\", \"gender\": 0, \"id\": 1418381, \"job\": \"CG Supervisor\", \"name\": \"Mike Perry\"}, {\"credit_id\": \"5592b23a9251415df8001081\", \"department\": \"Crew\", \"gender\": 0, \"id\": 1426854, \"job\": \"CG Supervisor\", \"name\": \"Andrew Morley\"}, {\"credit_id\": \"55491e1192514104c40002d8\", \"department\": \"Art\", \"gender\": 0, \"id\": 1438901, \"job\": \"Conceptual Design\", \"name\": \"Seth Engstrom\"}, {\"credit_id\": \"5525d5809251417276002b06\", \"department\": \"Crew\", \"gender\": 0, \"id\": 1447362, \"job\": \"Visual Effects Art Director\", \"name\": \"Eric Oliver\"}, {\"credit_id\": \"554427ca925141586500312a\", \"department\": \"Visual Effects\", \"gender\": 0, \"id\": 1447503, \"job\": \"Modeling\", \"name\": \"Matsune Suzuki\"}, {\"credit_id\": \"551906889251415aab001c88\", \"department\": \"Art\", \"gender\": 0, \"id\": 1447524, \"job\": \"Art Department Manager\", \"name\": \"Paul Tobin\"}, {\"credit_id\": \"5592af8492514152cc0010de\", \"department\": \"Costume & Make-Up\", \"gender\": 0, \"id\": 1452643, \"job\": \"Hairstylist\", \"name\": \"Roxane Griffin\"}, {\"credit_id\": \"553d3c109251415852001318\", \"department\": \"Lighting\", \"gender\": 0, \"id\": 1453938, \"job\": \"Lighting Artist\", \"name\": \"Arun Ram-Mohan\"}, {\"credit_id\": \"5592af4692514152d5001355\", \"department\": \"Costume & Make-Up\", \"gender\": 0, \"id\": 1457305, \"job\": \"Makeup Artist\", \"name\": \"Georgia Lockhart-Adams\"}, {\"credit_id\": \"5592b2eac3a36877470012a5\", \"department\": \"Crew\", \"gender\": 0, \"id\": 1466035, \"job\": \"CG Supervisor\", \"name\": \"Thrain Shadbolt\"}, {\"credit_id\": \"5592b032c3a36877450015f1\", \"department\": \"Crew\", \"gender\": 0, \"id\": 1483220, \"job\": \"CG Supervisor\", \"name\": \"Brad Alexander\"}, {\"credit_id\": \"5592b05592514152d80012f6\", \"department\": \"Crew\", \"gender\": 0, \"id\": 1483221, \"job\": \"CG Supervisor\", \"name\": \"Shadi Almassizadeh\"}, {\"credit_id\": \"5592b090c3a36877570010b5\", \"department\": \"Crew\", \"gender\": 0, \"id\": 1483222, \"job\": \"CG Supervisor\", \"name\": \"Simon Clutterbuck\"}, {\"credit_id\": \"5592b0dbc3a368774b00112c\", \"department\": \"Crew\", \"gender\": 0, \"id\": 1483223, \"job\": \"CG Supervisor\", \"name\": \"Graeme Demmocks\"}, {\"credit_id\": \"5592b0fe92514152db0010c1\", \"department\": \"Crew\", \"gender\": 0, \"id\": 1483224, \"job\": \"CG Supervisor\", \"name\": \"Adrian Fernandes\"}, {\"credit_id\": \"5592b11f9251415df8001059\", \"department\": \"Crew\", \"gender\": 0, \"id\": 1483225, \"job\": \"CG Supervisor\", \"name\": \"Mitch Gates\"}, {\"credit_id\": \"5592b15dc3a3687745001645\", \"department\": \"Crew\", \"gender\": 0, \"id\": 1483226, \"job\": \"CG Supervisor\", \"name\": \"Jerry Kung\"}, {\"credit_id\": \"5592b18e925141645a0004ae\", \"department\": \"Crew\", \"gender\": 0, \"id\": 1483227, \"job\": \"CG Supervisor\", \"name\": \"Andy Lomas\"}, {\"credit_id\": \"5592b1bfc3a368775d0010e7\", \"department\": \"Crew\", \"gender\": 0, \"id\": 1483228, \"job\": \"CG Supervisor\", \"name\": \"Sebastian Marino\"}, {\"credit_id\": \"5592b2049251415df8001078\", \"department\": \"Crew\", \"gender\": 0, \"id\": 1483229, \"job\": \"CG Supervisor\", \"name\": \"Matthias Menz\"}, {\"credit_id\": \"5592b27b92514152d800136a\", \"department\": \"Crew\", \"gender\": 0, \"id\": 1483230, \"job\": \"CG Supervisor\", \"name\": \"Sergei Nevshupov\"}, {\"credit_id\": \"5592b2c3c3a36869e800003c\", \"department\": \"Crew\", \"gender\": 0, \"id\": 1483231, \"job\": \"CG Supervisor\", \"name\": \"Philippe Rebours\"}, {\"credit_id\": \"5592b317c3a36877470012af\", \"department\": \"Crew\", \"gender\": 0, \"id\": 1483232, \"job\": \"CG Supervisor\", \"name\": \"Michael Takarangi\"}, {\"credit_id\": \"5592b345c3a36877470012bb\", \"department\": \"Crew\", \"gender\": 0, \"id\": 1483233, \"job\": \"CG Supervisor\", \"name\": \"David Weitzberg\"}, {\"credit_id\": \"5592b37cc3a368775100113b\", \"department\": \"Crew\", \"gender\": 0, \"id\": 1483234, \"job\": \"CG Supervisor\", \"name\": \"Ben White\"}, {\"credit_id\": \"573c8e2f9251413f5d000094\", \"department\": \"Crew\", \"gender\": 1, \"id\": 1621932, \"job\": \"Stunts\", \"name\": \"Min Windle\"}]"
        ]
       ],
       "shape": {
        "columns": 7,
        "rows": 1
       }
      },
      "text/html": [
       "<div>\n",
       "<style scoped>\n",
       "    .dataframe tbody tr th:only-of-type {\n",
       "        vertical-align: middle;\n",
       "    }\n",
       "\n",
       "    .dataframe tbody tr th {\n",
       "        vertical-align: top;\n",
       "    }\n",
       "\n",
       "    .dataframe thead th {\n",
       "        text-align: right;\n",
       "    }\n",
       "</style>\n",
       "<table border=\"1\" class=\"dataframe\">\n",
       "  <thead>\n",
       "    <tr style=\"text-align: right;\">\n",
       "      <th></th>\n",
       "      <th>movie_id</th>\n",
       "      <th>title</th>\n",
       "      <th>overview</th>\n",
       "      <th>genres</th>\n",
       "      <th>keywords</th>\n",
       "      <th>cast</th>\n",
       "      <th>crew</th>\n",
       "    </tr>\n",
       "  </thead>\n",
       "  <tbody>\n",
       "    <tr>\n",
       "      <th>0</th>\n",
       "      <td>19995</td>\n",
       "      <td>Avatar</td>\n",
       "      <td>In the 22nd century, a paraplegic Marine is di...</td>\n",
       "      <td>[Action, Adventure, Fantasy, Science Fiction]</td>\n",
       "      <td>[culture clash, future, space war, space colon...</td>\n",
       "      <td>[Sam Worthington, Zoe Saldana, Sigourney Weaver]</td>\n",
       "      <td>[{\"credit_id\": \"52fe48009251416c750aca23\", \"de...</td>\n",
       "    </tr>\n",
       "  </tbody>\n",
       "</table>\n",
       "</div>"
      ],
      "text/plain": [
       "   movie_id   title                                           overview  \\\n",
       "0     19995  Avatar  In the 22nd century, a paraplegic Marine is di...   \n",
       "\n",
       "                                          genres  \\\n",
       "0  [Action, Adventure, Fantasy, Science Fiction]   \n",
       "\n",
       "                                            keywords  \\\n",
       "0  [culture clash, future, space war, space colon...   \n",
       "\n",
       "                                               cast  \\\n",
       "0  [Sam Worthington, Zoe Saldana, Sigourney Weaver]   \n",
       "\n",
       "                                                crew  \n",
       "0  [{\"credit_id\": \"52fe48009251416c750aca23\", \"de...  "
      ]
     },
     "execution_count": 17,
     "metadata": {},
     "output_type": "execute_result"
    }
   ],
   "source": [
    "\n",
    "movies['cast'] = movies.cast.apply(convert3)\n",
    "movies.head(1)"
   ]
  },
  {
   "cell_type": "code",
   "execution_count": 18,
   "id": "70fe975c",
   "metadata": {},
   "outputs": [],
   "source": [
    "import ast\n",
    "\n",
    "def fetch_director(obj):\n",
    "    l = []\n",
    "    for i in ast.literal_eval(obj):\n",
    "       if i['job'] == 'Director':\n",
    "            l.append(i['name'])\n",
    "            break\n",
    "    return l"
   ]
  },
  {
   "cell_type": "code",
   "execution_count": 19,
   "id": "35c0eedb",
   "metadata": {},
   "outputs": [
    {
     "data": {
      "application/vnd.microsoft.datawrangler.viewer.v0+json": {
       "columns": [
        {
         "name": "index",
         "rawType": "int64",
         "type": "integer"
        },
        {
         "name": "movie_id",
         "rawType": "int64",
         "type": "integer"
        },
        {
         "name": "title",
         "rawType": "object",
         "type": "string"
        },
        {
         "name": "overview",
         "rawType": "object",
         "type": "string"
        },
        {
         "name": "genres",
         "rawType": "object",
         "type": "unknown"
        },
        {
         "name": "keywords",
         "rawType": "object",
         "type": "unknown"
        },
        {
         "name": "cast",
         "rawType": "object",
         "type": "unknown"
        },
        {
         "name": "crew",
         "rawType": "object",
         "type": "unknown"
        }
       ],
       "ref": "9a020663-baa6-4291-9df9-776c4fa5ac43",
       "rows": [
        [
         "0",
         "19995",
         "Avatar",
         "In the 22nd century, a paraplegic Marine is dispatched to the moon Pandora on a unique mission, but becomes torn between following orders and protecting an alien civilization.",
         "['Action', 'Adventure', 'Fantasy', 'Science Fiction']",
         "['culture clash', 'future', 'space war', 'space colony', 'society', 'space travel', 'futuristic', 'romance', 'space', 'alien', 'tribe', 'alien planet', 'cgi', 'marine', 'soldier', 'battle', 'love affair', 'anti war', 'power relations', 'mind and soul', '3d']",
         "['Sam Worthington', 'Zoe Saldana', 'Sigourney Weaver']",
         "['James Cameron']"
        ]
       ],
       "shape": {
        "columns": 7,
        "rows": 1
       }
      },
      "text/html": [
       "<div>\n",
       "<style scoped>\n",
       "    .dataframe tbody tr th:only-of-type {\n",
       "        vertical-align: middle;\n",
       "    }\n",
       "\n",
       "    .dataframe tbody tr th {\n",
       "        vertical-align: top;\n",
       "    }\n",
       "\n",
       "    .dataframe thead th {\n",
       "        text-align: right;\n",
       "    }\n",
       "</style>\n",
       "<table border=\"1\" class=\"dataframe\">\n",
       "  <thead>\n",
       "    <tr style=\"text-align: right;\">\n",
       "      <th></th>\n",
       "      <th>movie_id</th>\n",
       "      <th>title</th>\n",
       "      <th>overview</th>\n",
       "      <th>genres</th>\n",
       "      <th>keywords</th>\n",
       "      <th>cast</th>\n",
       "      <th>crew</th>\n",
       "    </tr>\n",
       "  </thead>\n",
       "  <tbody>\n",
       "    <tr>\n",
       "      <th>0</th>\n",
       "      <td>19995</td>\n",
       "      <td>Avatar</td>\n",
       "      <td>In the 22nd century, a paraplegic Marine is di...</td>\n",
       "      <td>[Action, Adventure, Fantasy, Science Fiction]</td>\n",
       "      <td>[culture clash, future, space war, space colon...</td>\n",
       "      <td>[Sam Worthington, Zoe Saldana, Sigourney Weaver]</td>\n",
       "      <td>[James Cameron]</td>\n",
       "    </tr>\n",
       "  </tbody>\n",
       "</table>\n",
       "</div>"
      ],
      "text/plain": [
       "   movie_id   title                                           overview  \\\n",
       "0     19995  Avatar  In the 22nd century, a paraplegic Marine is di...   \n",
       "\n",
       "                                          genres  \\\n",
       "0  [Action, Adventure, Fantasy, Science Fiction]   \n",
       "\n",
       "                                            keywords  \\\n",
       "0  [culture clash, future, space war, space colon...   \n",
       "\n",
       "                                               cast             crew  \n",
       "0  [Sam Worthington, Zoe Saldana, Sigourney Weaver]  [James Cameron]  "
      ]
     },
     "execution_count": 19,
     "metadata": {},
     "output_type": "execute_result"
    }
   ],
   "source": [
    "\n",
    "movies['crew'] = movies.crew.apply(fetch_director)\n",
    "movies.head(1)"
   ]
  },
  {
   "cell_type": "code",
   "execution_count": 20,
   "id": "6be89e0c",
   "metadata": {},
   "outputs": [
    {
     "data": {
      "text/plain": [
       "'In the 22nd century, a paraplegic Marine is dispatched to the moon Pandora on a unique mission, but becomes torn between following orders and protecting an alien civilization.'"
      ]
     },
     "execution_count": 20,
     "metadata": {},
     "output_type": "execute_result"
    }
   ],
   "source": [
    "movies.overview[0]\n",
    "\n",
    "#this is in string "
   ]
  },
  {
   "cell_type": "code",
   "execution_count": 21,
   "id": "4069e540",
   "metadata": {},
   "outputs": [
    {
     "data": {
      "application/vnd.microsoft.datawrangler.viewer.v0+json": {
       "columns": [
        {
         "name": "index",
         "rawType": "int64",
         "type": "integer"
        },
        {
         "name": "movie_id",
         "rawType": "int64",
         "type": "integer"
        },
        {
         "name": "title",
         "rawType": "object",
         "type": "string"
        },
        {
         "name": "overview",
         "rawType": "object",
         "type": "unknown"
        },
        {
         "name": "genres",
         "rawType": "object",
         "type": "unknown"
        },
        {
         "name": "keywords",
         "rawType": "object",
         "type": "unknown"
        },
        {
         "name": "cast",
         "rawType": "object",
         "type": "unknown"
        },
        {
         "name": "crew",
         "rawType": "object",
         "type": "unknown"
        }
       ],
       "ref": "badaec75-de42-4281-b7a8-a5f756857e7e",
       "rows": [
        [
         "0",
         "19995",
         "Avatar",
         "['In', 'the', '22nd', 'century,', 'a', 'paraplegic', 'Marine', 'is', 'dispatched', 'to', 'the', 'moon', 'Pandora', 'on', 'a', 'unique', 'mission,', 'but', 'becomes', 'torn', 'between', 'following', 'orders', 'and', 'protecting', 'an', 'alien', 'civilization.']",
         "['Action', 'Adventure', 'Fantasy', 'Science Fiction']",
         "['culture clash', 'future', 'space war', 'space colony', 'society', 'space travel', 'futuristic', 'romance', 'space', 'alien', 'tribe', 'alien planet', 'cgi', 'marine', 'soldier', 'battle', 'love affair', 'anti war', 'power relations', 'mind and soul', '3d']",
         "['Sam Worthington', 'Zoe Saldana', 'Sigourney Weaver']",
         "['James Cameron']"
        ]
       ],
       "shape": {
        "columns": 7,
        "rows": 1
       }
      },
      "text/html": [
       "<div>\n",
       "<style scoped>\n",
       "    .dataframe tbody tr th:only-of-type {\n",
       "        vertical-align: middle;\n",
       "    }\n",
       "\n",
       "    .dataframe tbody tr th {\n",
       "        vertical-align: top;\n",
       "    }\n",
       "\n",
       "    .dataframe thead th {\n",
       "        text-align: right;\n",
       "    }\n",
       "</style>\n",
       "<table border=\"1\" class=\"dataframe\">\n",
       "  <thead>\n",
       "    <tr style=\"text-align: right;\">\n",
       "      <th></th>\n",
       "      <th>movie_id</th>\n",
       "      <th>title</th>\n",
       "      <th>overview</th>\n",
       "      <th>genres</th>\n",
       "      <th>keywords</th>\n",
       "      <th>cast</th>\n",
       "      <th>crew</th>\n",
       "    </tr>\n",
       "  </thead>\n",
       "  <tbody>\n",
       "    <tr>\n",
       "      <th>0</th>\n",
       "      <td>19995</td>\n",
       "      <td>Avatar</td>\n",
       "      <td>[In, the, 22nd, century,, a, paraplegic, Marin...</td>\n",
       "      <td>[Action, Adventure, Fantasy, Science Fiction]</td>\n",
       "      <td>[culture clash, future, space war, space colon...</td>\n",
       "      <td>[Sam Worthington, Zoe Saldana, Sigourney Weaver]</td>\n",
       "      <td>[James Cameron]</td>\n",
       "    </tr>\n",
       "  </tbody>\n",
       "</table>\n",
       "</div>"
      ],
      "text/plain": [
       "   movie_id   title                                           overview  \\\n",
       "0     19995  Avatar  [In, the, 22nd, century,, a, paraplegic, Marin...   \n",
       "\n",
       "                                          genres  \\\n",
       "0  [Action, Adventure, Fantasy, Science Fiction]   \n",
       "\n",
       "                                            keywords  \\\n",
       "0  [culture clash, future, space war, space colon...   \n",
       "\n",
       "                                               cast             crew  \n",
       "0  [Sam Worthington, Zoe Saldana, Sigourney Weaver]  [James Cameron]  "
      ]
     },
     "execution_count": 21,
     "metadata": {},
     "output_type": "execute_result"
    }
   ],
   "source": [
    "#lets convet into list\n",
    "movies['overview'] = movies.overview.apply(lambda x : x.split())\n",
    "movies.head(1)"
   ]
  },
  {
   "cell_type": "code",
   "execution_count": 22,
   "id": "0560cd5f",
   "metadata": {},
   "outputs": [],
   "source": [
    "def remove_spaces(x):\n",
    "    return [i.replace(\" \", \"\") for i in x]"
   ]
  },
  {
   "cell_type": "code",
   "execution_count": 23,
   "id": "d5235b94",
   "metadata": {},
   "outputs": [],
   "source": [
    "movies ['genres'] = movies.genres.apply(remove_spaces)\n",
    "movies ['keywords'] = movies.keywords.apply(remove_spaces)\n",
    "movies ['cast'] = movies.cast.apply(remove_spaces)\n",
    "movies ['crew'] = movies.crew.apply(remove_spaces)"
   ]
  },
  {
   "cell_type": "code",
   "execution_count": 24,
   "id": "ce89e836",
   "metadata": {},
   "outputs": [
    {
     "data": {
      "application/vnd.microsoft.datawrangler.viewer.v0+json": {
       "columns": [
        {
         "name": "index",
         "rawType": "int64",
         "type": "integer"
        },
        {
         "name": "movie_id",
         "rawType": "int64",
         "type": "integer"
        },
        {
         "name": "title",
         "rawType": "object",
         "type": "string"
        },
        {
         "name": "overview",
         "rawType": "object",
         "type": "unknown"
        },
        {
         "name": "genres",
         "rawType": "object",
         "type": "unknown"
        },
        {
         "name": "keywords",
         "rawType": "object",
         "type": "unknown"
        },
        {
         "name": "cast",
         "rawType": "object",
         "type": "unknown"
        },
        {
         "name": "crew",
         "rawType": "object",
         "type": "unknown"
        }
       ],
       "ref": "be8d9fb0-f737-40e6-b519-10b8290e92ad",
       "rows": [
        [
         "0",
         "19995",
         "Avatar",
         "['In', 'the', '22nd', 'century,', 'a', 'paraplegic', 'Marine', 'is', 'dispatched', 'to', 'the', 'moon', 'Pandora', 'on', 'a', 'unique', 'mission,', 'but', 'becomes', 'torn', 'between', 'following', 'orders', 'and', 'protecting', 'an', 'alien', 'civilization.']",
         "['Action', 'Adventure', 'Fantasy', 'ScienceFiction']",
         "['cultureclash', 'future', 'spacewar', 'spacecolony', 'society', 'spacetravel', 'futuristic', 'romance', 'space', 'alien', 'tribe', 'alienplanet', 'cgi', 'marine', 'soldier', 'battle', 'loveaffair', 'antiwar', 'powerrelations', 'mindandsoul', '3d']",
         "['SamWorthington', 'ZoeSaldana', 'SigourneyWeaver']",
         "['JamesCameron']"
        ]
       ],
       "shape": {
        "columns": 7,
        "rows": 1
       }
      },
      "text/html": [
       "<div>\n",
       "<style scoped>\n",
       "    .dataframe tbody tr th:only-of-type {\n",
       "        vertical-align: middle;\n",
       "    }\n",
       "\n",
       "    .dataframe tbody tr th {\n",
       "        vertical-align: top;\n",
       "    }\n",
       "\n",
       "    .dataframe thead th {\n",
       "        text-align: right;\n",
       "    }\n",
       "</style>\n",
       "<table border=\"1\" class=\"dataframe\">\n",
       "  <thead>\n",
       "    <tr style=\"text-align: right;\">\n",
       "      <th></th>\n",
       "      <th>movie_id</th>\n",
       "      <th>title</th>\n",
       "      <th>overview</th>\n",
       "      <th>genres</th>\n",
       "      <th>keywords</th>\n",
       "      <th>cast</th>\n",
       "      <th>crew</th>\n",
       "    </tr>\n",
       "  </thead>\n",
       "  <tbody>\n",
       "    <tr>\n",
       "      <th>0</th>\n",
       "      <td>19995</td>\n",
       "      <td>Avatar</td>\n",
       "      <td>[In, the, 22nd, century,, a, paraplegic, Marin...</td>\n",
       "      <td>[Action, Adventure, Fantasy, ScienceFiction]</td>\n",
       "      <td>[cultureclash, future, spacewar, spacecolony, ...</td>\n",
       "      <td>[SamWorthington, ZoeSaldana, SigourneyWeaver]</td>\n",
       "      <td>[JamesCameron]</td>\n",
       "    </tr>\n",
       "  </tbody>\n",
       "</table>\n",
       "</div>"
      ],
      "text/plain": [
       "   movie_id   title                                           overview  \\\n",
       "0     19995  Avatar  [In, the, 22nd, century,, a, paraplegic, Marin...   \n",
       "\n",
       "                                         genres  \\\n",
       "0  [Action, Adventure, Fantasy, ScienceFiction]   \n",
       "\n",
       "                                            keywords  \\\n",
       "0  [cultureclash, future, spacewar, spacecolony, ...   \n",
       "\n",
       "                                            cast            crew  \n",
       "0  [SamWorthington, ZoeSaldana, SigourneyWeaver]  [JamesCameron]  "
      ]
     },
     "execution_count": 24,
     "metadata": {},
     "output_type": "execute_result"
    }
   ],
   "source": [
    "movies.head(1)"
   ]
  },
  {
   "cell_type": "markdown",
   "id": "faaee2ce",
   "metadata": {},
   "source": [
    "#Now will create new column : tags"
   ]
  },
  {
   "cell_type": "code",
   "execution_count": 25,
   "id": "e64a84d9",
   "metadata": {},
   "outputs": [
    {
     "data": {
      "application/vnd.microsoft.datawrangler.viewer.v0+json": {
       "columns": [
        {
         "name": "index",
         "rawType": "int64",
         "type": "integer"
        },
        {
         "name": "movie_id",
         "rawType": "int64",
         "type": "integer"
        },
        {
         "name": "title",
         "rawType": "object",
         "type": "string"
        },
        {
         "name": "overview",
         "rawType": "object",
         "type": "unknown"
        },
        {
         "name": "genres",
         "rawType": "object",
         "type": "unknown"
        },
        {
         "name": "keywords",
         "rawType": "object",
         "type": "unknown"
        },
        {
         "name": "cast",
         "rawType": "object",
         "type": "unknown"
        },
        {
         "name": "crew",
         "rawType": "object",
         "type": "unknown"
        },
        {
         "name": "tags",
         "rawType": "object",
         "type": "unknown"
        }
       ],
       "ref": "1a8aef52-d44a-4775-a5f2-a13fce085709",
       "rows": [
        [
         "0",
         "19995",
         "Avatar",
         "['Action', 'Adventure', 'Fantasy', 'ScienceFiction', 'cultureclash', 'future', 'spacewar', 'spacecolony', 'society', 'spacetravel', 'futuristic', 'romance', 'space', 'alien', 'tribe', 'alienplanet', 'cgi', 'marine', 'soldier', 'battle', 'loveaffair', 'antiwar', 'powerrelations', 'mindandsoul', '3d', 'SamWorthington', 'ZoeSaldana', 'SigourneyWeaver', 'JamesCameron']",
         "['Action', 'Adventure', 'Fantasy', 'ScienceFiction']",
         "['cultureclash', 'future', 'spacewar', 'spacecolony', 'society', 'spacetravel', 'futuristic', 'romance', 'space', 'alien', 'tribe', 'alienplanet', 'cgi', 'marine', 'soldier', 'battle', 'loveaffair', 'antiwar', 'powerrelations', 'mindandsoul', '3d']",
         "['SamWorthington', 'ZoeSaldana', 'SigourneyWeaver']",
         "['JamesCameron']",
         "['Action', 'Adventure', 'Fantasy', 'ScienceFiction', 'cultureclash', 'future', 'spacewar', 'spacecolony', 'society', 'spacetravel', 'futuristic', 'romance', 'space', 'alien', 'tribe', 'alienplanet', 'cgi', 'marine', 'soldier', 'battle', 'loveaffair', 'antiwar', 'powerrelations', 'mindandsoul', '3d', 'SamWorthington', 'ZoeSaldana', 'SigourneyWeaver', 'JamesCameron']"
        ]
       ],
       "shape": {
        "columns": 8,
        "rows": 1
       }
      },
      "text/html": [
       "<div>\n",
       "<style scoped>\n",
       "    .dataframe tbody tr th:only-of-type {\n",
       "        vertical-align: middle;\n",
       "    }\n",
       "\n",
       "    .dataframe tbody tr th {\n",
       "        vertical-align: top;\n",
       "    }\n",
       "\n",
       "    .dataframe thead th {\n",
       "        text-align: right;\n",
       "    }\n",
       "</style>\n",
       "<table border=\"1\" class=\"dataframe\">\n",
       "  <thead>\n",
       "    <tr style=\"text-align: right;\">\n",
       "      <th></th>\n",
       "      <th>movie_id</th>\n",
       "      <th>title</th>\n",
       "      <th>overview</th>\n",
       "      <th>genres</th>\n",
       "      <th>keywords</th>\n",
       "      <th>cast</th>\n",
       "      <th>crew</th>\n",
       "      <th>tags</th>\n",
       "    </tr>\n",
       "  </thead>\n",
       "  <tbody>\n",
       "    <tr>\n",
       "      <th>0</th>\n",
       "      <td>19995</td>\n",
       "      <td>Avatar</td>\n",
       "      <td>[Action, Adventure, Fantasy, ScienceFiction, c...</td>\n",
       "      <td>[Action, Adventure, Fantasy, ScienceFiction]</td>\n",
       "      <td>[cultureclash, future, spacewar, spacecolony, ...</td>\n",
       "      <td>[SamWorthington, ZoeSaldana, SigourneyWeaver]</td>\n",
       "      <td>[JamesCameron]</td>\n",
       "      <td>[Action, Adventure, Fantasy, ScienceFiction, c...</td>\n",
       "    </tr>\n",
       "  </tbody>\n",
       "</table>\n",
       "</div>"
      ],
      "text/plain": [
       "   movie_id   title                                           overview  \\\n",
       "0     19995  Avatar  [Action, Adventure, Fantasy, ScienceFiction, c...   \n",
       "\n",
       "                                         genres  \\\n",
       "0  [Action, Adventure, Fantasy, ScienceFiction]   \n",
       "\n",
       "                                            keywords  \\\n",
       "0  [cultureclash, future, spacewar, spacecolony, ...   \n",
       "\n",
       "                                            cast            crew  \\\n",
       "0  [SamWorthington, ZoeSaldana, SigourneyWeaver]  [JamesCameron]   \n",
       "\n",
       "                                                tags  \n",
       "0  [Action, Adventure, Fantasy, ScienceFiction, c...  "
      ]
     },
     "execution_count": 25,
     "metadata": {},
     "output_type": "execute_result"
    }
   ],
   "source": [
    "movies['tags'] = movies['overview'] = movies['genres'] + movies['keywords'] + movies['cast'] + movies['crew']\n",
    "movies.head(1)"
   ]
  },
  {
   "cell_type": "code",
   "execution_count": 26,
   "id": "7d6833be",
   "metadata": {},
   "outputs": [
    {
     "data": {
      "application/vnd.microsoft.datawrangler.viewer.v0+json": {
       "columns": [
        {
         "name": "index",
         "rawType": "int64",
         "type": "integer"
        },
        {
         "name": "movie_id",
         "rawType": "int64",
         "type": "integer"
        },
        {
         "name": "title",
         "rawType": "object",
         "type": "string"
        },
        {
         "name": "tags",
         "rawType": "object",
         "type": "unknown"
        }
       ],
       "ref": "34692abe-f90f-4199-b229-86e52a328d0d",
       "rows": [
        [
         "0",
         "19995",
         "Avatar",
         "['Action', 'Adventure', 'Fantasy', 'ScienceFiction', 'cultureclash', 'future', 'spacewar', 'spacecolony', 'society', 'spacetravel', 'futuristic', 'romance', 'space', 'alien', 'tribe', 'alienplanet', 'cgi', 'marine', 'soldier', 'battle', 'loveaffair', 'antiwar', 'powerrelations', 'mindandsoul', '3d', 'SamWorthington', 'ZoeSaldana', 'SigourneyWeaver', 'JamesCameron']"
        ]
       ],
       "shape": {
        "columns": 3,
        "rows": 1
       }
      },
      "text/html": [
       "<div>\n",
       "<style scoped>\n",
       "    .dataframe tbody tr th:only-of-type {\n",
       "        vertical-align: middle;\n",
       "    }\n",
       "\n",
       "    .dataframe tbody tr th {\n",
       "        vertical-align: top;\n",
       "    }\n",
       "\n",
       "    .dataframe thead th {\n",
       "        text-align: right;\n",
       "    }\n",
       "</style>\n",
       "<table border=\"1\" class=\"dataframe\">\n",
       "  <thead>\n",
       "    <tr style=\"text-align: right;\">\n",
       "      <th></th>\n",
       "      <th>movie_id</th>\n",
       "      <th>title</th>\n",
       "      <th>tags</th>\n",
       "    </tr>\n",
       "  </thead>\n",
       "  <tbody>\n",
       "    <tr>\n",
       "      <th>0</th>\n",
       "      <td>19995</td>\n",
       "      <td>Avatar</td>\n",
       "      <td>[Action, Adventure, Fantasy, ScienceFiction, c...</td>\n",
       "    </tr>\n",
       "  </tbody>\n",
       "</table>\n",
       "</div>"
      ],
      "text/plain": [
       "   movie_id   title                                               tags\n",
       "0     19995  Avatar  [Action, Adventure, Fantasy, ScienceFiction, c..."
      ]
     },
     "execution_count": 26,
     "metadata": {},
     "output_type": "execute_result"
    }
   ],
   "source": [
    "new_df = movies[['movie_id', 'title', 'tags']]\n",
    "new_df.head(1)"
   ]
  },
  {
   "cell_type": "code",
   "execution_count": 27,
   "id": "779f253a",
   "metadata": {},
   "outputs": [],
   "source": [
    "#Lets convet into string\n",
    "\n",
    "new_df['tags'] = new_df['tags'].apply(lambda x :\" \".join(x))"
   ]
  },
  {
   "cell_type": "code",
   "execution_count": 28,
   "id": "87d82e58",
   "metadata": {},
   "outputs": [
    {
     "data": {
      "application/vnd.microsoft.datawrangler.viewer.v0+json": {
       "columns": [
        {
         "name": "index",
         "rawType": "int64",
         "type": "integer"
        },
        {
         "name": "movie_id",
         "rawType": "int64",
         "type": "integer"
        },
        {
         "name": "title",
         "rawType": "object",
         "type": "string"
        },
        {
         "name": "tags",
         "rawType": "object",
         "type": "string"
        }
       ],
       "ref": "f202765f-a581-46d8-a887-99eae284369c",
       "rows": [
        [
         "0",
         "19995",
         "Avatar",
         "Action Adventure Fantasy ScienceFiction cultureclash future spacewar spacecolony society spacetravel futuristic romance space alien tribe alienplanet cgi marine soldier battle loveaffair antiwar powerrelations mindandsoul 3d SamWorthington ZoeSaldana SigourneyWeaver JamesCameron"
        ],
        [
         "1",
         "285",
         "Pirates of the Caribbean: At World's End",
         "Adventure Fantasy Action ocean drugabuse exoticisland eastindiatradingcompany loveofone'slife traitor shipwreck strongwoman ship alliance calypso afterlife fighter pirate swashbuckler aftercreditsstinger JohnnyDepp OrlandoBloom KeiraKnightley GoreVerbinski"
        ],
        [
         "2",
         "206647",
         "Spectre",
         "Action Adventure Crime spy basedonnovel secretagent sequel mi6 britishsecretservice unitedkingdom DanielCraig ChristophWaltz LéaSeydoux SamMendes"
        ],
        [
         "3",
         "49026",
         "The Dark Knight Rises",
         "Action Crime Drama Thriller dccomics crimefighter terrorist secretidentity burglar hostagedrama timebomb gothamcity vigilante cover-up superhero villainess tragichero terrorism destruction catwoman catburglar imax flood criminalunderworld batman ChristianBale MichaelCaine GaryOldman ChristopherNolan"
        ],
        [
         "4",
         "49529",
         "John Carter",
         "Action Adventure ScienceFiction basedonnovel mars medallion spacetravel princess alien steampunk martian escape edgarriceburroughs alienrace superhumanstrength marscivilization swordandplanet 19thcentury 3d TaylorKitsch LynnCollins SamanthaMorton AndrewStanton"
        ]
       ],
       "shape": {
        "columns": 3,
        "rows": 5
       }
      },
      "text/html": [
       "<div>\n",
       "<style scoped>\n",
       "    .dataframe tbody tr th:only-of-type {\n",
       "        vertical-align: middle;\n",
       "    }\n",
       "\n",
       "    .dataframe tbody tr th {\n",
       "        vertical-align: top;\n",
       "    }\n",
       "\n",
       "    .dataframe thead th {\n",
       "        text-align: right;\n",
       "    }\n",
       "</style>\n",
       "<table border=\"1\" class=\"dataframe\">\n",
       "  <thead>\n",
       "    <tr style=\"text-align: right;\">\n",
       "      <th></th>\n",
       "      <th>movie_id</th>\n",
       "      <th>title</th>\n",
       "      <th>tags</th>\n",
       "    </tr>\n",
       "  </thead>\n",
       "  <tbody>\n",
       "    <tr>\n",
       "      <th>0</th>\n",
       "      <td>19995</td>\n",
       "      <td>Avatar</td>\n",
       "      <td>Action Adventure Fantasy ScienceFiction cultur...</td>\n",
       "    </tr>\n",
       "    <tr>\n",
       "      <th>1</th>\n",
       "      <td>285</td>\n",
       "      <td>Pirates of the Caribbean: At World's End</td>\n",
       "      <td>Adventure Fantasy Action ocean drugabuse exoti...</td>\n",
       "    </tr>\n",
       "    <tr>\n",
       "      <th>2</th>\n",
       "      <td>206647</td>\n",
       "      <td>Spectre</td>\n",
       "      <td>Action Adventure Crime spy basedonnovel secret...</td>\n",
       "    </tr>\n",
       "    <tr>\n",
       "      <th>3</th>\n",
       "      <td>49026</td>\n",
       "      <td>The Dark Knight Rises</td>\n",
       "      <td>Action Crime Drama Thriller dccomics crimefigh...</td>\n",
       "    </tr>\n",
       "    <tr>\n",
       "      <th>4</th>\n",
       "      <td>49529</td>\n",
       "      <td>John Carter</td>\n",
       "      <td>Action Adventure ScienceFiction basedonnovel m...</td>\n",
       "    </tr>\n",
       "  </tbody>\n",
       "</table>\n",
       "</div>"
      ],
      "text/plain": [
       "   movie_id                                     title  \\\n",
       "0     19995                                    Avatar   \n",
       "1       285  Pirates of the Caribbean: At World's End   \n",
       "2    206647                                   Spectre   \n",
       "3     49026                     The Dark Knight Rises   \n",
       "4     49529                               John Carter   \n",
       "\n",
       "                                                tags  \n",
       "0  Action Adventure Fantasy ScienceFiction cultur...  \n",
       "1  Adventure Fantasy Action ocean drugabuse exoti...  \n",
       "2  Action Adventure Crime spy basedonnovel secret...  \n",
       "3  Action Crime Drama Thriller dccomics crimefigh...  \n",
       "4  Action Adventure ScienceFiction basedonnovel m...  "
      ]
     },
     "execution_count": 28,
     "metadata": {},
     "output_type": "execute_result"
    }
   ],
   "source": [
    "new_df.head()"
   ]
  },
  {
   "cell_type": "code",
   "execution_count": 29,
   "id": "986da127",
   "metadata": {},
   "outputs": [
    {
     "data": {
      "application/vnd.microsoft.datawrangler.viewer.v0+json": {
       "columns": [
        {
         "name": "index",
         "rawType": "int64",
         "type": "integer"
        },
        {
         "name": "movie_id",
         "rawType": "int64",
         "type": "integer"
        },
        {
         "name": "title",
         "rawType": "object",
         "type": "string"
        },
        {
         "name": "tags",
         "rawType": "object",
         "type": "string"
        }
       ],
       "ref": "88c94136-630e-4648-8eb6-dc259160b905",
       "rows": [
        [
         "0",
         "19995",
         "Avatar",
         "action adventure fantasy sciencefiction cultureclash future spacewar spacecolony society spacetravel futuristic romance space alien tribe alienplanet cgi marine soldier battle loveaffair antiwar powerrelations mindandsoul 3d samworthington zoesaldana sigourneyweaver jamescameron"
        ],
        [
         "1",
         "285",
         "Pirates of the Caribbean: At World's End",
         "adventure fantasy action ocean drugabuse exoticisland eastindiatradingcompany loveofone'slife traitor shipwreck strongwoman ship alliance calypso afterlife fighter pirate swashbuckler aftercreditsstinger johnnydepp orlandobloom keiraknightley goreverbinski"
        ],
        [
         "2",
         "206647",
         "Spectre",
         "action adventure crime spy basedonnovel secretagent sequel mi6 britishsecretservice unitedkingdom danielcraig christophwaltz léaseydoux sammendes"
        ],
        [
         "3",
         "49026",
         "The Dark Knight Rises",
         "action crime drama thriller dccomics crimefighter terrorist secretidentity burglar hostagedrama timebomb gothamcity vigilante cover-up superhero villainess tragichero terrorism destruction catwoman catburglar imax flood criminalunderworld batman christianbale michaelcaine garyoldman christophernolan"
        ],
        [
         "4",
         "49529",
         "John Carter",
         "action adventure sciencefiction basedonnovel mars medallion spacetravel princess alien steampunk martian escape edgarriceburroughs alienrace superhumanstrength marscivilization swordandplanet 19thcentury 3d taylorkitsch lynncollins samanthamorton andrewstanton"
        ]
       ],
       "shape": {
        "columns": 3,
        "rows": 5
       }
      },
      "text/html": [
       "<div>\n",
       "<style scoped>\n",
       "    .dataframe tbody tr th:only-of-type {\n",
       "        vertical-align: middle;\n",
       "    }\n",
       "\n",
       "    .dataframe tbody tr th {\n",
       "        vertical-align: top;\n",
       "    }\n",
       "\n",
       "    .dataframe thead th {\n",
       "        text-align: right;\n",
       "    }\n",
       "</style>\n",
       "<table border=\"1\" class=\"dataframe\">\n",
       "  <thead>\n",
       "    <tr style=\"text-align: right;\">\n",
       "      <th></th>\n",
       "      <th>movie_id</th>\n",
       "      <th>title</th>\n",
       "      <th>tags</th>\n",
       "    </tr>\n",
       "  </thead>\n",
       "  <tbody>\n",
       "    <tr>\n",
       "      <th>0</th>\n",
       "      <td>19995</td>\n",
       "      <td>Avatar</td>\n",
       "      <td>action adventure fantasy sciencefiction cultur...</td>\n",
       "    </tr>\n",
       "    <tr>\n",
       "      <th>1</th>\n",
       "      <td>285</td>\n",
       "      <td>Pirates of the Caribbean: At World's End</td>\n",
       "      <td>adventure fantasy action ocean drugabuse exoti...</td>\n",
       "    </tr>\n",
       "    <tr>\n",
       "      <th>2</th>\n",
       "      <td>206647</td>\n",
       "      <td>Spectre</td>\n",
       "      <td>action adventure crime spy basedonnovel secret...</td>\n",
       "    </tr>\n",
       "    <tr>\n",
       "      <th>3</th>\n",
       "      <td>49026</td>\n",
       "      <td>The Dark Knight Rises</td>\n",
       "      <td>action crime drama thriller dccomics crimefigh...</td>\n",
       "    </tr>\n",
       "    <tr>\n",
       "      <th>4</th>\n",
       "      <td>49529</td>\n",
       "      <td>John Carter</td>\n",
       "      <td>action adventure sciencefiction basedonnovel m...</td>\n",
       "    </tr>\n",
       "  </tbody>\n",
       "</table>\n",
       "</div>"
      ],
      "text/plain": [
       "   movie_id                                     title  \\\n",
       "0     19995                                    Avatar   \n",
       "1       285  Pirates of the Caribbean: At World's End   \n",
       "2    206647                                   Spectre   \n",
       "3     49026                     The Dark Knight Rises   \n",
       "4     49529                               John Carter   \n",
       "\n",
       "                                                tags  \n",
       "0  action adventure fantasy sciencefiction cultur...  \n",
       "1  adventure fantasy action ocean drugabuse exoti...  \n",
       "2  action adventure crime spy basedonnovel secret...  \n",
       "3  action crime drama thriller dccomics crimefigh...  \n",
       "4  action adventure sciencefiction basedonnovel m...  "
      ]
     },
     "execution_count": 29,
     "metadata": {},
     "output_type": "execute_result"
    }
   ],
   "source": [
    "#lets convert into lower case\n",
    "\n",
    "\n",
    "new_df['tags'] = new_df.tags.apply(lambda x : x.lower())\n",
    "new_df.head()"
   ]
  },
  {
   "cell_type": "code",
   "execution_count": 30,
   "id": "e11d5719",
   "metadata": {},
   "outputs": [],
   "source": [
    "# we will merger similar words : ['love', 'loveing', 'loved'] = ['love', 'love', 'love']\n",
    "# Step 1: Install nltk\n",
    "\n",
    "from nltk.stem.porter import PorterStemmer\n",
    "ps = PorterStemmer()"
   ]
  },
  {
   "cell_type": "code",
   "execution_count": 31,
   "id": "138abb38",
   "metadata": {},
   "outputs": [],
   "source": [
    "def stem(text):\n",
    "    y = []\n",
    "    for i in text.split():\n",
    "        y.append(ps.stem(i))\n",
    "    return \" \".join(y)"
   ]
  },
  {
   "cell_type": "code",
   "execution_count": 32,
   "id": "461143a3",
   "metadata": {},
   "outputs": [
    {
     "data": {
      "application/vnd.microsoft.datawrangler.viewer.v0+json": {
       "columns": [
        {
         "name": "index",
         "rawType": "int64",
         "type": "integer"
        },
        {
         "name": "tags",
         "rawType": "object",
         "type": "string"
        }
       ],
       "ref": "976011e2-296f-412e-bd50-6e3ebbe6a08d",
       "rows": [
        [
         "0",
         "action adventur fantasi sciencefict cultureclash futur spacewar spacecoloni societi spacetravel futurist romanc space alien tribe alienplanet cgi marin soldier battl loveaffair antiwar powerrel mindandsoul 3d samworthington zoesaldana sigourneyweav jamescameron"
        ],
        [
         "1",
         "adventur fantasi action ocean drugabus exoticisland eastindiatradingcompani loveofone'slif traitor shipwreck strongwoman ship allianc calypso afterlif fighter pirat swashbuckl aftercreditssting johnnydepp orlandobloom keiraknightley goreverbinski"
        ],
        [
         "2",
         "action adventur crime spi basedonnovel secretag sequel mi6 britishsecretservic unitedkingdom danielcraig christophwaltz léaseydoux sammend"
        ],
        [
         "3",
         "action crime drama thriller dccomic crimefight terrorist secretident burglar hostagedrama timebomb gothamc vigilant cover-up superhero villai tragichero terror destruct catwoman catburglar imax flood criminalunderworld batman christianbal michaelcain garyoldman christophernolan"
        ],
        [
         "4",
         "action adventur sciencefict basedonnovel mar medallion spacetravel princess alien steampunk martian escap edgarriceburrough alienrac superhumanstrength marscivil swordandplanet 19thcenturi 3d taylorkitsch lynncollin samanthamorton andrewstanton"
        ],
        [
         "5",
         "fantasi action adventur dualident amnesia sandstorm loveofone'slif forgiv spider wretch deathofafriend egomania sand narcism hostil marvelcom sequel superhero reveng tobeymaguir kirstendunst jamesfranco samraimi"
        ],
        [
         "6",
         "anim famili hostag magic hors fairytal music princess anim tower blondewoman selfish healingpow basedonfairytal duringcreditssting healinggift animalsidekick zacharylevi mandymoor donnamurphi byronhoward"
        ],
        [
         "7",
         "action adventur sciencefict marvelcom sequel superhero basedoncomicbook vision superheroteam duringcreditssting marvelcinematicunivers 3d robertdowneyjr. chrishemsworth markruffalo josswhedon"
        ],
        [
         "8",
         "adventur fantasi famili witch magic broom schoolofwitchcraft wizardri apparit teenagecrush werewolf danielradcliff rupertgrint emmawatson davidy"
        ],
        [
         "9",
         "action adventur fantasi dccomic vigilant superhero basedoncomicbook reveng superpow clarkkent brucewayn dcextendedunivers benaffleck henrycavil galgadot zacksnyd"
        ],
        [
         "10",
         "adventur fantasi action sciencefict savingtheworld dccomic invulner sequel superhero basedoncomicbook kryptonit superpow superhumanstrength lexluthor brandonrouth kevinspacey katebosworth bryansing"
        ],
        [
         "11",
         "adventur action thriller crime kill undercov secretag britishsecretservic danielcraig olgakurylenko mathieuamalr marcforst"
        ],
        [
         "12",
         "adventur fantasi action witch fortunetel bondag exoticisland monster captain cardgam eastindiatradingcompani compass ship daughter pirat swashbuckl aftercreditssting johnnydepp orlandobloom keiraknightley goreverbinski"
        ],
        [
         "13",
         "action adventur western texa hors survivor texasrang partner outlaw escap lawyer train lonerang comanch thelonerang tonto johnnydepp armiehamm williamfichtn goreverbinski"
        ],
        [
         "14",
         "action adventur fantasi sciencefict savingtheworld dccomic superhero basedoncomicbook superhuman alieninvas reboot superpow dcextendedunivers henrycavil amyadam michaelshannon zacksnyd"
        ],
        [
         "15",
         "adventur famili fantasi basedonnovel fictionalplac brothersisterrelationship lion humanb wretch leapintim matteroflifeanddeath faith uncl narnia fantasyworld benbarn williammoseley annapopplewel andrewadamson"
        ],
        [
         "16",
         "sciencefict action adventur newyork shield marvelcom superhero basedoncomicbook alieninvas superheroteam aftercreditssting duringcreditssting marvelcinematicunivers robertdowneyjr. chrisevan markruffalo josswhedon"
        ],
        [
         "17",
         "adventur action fantasi sea captain mutini sword primeminist sail silver ship duke mermaid pirat soldier battl swashbuckl aftercreditssting 3d johnnydepp penélopecruz ianmcshan robmarshal"
        ],
        [
         "18",
         "action comedi sciencefict timetravel timemachin alien fictionalgovernmentag seeingthefutur changinghistori willsmith tommyleejon joshbrolin barrysonnenfeld"
        ],
        [
         "19",
         "action adventur fantasi corrupt elv dwarv orc middle-earth(tolkien) hobbit dragon battl unlikelyfriendship epicbattl swordandsorceri martinfreeman ianmckellen richardarmitag peterjackson"
        ],
        [
         "20",
         "action adventur fantasi lossoffath vigilant serum marvelcom scientificexperi spiderbit maskedvigilant reboot superpow geneticengin socialoutcast duringcreditssting andrewgarfield emmaston rhysifan marcwebb"
        ],
        [
         "21",
         "action adventur robinhood archer knight sherwoodforest bowandarrow middleag mediev kingofengland russellcrow cateblanchett maxvonsydow ridleyscott"
        ],
        [
         "22",
         "adventur fantasi elv dwarv orc hobbit dragon wizard swordandsorceri martinfreeman ianmckellen richardarmitag peterjackson"
        ],
        [
         "23",
         "adventur fantasi england compass experi lordship uncl polarbear orphan anim basedonyoungadultnovel dakotabluerichard nicolekidman danielcraig chrisweitz"
        ],
        [
         "24",
         "adventur drama action filmbusi screenplay showbusi filmmak filmproduc exoticisland monster indigen ship dinosaur naomiwatt jackblack adrienbrodi peterjackson"
        ],
        [
         "25",
         "drama romanc thriller shipwreck iceberg ship panic titan oceanlin epic richwoman-poorman love disast tragiclov classdiffer imax starcrossedlov steerag salvag richsnob 3d 1910 katewinslet leonardodicaprio francesfish jamescameron"
        ],
        [
         "26",
         "adventur action sciencefict civilwar war marvelcom sequel superhero basedoncomicbook imax aftercreditssting duringcreditssting marvelcinematicunivers 3d chrisevan robertdowneyjr. scarlettjohansson anthonyrusso"
        ],
        [
         "27",
         "thriller action adventur sciencefict fight u.s.navi mindread hongkong soccer scientist fictionalwar naval armada battleship navalcombat jdsmyoko lostcommun taser buoy communicationsexpert jointchiefsofstaff crashland jetfighterpilot navylieuten permissiontomarri ussjohnpauljon basedonboardgam aftercreditssting mightymo ussmissouri taylorkitsch alexanderskarsgård rihanna peterberg"
        ],
        [
         "28",
         "action adventur sciencefict thriller monster dna tyrannosaurusrex velociraptor island sequel suspens disast escap dinosaur amusementpark animalattack themepark jurassicpark 3d animalhorror chrispratt brycedallashoward irrfankhan colintrevorrow"
        ],
        [
         "29",
         "action adventur thriller spi secretag sociopath killer artgalleri britishsecretservic istanbulturkey imax uzi boobytrap impersonatingapoliceoffic macao danielcraig judidench javierbardem sammend"
        ],
        [
         "30",
         "action adventur fantasi dualident loveofone'slif pizzaboy marvelcom sequel superhero doctor scientist tentacl death supervillain tobeymaguir kirstendunst jamesfranco samraimi"
        ],
        [
         "31",
         "action adventur sciencefict terrorist waronterror tennesse malibu marvelcom superhero basedoncomicbook tonystark ironman aftercreditssting marvelcinematicunivers mandarin 3d warmachin ironpatriot extremi robertdowneyjr. gwynethpaltrow doncheadl shaneblack"
        ],
        [
         "32",
         "famili fantasi adventur basedonnovel fictionalplac queen fantasi aliceinwonderland fantasyworld 3d miawasikowska johnnydepp annehathaway timburton"
        ],
        [
         "33",
         "adventur action sciencefict thriller mutant marvelcom basedoncomicbook superhuman beast cyclop aftercreditssting hughjackman halleberri ianmckellen brettratn"
        ],
        [
         "34",
         "anim famili monster dormitori game anim bestfriend univers scari aftercreditssting billycryst johngoodman stevebuscemi danscanlon"
        ],
        [
         "35",
         "sciencefict action adventur egypt sun chao symbol artifact transform tank robot imax duringcreditssting shialabeouf meganfox joshduhamel michaelbay"
        ],
        [
         "36",
         "sciencefict action adventur sequel alien transform giantrobot robot imax transformingrobot markwahlberg stanleytucci kelseygramm michaelbay"
        ],
        [
         "37",
         "fantasi adventur famili circu witch magic hope illus lost magictrick wizard 3d jamesfranco milakuni rachelweisz samraimi"
        ],
        [
         "38",
         "action adventur fantasi obsess marvelcom sequel basedoncomicbook electrocut medicalexperi electr superpow andrewgarfield emmaston jamiefoxx marcwebb"
        ],
        [
         "39",
         "adventur action sciencefict artificialintellig secretident computerprogram dystopia comput decept duel motorcycl neonlight autocraci garretthedlund jeffbridg oliviawild josephkosinski"
        ],
        [
         "40",
         "anim famili adventur comedi carrac sequel comedi anthropomorph bestfriend duringcreditssting owenwilson larrythecableguy michaelcain johnlasset"
        ],
        [
         "41",
         "adventur action thriller sciencefict dccomic transform superhero alien alieninfect magicalobject protector superpow origin 3d ryanreynold blakel petersarsgaard martincampbel"
        ],
        [
         "42",
         "anim famili comedi hostag colleg toy barbi anim escap daycar teddybear duringcreditssting toycomestolif personif inanimateobjectscomingtolif toystori tomhank timallen nedbeatti leeunkrich"
        ],
        [
         "43",
         "action sciencefict thriller savingtheworld artificialintellig propheci sanfrancisco cyborg killerrobot gasstat post-apocalypt dystopia armi firearm wartim losangel christianbal samworthington antonyelchin mcg"
        ],
        [
         "44",
         "action carrac speed reveng suspens car race musclecar vindiesel paulwalk dwaynejohnson jameswan"
        ],
        [
         "45",
         "action drama horror sciencefict thriller dystopia apocalyps zombi nuclearweapon multipleperspect zombieapocalyps bradpitt mireilleeno abigailhargrov marcforst"
        ],
        [
         "46",
         "action adventur fantasi sciencefict 1970 mutant timetravel marvelcom basedoncomicbook superhuman storm beast aftercreditssting changingthepastorfutur hughjackman jamesmcavoy michaelfassbend bryansing"
        ],
        [
         "47",
         "action adventur sciencefict spacecraft friendship sequel futurist space alien imax spaceopera terroristbomb 3d chrispin zacharyquinto zoesaldana j.j.abram"
        ],
        [
         "48",
         "action famili fantasi basedonfairytal giant nicholashoult eleanortomlinson ewanmcgregor bryansing"
        ],
        [
         "49",
         "drama romanc basedonnovel infidel obsess hope 3d leonardodicaprio tobeymaguir careymulligan bazluhrmann"
        ]
       ],
       "shape": {
        "columns": 1,
        "rows": 1000
       }
      },
      "text/plain": [
       "0      action adventur fantasi sciencefict culturecla...\n",
       "1      adventur fantasi action ocean drugabus exotici...\n",
       "2      action adventur crime spi basedonnovel secreta...\n",
       "3      action crime drama thriller dccomic crimefight...\n",
       "4      action adventur sciencefict basedonnovel mar m...\n",
       "                             ...                        \n",
       "995    action thriller sciencefict dystopia mindcontr...\n",
       "996    fantasi drama romanc civilwar southernusa magi...\n",
       "997    comedi crime drama thriller corrupt moder tvsh...\n",
       "998    comedi stupid sequel fashion malemodel fashion...\n",
       "999    comedi crime hotel robberi basedonnovel judg h...\n",
       "Name: tags, Length: 1000, dtype: object"
      ]
     },
     "execution_count": 32,
     "metadata": {},
     "output_type": "execute_result"
    }
   ],
   "source": [
    "new_df['tags'] = new_df.tags.apply(stem)\n",
    "new_df.tags"
   ]
  },
  {
   "cell_type": "markdown",
   "id": "10dc8811",
   "metadata": {},
   "source": [
    "### Now question is this, how we can make  model that can suggest similar  movies based on uses's search ,\n",
    "\n",
    "#we have textual data , we will convert this into vector form \n",
    "- why : we will convert it into vector : bcz we have 5000 movies data so when we will  convert it into vector so there will be 5000k vector , and assume we search a movie that vector position is 'x' now we want to suggest similer movies , how we can suggest we will find the nearest vector of 'x' will show that simple.\n",
    "- we will use bag of words techninqu,\n",
    "- In bag of words we combine all tags words ,then we finde most commen words exp: a tag is salman khan so will check how many times salman khan word comes\n",
    "-In vectorization we will not consider stop words : are, is, if , from, to, etc..\n",
    "- after convert vector will find cosin distacne b/w each moviese\n"
   ]
  },
  {
   "cell_type": "markdown",
   "id": "0e16399d",
   "metadata": {},
   "source": []
  },
  {
   "cell_type": "code",
   "execution_count": 33,
   "id": "fd696106",
   "metadata": {},
   "outputs": [],
   "source": [
    "from sklearn.feature_extraction.text import CountVectorizer\n",
    "\n",
    "cv = CountVectorizer(max_features=5000, stop_words='english')"
   ]
  },
  {
   "cell_type": "code",
   "execution_count": 34,
   "id": "cb60595c",
   "metadata": {},
   "outputs": [],
   "source": [
    "vectors = cv.fit_transform(new_df['tags']).toarray()"
   ]
  },
  {
   "cell_type": "code",
   "execution_count": 35,
   "id": "21309676",
   "metadata": {},
   "outputs": [
    {
     "data": {
      "text/plain": [
       "array([[0, 0, 0, ..., 0, 0, 0],\n",
       "       [0, 0, 0, ..., 0, 0, 0],\n",
       "       [0, 0, 0, ..., 0, 0, 0],\n",
       "       ...,\n",
       "       [0, 0, 0, ..., 0, 0, 0],\n",
       "       [0, 0, 0, ..., 0, 0, 0],\n",
       "       [0, 0, 0, ..., 0, 0, 0]], shape=(1000, 5000))"
      ]
     },
     "execution_count": 35,
     "metadata": {},
     "output_type": "execute_result"
    }
   ],
   "source": [
    "vectors"
   ]
  },
  {
   "cell_type": "code",
   "execution_count": 36,
   "id": "9e85f868",
   "metadata": {},
   "outputs": [
    {
     "data": {
      "text/plain": [
       "5000"
      ]
     },
     "execution_count": 36,
     "metadata": {},
     "output_type": "execute_result"
    }
   ],
   "source": [
    "len(cv.get_feature_names_out())"
   ]
  },
  {
   "cell_type": "code",
   "execution_count": 37,
   "id": "2c4dc144",
   "metadata": {},
   "outputs": [],
   "source": [
    "#cosin distance\n",
    "\n",
    "from sklearn.metrics.pairwise import cosine_similarity\n",
    "\n",
    "similarity = cosine_similarity(vectors)"
   ]
  },
  {
   "cell_type": "code",
   "execution_count": 38,
   "id": "a4f3b87d",
   "metadata": {},
   "outputs": [
    {
     "data": {
      "text/plain": [
       "array([0.11785113, 1.        , 0.1132277 , 0.0379049 , 0.08703883,\n",
       "       0.20833333, 0.        , 0.10206207, 0.10910895, 0.15309311,\n",
       "       0.14433757, 0.11785113, 0.57906602, 0.19802951, 0.14852213,\n",
       "       0.09365858, 0.14852213, 0.34050261, 0.05661385, 0.13693064,\n",
       "       0.14048787, 0.10910895, 0.1132277 , 0.10540926, 0.19802951,\n",
       "       0.08333333, 0.14433757, 0.11572751, 0.08333333, 0.09622504,\n",
       "       0.24056261, 0.13363062, 0.20412415, 0.15811388, 0.05270463,\n",
       "       0.10206207, 0.1132277 , 0.10206207, 0.15811388, 0.10206207,\n",
       "       0.05103104, 0.09901475, 0.        , 0.04682929, 0.05892557,\n",
       "       0.05455447, 0.19245009, 0.10206207, 0.13608276, 0.        ,\n",
       "       0.16984156, 0.10910895, 0.14433757, 0.08703883, 0.05103104,\n",
       "       0.15713484, 0.12309149, 0.        , 0.06804138, 0.09901475,\n",
       "       0.        , 0.16984156, 0.12909944, 0.08908708, 0.05270463,\n",
       "       0.03928371, 0.04950738, 0.06154575, 0.14433757, 0.04454354,\n",
       "       0.1132277 , 0.23145502, 0.14852213, 0.04682929, 0.05270463,\n",
       "       0.1767767 , 0.08512565, 0.        , 0.08703883, 0.16366342,\n",
       "       0.09128709, 0.14433757, 0.04256283, 0.15430335, 0.14852213,\n",
       "       0.13693064, 0.12309149, 0.05270463, 0.13055824, 0.08164966,\n",
       "       0.09622504, 0.13608276, 0.12009612, 0.04454354, 0.19245009,\n",
       "       0.0335578 , 0.09901475, 0.10910895, 0.11785113, 0.09901475,\n",
       "       0.05455447, 0.09901475, 0.16984156, 0.16329932, 0.17407766,\n",
       "       0.1132277 , 0.17766726, 0.13055824, 0.09365858, 0.10206207,\n",
       "       0.        , 0.09901475, 0.09365858, 0.08512565, 0.08703883,\n",
       "       0.18257419, 0.04811252, 0.14433757, 0.0379049 , 0.03402069,\n",
       "       0.        , 0.16984156, 0.15309311, 0.06154575, 0.08512565,\n",
       "       0.06900656, 0.19802951, 0.09128709, 0.        , 0.17817416,\n",
       "       0.04950738, 0.19364917, 0.05270463, 0.09128709, 0.10910895,\n",
       "       0.        , 0.10206207, 0.        , 0.13693064, 0.09563651,\n",
       "       0.06454972, 0.05270463, 0.10540926, 0.16366342, 0.0372678 ,\n",
       "       0.08006408, 0.        , 0.12309149, 0.12309149, 0.08164966,\n",
       "       0.08908708, 0.08703883, 0.09128709, 0.10910895, 0.05455447,\n",
       "       0.        , 0.03311331, 0.11785113, 0.08703883, 0.10206207,\n",
       "       0.13363062, 0.04811252, 0.14433757, 0.04351941, 0.11785113,\n",
       "       0.035007  , 0.08908708, 0.12909944, 0.14852213, 0.13363062,\n",
       "       0.11785113, 0.06454972, 0.08703883, 0.06154575, 0.09128709,\n",
       "       0.10206207, 0.04166667, 0.        , 0.14433757, 0.06154575,\n",
       "       0.035007  , 0.10998534, 0.16366342, 0.10825318, 0.05455447,\n",
       "       0.05270463, 0.06900656, 0.21821789, 0.04003204, 0.06454972,\n",
       "       0.10206207, 0.16666667, 0.05455447, 0.14433757, 0.        ,\n",
       "       0.1132277 , 0.04082483, 0.09622504, 0.10540926, 0.44907312,\n",
       "       0.04454354, 0.        , 0.05892557, 0.1132277 , 0.04256283,\n",
       "       0.12309149, 0.13693064, 0.08703883, 0.16984156, 0.04454354,\n",
       "       0.09901475, 0.05892557, 0.07216878, 0.07715167, 0.        ,\n",
       "       0.10350983, 0.21081851, 0.10540926, 0.06804138, 0.12909944,\n",
       "       0.09365858, 0.05103104, 0.06154575, 0.06154575, 0.05661385,\n",
       "       0.05270463, 0.05892557, 0.04682929, 0.10910895, 0.09622504,\n",
       "       0.08512565, 0.        , 0.14852213, 0.1132277 , 0.13363062,\n",
       "       0.09622504, 0.05103104, 0.11785113, 0.125     , 0.        ,\n",
       "       0.0758098 , 0.16984156, 0.09365858, 0.125     , 0.05270463,\n",
       "       0.08333333, 0.04256283, 0.        , 0.04256283, 0.05270463,\n",
       "       0.        , 0.        , 0.04351941, 0.05661385, 0.09128709,\n",
       "       0.        , 0.05892557, 0.05455447, 0.05661385, 0.1132277 ,\n",
       "       0.09128709, 0.0372678 , 0.12247449, 0.10910895, 0.        ,\n",
       "       0.05455447, 0.04682929, 0.14852213, 0.04682929, 0.        ,\n",
       "       0.04454354, 0.18731716, 0.        , 0.03928371, 0.08512565,\n",
       "       0.04682929, 0.14048787, 0.10206207, 0.09128709, 0.04454354,\n",
       "       0.05661385, 0.04003204, 0.04811252, 0.05892557, 0.        ,\n",
       "       0.10206207, 0.0745356 , 0.04003204, 0.        , 0.10540926,\n",
       "       0.10540926, 0.1132277 , 0.16984156, 0.04950738, 0.1767767 ,\n",
       "       0.10910895, 0.06900656, 0.04454354, 0.        , 0.08006408,\n",
       "       0.08908708, 0.        , 0.13608276, 0.05103104, 0.11785113,\n",
       "       0.07856742, 0.06154575, 0.10540926, 0.05892557, 0.13608276,\n",
       "       0.18330889, 0.05661385, 0.12909944, 0.        , 0.        ,\n",
       "       0.19364917, 0.04564355, 0.        , 0.        , 0.06804138,\n",
       "       0.05661385, 0.        , 0.10998534, 0.        , 0.06154575,\n",
       "       0.05103104, 0.04811252, 0.09622504, 0.05103104, 0.12768848,\n",
       "       0.125     , 0.1132277 , 0.15309311, 0.04256283, 0.14048787,\n",
       "       0.04811252, 0.09901475, 0.05661385, 0.        , 0.09365858,\n",
       "       0.29462783, 0.10910895, 0.09128709, 0.        , 0.07715167,\n",
       "       0.06804138, 0.        , 0.        , 0.05103104, 0.08006408,\n",
       "       0.1132277 , 0.        , 0.05270463, 0.04950738, 0.        ,\n",
       "       0.07332356, 0.09365858, 0.        , 0.05270463, 0.11785113,\n",
       "       0.        , 0.04811252, 0.05892557, 0.04003204, 0.10540926,\n",
       "       0.        , 0.05892557, 0.        , 0.09901475, 0.13363062,\n",
       "       0.08703883, 0.1132277 , 0.06154575, 0.        , 0.04564355,\n",
       "       0.        , 0.05661385, 0.        , 0.        , 0.18463724,\n",
       "       0.        , 0.15430335, 0.        , 0.09365858, 0.11785113,\n",
       "       0.04811252, 0.03928371, 0.04351941, 0.        , 0.16984156,\n",
       "       0.04256283, 0.04811252, 0.05892557, 0.        , 0.04256283,\n",
       "       0.        , 0.0379049 , 0.        , 0.        , 0.04950738,\n",
       "       0.10910895, 0.        , 0.10910895, 0.14048787, 0.        ,\n",
       "       0.04564355, 0.        , 0.05103104, 0.05270463, 0.        ,\n",
       "       0.07715167, 0.16984156, 0.12309149, 0.05661385, 0.06454972,\n",
       "       0.03450328, 0.04166667, 0.05103104, 0.06454972, 0.09622504,\n",
       "       0.08908708, 0.        , 0.        , 0.04811252, 0.08703883,\n",
       "       0.08006408, 0.08512565, 0.        , 0.08333333, 0.        ,\n",
       "       0.        , 0.04003204, 0.05103104, 0.05103104, 0.        ,\n",
       "       0.05661385, 0.        , 0.10540926, 0.        , 0.        ,\n",
       "       0.        , 0.        , 0.0372678 , 0.05103104, 0.        ,\n",
       "       0.        , 0.03857584, 0.05103104, 0.12909944, 0.05892557,\n",
       "       0.        , 0.0379049 , 0.05270463, 0.05103104, 0.        ,\n",
       "       0.0372678 , 0.05270463, 0.12909944, 0.05661385, 0.04682929,\n",
       "       0.        , 0.06804138, 0.        , 0.        , 0.        ,\n",
       "       0.        , 0.13608276, 0.19364917, 0.10206207, 0.10540926,\n",
       "       0.1132277 , 0.06154575, 0.24618298, 0.04950738, 0.        ,\n",
       "       0.10206207, 0.06804138, 0.        , 0.08164966, 0.06804138,\n",
       "       0.05103104, 0.        , 0.        , 0.09901475, 0.05661385,\n",
       "       0.09365858, 0.18463724, 0.05892557, 0.10206207, 0.05661385,\n",
       "       0.12309149, 0.08164966, 0.        , 0.09128709, 0.        ,\n",
       "       0.11785113, 0.        , 0.        , 0.07216878, 0.        ,\n",
       "       0.05661385, 0.12247449, 0.        , 0.14048787, 0.        ,\n",
       "       0.10910895, 0.        , 0.09622504, 0.15309311, 0.        ,\n",
       "       0.04454354, 0.11785113, 0.05892557, 0.11785113, 0.08703883,\n",
       "       0.        , 0.        , 0.        , 0.13608276, 0.        ,\n",
       "       0.        , 0.        , 0.        , 0.10910895, 0.        ,\n",
       "       0.04950738, 0.        , 0.        , 0.04166667, 0.06454972,\n",
       "       0.07216878, 0.1132277 , 0.        , 0.05270463, 0.06804138,\n",
       "       0.1132277 , 0.09128709, 0.11785113, 0.        , 0.09622504,\n",
       "       0.12909944, 0.05892557, 0.05103104, 0.22645541, 0.10910895,\n",
       "       0.        , 0.1132277 , 0.14433757, 0.        , 0.05270463,\n",
       "       0.        , 0.07856742, 0.        , 0.04351941, 0.04564355,\n",
       "       0.05892557, 0.04950738, 0.        , 0.        , 0.        ,\n",
       "       0.06804138, 0.05103104, 0.        , 0.06804138, 0.        ,\n",
       "       0.08908708, 0.08703883, 0.        , 0.10206207, 0.10206207,\n",
       "       0.05270463, 0.04003204, 0.14048787, 0.03928371, 0.05661385,\n",
       "       0.        , 0.10540926, 0.10206207, 0.10540926, 0.04811252,\n",
       "       0.06804138, 0.10910895, 0.04082483, 0.17025131, 0.06804138,\n",
       "       0.        , 0.05455447, 0.13693064, 0.        , 0.10206207,\n",
       "       0.05892557, 0.09128709, 0.04351941, 0.        , 0.0745356 ,\n",
       "       0.11785113, 0.10206207, 0.10540926, 0.        , 0.        ,\n",
       "       0.14433757, 0.04950738, 0.13608276, 0.        , 0.1132277 ,\n",
       "       0.        , 0.        , 0.10540926, 0.        , 0.10540926,\n",
       "       0.11785113, 0.05661385, 0.10910895, 0.05103104, 0.        ,\n",
       "       0.06154575, 0.05270463, 0.03608439, 0.10660036, 0.        ,\n",
       "       0.        , 0.05103104, 0.05455447, 0.06804138, 0.10910895,\n",
       "       0.        , 0.        , 0.18463724, 0.        , 0.05892557,\n",
       "       0.        , 0.04082483, 0.        , 0.        , 0.04256283,\n",
       "       0.        , 0.04811252, 0.        , 0.        , 0.05661385,\n",
       "       0.1132277 , 0.        , 0.        , 0.1132277 , 0.09901475,\n",
       "       0.07715167, 0.05661385, 0.        , 0.        , 0.        ,\n",
       "       0.        , 0.        , 0.        , 0.05270463, 0.12247449,\n",
       "       0.05892557, 0.        , 0.04564355, 0.04950738, 0.04351941,\n",
       "       0.1132277 , 0.15309311, 0.        , 0.        , 0.12909944,\n",
       "       0.10540926, 0.04682929, 0.        , 0.13608276, 0.        ,\n",
       "       0.        , 0.04950738, 0.04003204, 0.        , 0.06804138,\n",
       "       0.09901475, 0.05455447, 0.03553345, 0.15430335, 0.        ,\n",
       "       0.05892557, 0.        , 0.        , 0.10206207, 0.        ,\n",
       "       0.05892557, 0.05455447, 0.10910895, 0.        , 0.        ,\n",
       "       0.04256283, 0.1132277 , 0.        , 0.        , 0.0372678 ,\n",
       "       0.08512565, 0.        , 0.        , 0.04682929, 0.        ,\n",
       "       0.05661385, 0.        , 0.03608439, 0.        , 0.05103104,\n",
       "       0.05270463, 0.06804138, 0.        , 0.04166667, 0.        ,\n",
       "       0.05455447, 0.09901475, 0.        , 0.        , 0.        ,\n",
       "       0.20412415, 0.06804138, 0.        , 0.05661385, 0.05270463,\n",
       "       0.        , 0.05661385, 0.05270463, 0.        , 0.04811252,\n",
       "       0.        , 0.        , 0.        , 0.09622504, 0.        ,\n",
       "       0.09622504, 0.11785113, 0.1132277 , 0.        , 0.05270463,\n",
       "       0.05455447, 0.06154575, 0.08703883, 0.05892557, 0.06804138,\n",
       "       0.03928371, 0.04950738, 0.05892557, 0.05661385, 0.08908708,\n",
       "       0.12309149, 0.16366342, 0.06454972, 0.05103104, 0.        ,\n",
       "       0.04256283, 0.        , 0.        , 0.06804138, 0.04950738,\n",
       "       0.08703883, 0.        , 0.        , 0.        , 0.        ,\n",
       "       0.        , 0.06154575, 0.05103104, 0.        , 0.06154575,\n",
       "       0.        , 0.        , 0.08512565, 0.09622504, 0.06804138,\n",
       "       0.        , 0.        , 0.        , 0.12909944, 0.06804138,\n",
       "       0.        , 0.07216878, 0.14852213, 0.04454354, 0.        ,\n",
       "       0.        , 0.15811388, 0.05270463, 0.13608276, 0.18952451,\n",
       "       0.14852213, 0.23145502, 0.05103104, 0.15811388, 0.        ,\n",
       "       0.06154575, 0.10910895, 0.05270463, 0.        , 0.08703883,\n",
       "       0.        , 0.        , 0.        , 0.        , 0.09622504,\n",
       "       0.12309149, 0.        , 0.        , 0.04682929, 0.06154575,\n",
       "       0.10540926, 0.        , 0.04811252, 0.10910895, 0.        ,\n",
       "       0.04082483, 0.        , 0.03402069, 0.16329932, 0.06154575,\n",
       "       0.        , 0.05455447, 0.        , 0.125     , 0.03928371,\n",
       "       0.09622504, 0.03608439, 0.        , 0.04564355, 0.        ,\n",
       "       0.        , 0.        , 0.10206207, 0.04454354, 0.        ,\n",
       "       0.09901475, 0.13608276, 0.05892557, 0.09901475, 0.0758098 ,\n",
       "       0.04950738, 0.1767767 , 0.        , 0.03857584, 0.        ,\n",
       "       0.08908708, 0.05892557, 0.        , 0.        , 0.04351941,\n",
       "       0.        , 0.        , 0.        , 0.16984156, 0.        ,\n",
       "       0.10910895, 0.        , 0.        , 0.        , 0.04454354,\n",
       "       0.        , 0.06154575, 0.        , 0.06804138, 0.14852213,\n",
       "       0.        , 0.        , 0.        , 0.06454972, 0.08333333,\n",
       "       0.        , 0.07715167, 0.        , 0.05270463, 0.12909944,\n",
       "       0.13363062, 0.        , 0.        , 0.08908708, 0.        ,\n",
       "       0.        , 0.        , 0.06804138, 0.05661385, 0.        ,\n",
       "       0.06454972, 0.        , 0.        , 0.        , 0.        ,\n",
       "       0.        , 0.        , 0.05270463, 0.12309149, 0.        ,\n",
       "       0.        , 0.        , 0.06154575, 0.04454354, 0.1132277 ,\n",
       "       0.06454972, 0.        , 0.        , 0.1132277 , 0.08908708,\n",
       "       0.        , 0.06454972, 0.        , 0.05661385, 0.        ,\n",
       "       0.        , 0.05892557, 0.        , 0.        , 0.        ,\n",
       "       0.        , 0.11785113, 0.        , 0.        , 0.06154575,\n",
       "       0.        , 0.        , 0.04564355, 0.        , 0.05892557,\n",
       "       0.10910895, 0.        , 0.09128709, 0.        , 0.        ,\n",
       "       0.        , 0.        , 0.        , 0.        , 0.05103104,\n",
       "       0.05270463, 0.15309311, 0.0758098 , 0.10206207, 0.04564355,\n",
       "       0.11785113, 0.        , 0.08512565, 0.        , 0.10910895,\n",
       "       0.        , 0.04454354, 0.15811388, 0.        , 0.        ,\n",
       "       0.03928371, 0.        , 0.        , 0.        , 0.        ,\n",
       "       0.08512565, 0.07216878, 0.0379049 , 0.04166667, 0.        ,\n",
       "       0.05661385, 0.05455447, 0.        , 0.        , 0.05455447,\n",
       "       0.07216878, 0.08512565, 0.        , 0.05270463, 0.        ,\n",
       "       0.        , 0.        , 0.08333333, 0.        , 0.07856742,\n",
       "       0.        , 0.10206207, 0.10206207, 0.08908708, 0.04811252,\n",
       "       0.        , 0.        , 0.10910895, 0.10206207, 0.1767767 ,\n",
       "       0.05892557, 0.        , 0.08333333, 0.05270463, 0.        ,\n",
       "       0.16984156, 0.09365858, 0.04950738, 0.        , 0.05892557,\n",
       "       0.12309149, 0.        , 0.        , 0.12909944, 0.05892557,\n",
       "       0.05661385, 0.05661385, 0.        , 0.        , 0.        ])"
      ]
     },
     "execution_count": 38,
     "metadata": {},
     "output_type": "execute_result"
    }
   ],
   "source": [
    "similarity[1] #for distance from the first movie to fist movie"
   ]
  },
  {
   "cell_type": "code",
   "execution_count": 39,
   "id": "fb2d324c",
   "metadata": {},
   "outputs": [
    {
     "data": {
      "text/plain": [
       "[(0, np.float64(1.0000000000000002)),\n",
       " (47, np.float64(0.3849001794597506)),\n",
       " (61, np.float64(0.3202563076101743)),\n",
       " (83, np.float64(0.29095718698132317)),\n",
       " (94, np.float64(0.27216552697590873)),\n",
       " (260, np.float64(0.2581988897471611)),\n",
       " (466, np.float64(0.25660011963983365)),\n",
       " (4, np.float64(0.24618298195866545)),\n",
       " (322, np.float64(0.24195539543709926)),\n",
       " (17, np.float64(0.24077170617153845)),\n",
       " (661, np.float64(0.2405626121623441)),\n",
       " (931, np.float64(0.2405626121623441)),\n",
       " (41, np.float64(0.23338001400466835)),\n",
       " (168, np.float64(0.2333800140046683)),\n",
       " (490, np.float64(0.2321035412742638)),\n",
       " (539, np.float64(0.2268046058132573)),\n",
       " (81, np.float64(0.22680460581325726)),\n",
       " (507, np.float64(0.22680460581325726)),\n",
       " (495, np.float64(0.22222222222222227)),\n",
       " (108, np.float64(0.22075539284417395)),\n",
       " (71, np.float64(0.21821789023599236)),\n",
       " (786, np.float64(0.21821789023599236)),\n",
       " (838, np.float64(0.21821789023599236)),\n",
       " (85, np.float64(0.21516574145596762)),\n",
       " (206, np.float64(0.21516574145596762)),\n",
       " (278, np.float64(0.21516574145596762)),\n",
       " (36, np.float64(0.21350420507344953)),\n",
       " (50, np.float64(0.21350420507344953)),\n",
       " (102, np.float64(0.21350420507344953)),\n",
       " (371, np.float64(0.21350420507344953)),\n",
       " (51, np.float64(0.2057377999494559)),\n",
       " (182, np.float64(0.2057377999494559)),\n",
       " (184, np.float64(0.2057377999494559)),\n",
       " (187, np.float64(0.2057377999494559)),\n",
       " (228, np.float64(0.2057377999494559)),\n",
       " (939, np.float64(0.2057377999494559)),\n",
       " (193, np.float64(0.2041241452319315)),\n",
       " (74, np.float64(0.1987615979999813)),\n",
       " (942, np.float64(0.1987615979999813)),\n",
       " (238, np.float64(0.19641855032959654)),\n",
       " (582, np.float64(0.1924500897298753)),\n",
       " (7, np.float64(0.19245008972987526)),\n",
       " (32, np.float64(0.19245008972987526)),\n",
       " (577, np.float64(0.19245008972987526)),\n",
       " (972, np.float64(0.19245008972987526)),\n",
       " (91, np.float64(0.19245008972987523)),\n",
       " (715, np.float64(0.19245008972987523)),\n",
       " (14, np.float64(0.18670401120373464)),\n",
       " (72, np.float64(0.18670401120373464)),\n",
       " (84, np.float64(0.18670401120373464)),\n",
       " (111, np.float64(0.18670401120373464)),\n",
       " (126, np.float64(0.18670401120373464)),\n",
       " (232, np.float64(0.18670401120373464)),\n",
       " (754, np.float64(0.18670401120373464)),\n",
       " (777, np.float64(0.18670401120373464)),\n",
       " (859, np.float64(0.18670401120373464)),\n",
       " (305, np.float64(0.18518518518518523)),\n",
       " (131, np.float64(0.18257418583505539)),\n",
       " (315, np.float64(0.18257418583505539)),\n",
       " (457, np.float64(0.18257418583505539)),\n",
       " (467, np.float64(0.18257418583505539)),\n",
       " (773, np.float64(0.18257418583505539)),\n",
       " (10, np.float64(0.1814436846506058)),\n",
       " (26, np.float64(0.1814436846506058)),\n",
       " (46, np.float64(0.1814436846506058)),\n",
       " (52, np.float64(0.1814436846506058)),\n",
       " (799, np.float64(0.1814436846506058)),\n",
       " (266, np.float64(0.17660431427533915)),\n",
       " (56, np.float64(0.17407765595569785)),\n",
       " (67, np.float64(0.17407765595569785)),\n",
       " (86, np.float64(0.17407765595569785)),\n",
       " (379, np.float64(0.17407765595569785)),\n",
       " (412, np.float64(0.17407765595569785)),\n",
       " (472, np.float64(0.17407765595569785)),\n",
       " (486, np.float64(0.17407765595569785)),\n",
       " (627, np.float64(0.17407765595569785)),\n",
       " (814, np.float64(0.17407765595569785)),\n",
       " (19, np.float64(0.17213259316477408)),\n",
       " (127, np.float64(0.17213259316477408)),\n",
       " (342, np.float64(0.17213259316477408)),\n",
       " (587, np.float64(0.17213259316477408)),\n",
       " (31, np.float64(0.16798421022632323)),\n",
       " (129, np.float64(0.16798421022632323)),\n",
       " (150, np.float64(0.16798421022632323)),\n",
       " (160, np.float64(0.16798421022632323)),\n",
       " (166, np.float64(0.16798421022632323)),\n",
       " (169, np.float64(0.16798421022632323)),\n",
       " (300, np.float64(0.16798421022632323)),\n",
       " (778, np.float64(0.16798421022632323)),\n",
       " (870, np.float64(0.16798421022632323)),\n",
       " (973, np.float64(0.16798421022632323)),\n",
       " (157, np.float64(0.16666666666666669)),\n",
       " (294, np.float64(0.16666666666666669)),\n",
       " (304, np.float64(0.16666666666666669)),\n",
       " (362, np.float64(0.16666666666666669)),\n",
       " (487, np.float64(0.16666666666666669)),\n",
       " (511, np.float64(0.16666666666666669)),\n",
       " (541, np.float64(0.16666666666666669)),\n",
       " (836, np.float64(0.16666666666666669)),\n",
       " (935, np.float64(0.16666666666666669)),\n",
       " (151, np.float64(0.16412198797244362)),\n",
       " (158, np.float64(0.16412198797244362)),\n",
       " (172, np.float64(0.16412198797244362)),\n",
       " (207, np.float64(0.16412198797244362)),\n",
       " (18, np.float64(0.16012815380508716)),\n",
       " (70, np.float64(0.16012815380508716)),\n",
       " (121, np.float64(0.16012815380508716)),\n",
       " (203, np.float64(0.16012815380508716)),\n",
       " (208, np.float64(0.16012815380508716)),\n",
       " (224, np.float64(0.16012815380508716)),\n",
       " (233, np.float64(0.16012815380508716)),\n",
       " (241, np.float64(0.16012815380508716)),\n",
       " (292, np.float64(0.16012815380508716)),\n",
       " (311, np.float64(0.16012815380508716)),\n",
       " (389, np.float64(0.16012815380508716)),\n",
       " (413, np.float64(0.16012815380508716)),\n",
       " (535, np.float64(0.16012815380508716)),\n",
       " (543, np.float64(0.16012815380508716)),\n",
       " (643, np.float64(0.16012815380508716)),\n",
       " (660, np.float64(0.16012815380508716)),\n",
       " (732, np.float64(0.16012815380508716)),\n",
       " (898, np.float64(0.16012815380508716)),\n",
       " (28, np.float64(0.15713484026367724)),\n",
       " (79, np.float64(0.15430334996209194)),\n",
       " (97, np.float64(0.15430334996209194)),\n",
       " (295, np.float64(0.15430334996209194)),\n",
       " (373, np.float64(0.15430334996209194)),\n",
       " (400, np.float64(0.15430334996209194)),\n",
       " (505, np.float64(0.15430334996209194)),\n",
       " (581, np.float64(0.15430334996209194)),\n",
       " (612, np.float64(0.15430334996209194)),\n",
       " (624, np.float64(0.15430334996209194)),\n",
       " (746, np.float64(0.15430334996209194)),\n",
       " (791, np.float64(0.15430334996209194)),\n",
       " (920, np.float64(0.15430334996209194)),\n",
       " (977, np.float64(0.15430334996209194)),\n",
       " (149, np.float64(0.15396007178390023)),\n",
       " (491, np.float64(0.15396007178390023)),\n",
       " (501, np.float64(0.15396007178390023)),\n",
       " (654, np.float64(0.15396007178390023)),\n",
       " (813, np.float64(0.15396007178390023)),\n",
       " (33, np.float64(0.14907119849998599)),\n",
       " (38, np.float64(0.14907119849998599)),\n",
       " (132, np.float64(0.14907119849998599)),\n",
       " (249, np.float64(0.14907119849998599)),\n",
       " (307, np.float64(0.14907119849998599)),\n",
       " (607, np.float64(0.14907119849998599)),\n",
       " (665, np.float64(0.14907119849998599)),\n",
       " (781, np.float64(0.14907119849998599)),\n",
       " (55, np.float64(0.14814814814814817)),\n",
       " (740, np.float64(0.14814814814814817)),\n",
       " (381, np.float64(0.14547859349066158)),\n",
       " (678, np.float64(0.14547859349066158)),\n",
       " (9, np.float64(0.14433756729740643)),\n",
       " (35, np.float64(0.14433756729740643)),\n",
       " (37, np.float64(0.14433756729740643)),\n",
       " (39, np.float64(0.14433756729740643)),\n",
       " (122, np.float64(0.14433756729740643)),\n",
       " (190, np.float64(0.14433756729740643)),\n",
       " (332, np.float64(0.14433756729740643)),\n",
       " (508, np.float64(0.14433756729740643)),\n",
       " (589, np.float64(0.14433756729740643)),\n",
       " (978, np.float64(0.14433756729740643)),\n",
       " (16, np.float64(0.140028008402801)),\n",
       " (59, np.float64(0.140028008402801)),\n",
       " (96, np.float64(0.140028008402801)),\n",
       " (101, np.float64(0.140028008402801)),\n",
       " (368, np.float64(0.140028008402801)),\n",
       " (483, np.float64(0.140028008402801)),\n",
       " (30, np.float64(0.13608276348795437)),\n",
       " (68, np.float64(0.13608276348795437)),\n",
       " (229, np.float64(0.13608276348795437)),\n",
       " (419, np.float64(0.13608276348795437)),\n",
       " (547, np.float64(0.13608276348795437)),\n",
       " (579, np.float64(0.13608276348795437)),\n",
       " (728, np.float64(0.13608276348795437)),\n",
       " (768, np.float64(0.13608276348795437)),\n",
       " (183, np.float64(0.13608276348795434)),\n",
       " (530, np.float64(0.13608276348795434)),\n",
       " (600, np.float64(0.13608276348795434)),\n",
       " (776, np.float64(0.13608276348795434)),\n",
       " (960, np.float64(0.13608276348795434)),\n",
       " (618, np.float64(0.13400504203456162)),\n",
       " (20, np.float64(0.13245323570650436)),\n",
       " (43, np.float64(0.13245323570650436)),\n",
       " (112, np.float64(0.13245323570650436)),\n",
       " (220, np.float64(0.13245323570650436)),\n",
       " (242, np.float64(0.13245323570650436)),\n",
       " (271, np.float64(0.13245323570650436)),\n",
       " (275, np.float64(0.13245323570650436)),\n",
       " (334, np.float64(0.13245323570650436)),\n",
       " (403, np.float64(0.13245323570650436)),\n",
       " (503, np.float64(0.13245323570650436)),\n",
       " (572, np.float64(0.13245323570650436)),\n",
       " (125, np.float64(0.1301200097264711)),\n",
       " (138, np.float64(0.12909944487358055)),\n",
       " (174, np.float64(0.12909944487358055)),\n",
       " (591, np.float64(0.12909944487358055)),\n",
       " (922, np.float64(0.12909944487358055)),\n",
       " (48, np.float64(0.12830005981991682)),\n",
       " (302, np.float64(0.12830005981991682)),\n",
       " (309, np.float64(0.12830005981991682)),\n",
       " (319, np.float64(0.12830005981991682)),\n",
       " (461, np.float64(0.12830005981991682)),\n",
       " (476, np.float64(0.12830005981991682)),\n",
       " (479, np.float64(0.12830005981991682)),\n",
       " (518, np.float64(0.12830005981991682)),\n",
       " (534, np.float64(0.12830005981991682)),\n",
       " (602, np.float64(0.12830005981991682)),\n",
       " (668, np.float64(0.12830005981991682)),\n",
       " (674, np.float64(0.12830005981991682)),\n",
       " (831, np.float64(0.12830005981991682)),\n",
       " (95, np.float64(0.12655439943366653)),\n",
       " (12, np.float64(0.12598815766974242)),\n",
       " (63, np.float64(0.12598815766974242)),\n",
       " (270, np.float64(0.12598815766974242)),\n",
       " (279, np.float64(0.12598815766974242)),\n",
       " (369, np.float64(0.12598815766974242)),\n",
       " (420, np.float64(0.12598815766974242)),\n",
       " (510, np.float64(0.12598815766974242)),\n",
       " (88, np.float64(0.12309149097933272)),\n",
       " (107, np.float64(0.12309149097933272)),\n",
       " (755, np.float64(0.12309149097933272)),\n",
       " (62, np.float64(0.12171612389003693)),\n",
       " (167, np.float64(0.12171612389003693)),\n",
       " (189, np.float64(0.12171612389003693)),\n",
       " (219, np.float64(0.12171612389003693)),\n",
       " (312, np.float64(0.12171612389003693)),\n",
       " (540, np.float64(0.12171612389003693)),\n",
       " (664, np.float64(0.12171612389003693)),\n",
       " (76, np.float64(0.12038585308576921)),\n",
       " (82, np.float64(0.12038585308576921)),\n",
       " (230, np.float64(0.12038585308576921)),\n",
       " (329, np.float64(0.12038585308576921)),\n",
       " (426, np.float64(0.12038585308576921)),\n",
       " (937, np.float64(0.12038585308576921)),\n",
       " (1, np.float64(0.11785113019775793)),\n",
       " (5, np.float64(0.11785113019775793)),\n",
       " (25, np.float64(0.11785113019775793)),\n",
       " (243, np.float64(0.11785113019775793)),\n",
       " (330, np.float64(0.11785113019775793)),\n",
       " (900, np.float64(0.11785113019775793)),\n",
       " (49, np.float64(0.1160517706371319)),\n",
       " (123, np.float64(0.1160517706371319)),\n",
       " (147, np.float64(0.1160517706371319)),\n",
       " (148, np.float64(0.1160517706371319)),\n",
       " (179, np.float64(0.1160517706371319)),\n",
       " (205, np.float64(0.1160517706371319)),\n",
       " (222, np.float64(0.1160517706371319)),\n",
       " (223, np.float64(0.1160517706371319)),\n",
       " (306, np.float64(0.1160517706371319)),\n",
       " (375, np.float64(0.1160517706371319)),\n",
       " (471, np.float64(0.1160517706371319)),\n",
       " (800, np.float64(0.1160517706371319)),\n",
       " (888, np.float64(0.1160517706371319)),\n",
       " (990, np.float64(0.1160517706371319)),\n",
       " (103, np.float64(0.11547005383792516)),\n",
       " (199, np.float64(0.11547005383792516)),\n",
       " (262, np.float64(0.11547005383792516)),\n",
       " (92, np.float64(0.11322770341445959)),\n",
       " (363, np.float64(0.11322770341445959)),\n",
       " (11, np.float64(0.11111111111111113)),\n",
       " (75, np.float64(0.11111111111111113)),\n",
       " (98, np.float64(0.11111111111111113)),\n",
       " (164, np.float64(0.11111111111111113)),\n",
       " (170, np.float64(0.11111111111111113)),\n",
       " (237, np.float64(0.11111111111111113)),\n",
       " (239, np.float64(0.11111111111111113)),\n",
       " (256, np.float64(0.11111111111111113)),\n",
       " (308, np.float64(0.11111111111111113)),\n",
       " (340, np.float64(0.11111111111111113)),\n",
       " (359, np.float64(0.11111111111111113)),\n",
       " (366, np.float64(0.11111111111111113)),\n",
       " (449, np.float64(0.11111111111111113)),\n",
       " (513, np.float64(0.11111111111111113)),\n",
       " (537, np.float64(0.11111111111111113)),\n",
       " (555, np.float64(0.11111111111111113)),\n",
       " (595, np.float64(0.11111111111111113)),\n",
       " (610, np.float64(0.11111111111111113)),\n",
       " (629, np.float64(0.11111111111111113)),\n",
       " (731, np.float64(0.11111111111111113)),\n",
       " (752, np.float64(0.11111111111111113)),\n",
       " (994, np.float64(0.11111111111111113)),\n",
       " (27, np.float64(0.10910894511799618)),\n",
       " (410, np.float64(0.10910894511799618)),\n",
       " (784, np.float64(0.10721125348377948)),\n",
       " (2, np.float64(0.10675210253672476)),\n",
       " (22, np.float64(0.10675210253672476)),\n",
       " (105, np.float64(0.10675210253672476)),\n",
       " (195, np.float64(0.10675210253672476)),\n",
       " (253, np.float64(0.10675210253672476)),\n",
       " (259, np.float64(0.10675210253672476)),\n",
       " (291, np.float64(0.10675210253672476)),\n",
       " (331, np.float64(0.10675210253672476)),\n",
       " (350, np.float64(0.10675210253672476)),\n",
       " (376, np.float64(0.10675210253672476)),\n",
       " (411, np.float64(0.10675210253672476)),\n",
       " (458, np.float64(0.10675210253672476)),\n",
       " (470, np.float64(0.10675210253672476)),\n",
       " (531, np.float64(0.10675210253672476)),\n",
       " (546, np.float64(0.10675210253672476)),\n",
       " (575, np.float64(0.10675210253672476)),\n",
       " (604, np.float64(0.10675210253672476)),\n",
       " (640, np.float64(0.10675210253672476)),\n",
       " (691, np.float64(0.10675210253672476)),\n",
       " (718, np.float64(0.10675210253672476)),\n",
       " (775, np.float64(0.10675210253672476)),\n",
       " (793, np.float64(0.10675210253672476)),\n",
       " (894, np.float64(0.10675210253672476)),\n",
       " (985, np.float64(0.10675210253672476)),\n",
       " (995, np.float64(0.10675210253672476)),\n",
       " (996, np.float64(0.10675210253672476)),\n",
       " (8, np.float64(0.10286889997472795)),\n",
       " (21, np.float64(0.10286889997472795)),\n",
       " (45, np.float64(0.10286889997472795)),\n",
       " (100, np.float64(0.10286889997472795)),\n",
       " (134, np.float64(0.10286889997472795)),\n",
       " (143, np.float64(0.10286889997472795)),\n",
       " (153, np.float64(0.10286889997472795)),\n",
       " (257, np.float64(0.10286889997472795)),\n",
       " (263, np.float64(0.10286889997472795)),\n",
       " (301, np.float64(0.10286889997472795)),\n",
       " (341, np.float64(0.10286889997472795)),\n",
       " (402, np.float64(0.10286889997472795)),\n",
       " (523, np.float64(0.10286889997472795)),\n",
       " (544, np.float64(0.10286889997472795)),\n",
       " (687, np.float64(0.10286889997472795)),\n",
       " (710, np.float64(0.10286889997472795)),\n",
       " (735, np.float64(0.10286889997472795)),\n",
       " (808, np.float64(0.10286889997472795)),\n",
       " (816, np.float64(0.10286889997472795)),\n",
       " (850, np.float64(0.10286889997472795)),\n",
       " (908, np.float64(0.10286889997472795)),\n",
       " (956, np.float64(0.10286889997472795)),\n",
       " (212, np.float64(0.10206207261596575)),\n",
       " (23, np.float64(0.09938079899999065)),\n",
       " (87, np.float64(0.09938079899999065)),\n",
       " (141, np.float64(0.09938079899999065)),\n",
       " (185, np.float64(0.09938079899999065)),\n",
       " (198, np.float64(0.09938079899999065)),\n",
       " (216, np.float64(0.09938079899999065)),\n",
       " (217, np.float64(0.09938079899999065)),\n",
       " (225, np.float64(0.09938079899999065)),\n",
       " (244, np.float64(0.09938079899999065)),\n",
       " (289, np.float64(0.09938079899999065)),\n",
       " (290, np.float64(0.09938079899999065)),\n",
       " (358, np.float64(0.09938079899999065)),\n",
       " (422, np.float64(0.09938079899999065)),\n",
       " (469, np.float64(0.09938079899999065)),\n",
       " (549, np.float64(0.09938079899999065)),\n",
       " (578, np.float64(0.09938079899999065)),\n",
       " (597, np.float64(0.09938079899999065)),\n",
       " (609, np.float64(0.09938079899999065)),\n",
       " (653, np.float64(0.09938079899999065)),\n",
       " (782, np.float64(0.09938079899999065)),\n",
       " (788, np.float64(0.09938079899999065)),\n",
       " (792, np.float64(0.09938079899999065)),\n",
       " (805, np.float64(0.09938079899999065)),\n",
       " (215, np.float64(0.09759000729485331)),\n",
       " (415, np.float64(0.09759000729485331)),\n",
       " (109, np.float64(0.09622504486493763)),\n",
       " (159, np.float64(0.09622504486493763)),\n",
       " (175, np.float64(0.09622504486493763)),\n",
       " (277, np.float64(0.09622504486493763)),\n",
       " (348, np.float64(0.09622504486493763)),\n",
       " (432, np.float64(0.09622504486493763)),\n",
       " (443, np.float64(0.09622504486493763)),\n",
       " (475, np.float64(0.09622504486493763)),\n",
       " (480, np.float64(0.09622504486493763)),\n",
       " (488, np.float64(0.09622504486493763)),\n",
       " (542, np.float64(0.09622504486493763)),\n",
       " (568, np.float64(0.09622504486493763)),\n",
       " (596, np.float64(0.09622504486493763)),\n",
       " (621, np.float64(0.09622504486493763)),\n",
       " (683, np.float64(0.09622504486493763)),\n",
       " (704, np.float64(0.09622504486493763)),\n",
       " (787, np.float64(0.09622504486493763)),\n",
       " (827, np.float64(0.09622504486493763)),\n",
       " (929, np.float64(0.09622504486493763)),\n",
       " (933, np.float64(0.09622504486493763)),\n",
       " (812, np.float64(0.09622504486493762)),\n",
       " (13, np.float64(0.09335200560186732)),\n",
       " (24, np.float64(0.09335200560186732)),\n",
       " (210, np.float64(0.09335200560186732)),\n",
       " (267, np.float64(0.09335200560186732)),\n",
       " (336, np.float64(0.09335200560186732)),\n",
       " (473, np.float64(0.09335200560186732)),\n",
       " (502, np.float64(0.09335200560186732)),\n",
       " (601, np.float64(0.09335200560186732)),\n",
       " (644, np.float64(0.09335200560186732)),\n",
       " (658, np.float64(0.09335200560186732)),\n",
       " (671, np.float64(0.09335200560186732)),\n",
       " (675, np.float64(0.09335200560186732)),\n",
       " (711, np.float64(0.09335200560186732)),\n",
       " (785, np.float64(0.09335200560186732)),\n",
       " (833, np.float64(0.09335200560186732)),\n",
       " (29, np.float64(0.0907218423253029)),\n",
       " (90, np.float64(0.0907218423253029)),\n",
       " (116, np.float64(0.0907218423253029)),\n",
       " (117, np.float64(0.0907218423253029)),\n",
       " (197, np.float64(0.0907218423253029)),\n",
       " (235, np.float64(0.0907218423253029)),\n",
       " (282, np.float64(0.0907218423253029)),\n",
       " (326, np.float64(0.0907218423253029)),\n",
       " (335, np.float64(0.0907218423253029)),\n",
       " (391, np.float64(0.0907218423253029)),\n",
       " (15, np.float64(0.08830215713766958)),\n",
       " (276, np.float64(0.08830215713766958)),\n",
       " (339, np.float64(0.08830215713766958)),\n",
       " (356, np.float64(0.08830215713766958)),\n",
       " (383, np.float64(0.08830215713766958)),\n",
       " (485, np.float64(0.08830215713766958)),\n",
       " (666, np.float64(0.08830215713766958)),\n",
       " (692, np.float64(0.08830215713766958)),\n",
       " (803, np.float64(0.08830215713766958)),\n",
       " (986, np.float64(0.08830215713766958)),\n",
       " (80, np.float64(0.08606629658238704)),\n",
       " (115, np.float64(0.08606629658238704)),\n",
       " (152, np.float64(0.08606629658238704)),\n",
       " (254, np.float64(0.08606629658238704)),\n",
       " (492, np.float64(0.08606629658238704)),\n",
       " (536, np.float64(0.08606629658238704)),\n",
       " (657, np.float64(0.08606629658238704)),\n",
       " (69, np.float64(0.08399210511316162)),\n",
       " (93, np.float64(0.08399210511316162)),\n",
       " (200, np.float64(0.08399210511316162)),\n",
       " (234, np.float64(0.08399210511316162)),\n",
       " (565, np.float64(0.08399210511316162)),\n",
       " (744, np.float64(0.08399210511316162)),\n",
       " (840, np.float64(0.08399210511316162)),\n",
       " (854, np.float64(0.08399210511316162)),\n",
       " (873, np.float64(0.08399210511316162)),\n",
       " (899, np.float64(0.08399210511316162)),\n",
       " (53, np.float64(0.08206099398622181)),\n",
       " (78, np.float64(0.08206099398622181)),\n",
       " (104, np.float64(0.08206099398622181)),\n",
       " (114, np.float64(0.08206099398622181)),\n",
       " (163, np.float64(0.08206099398622181)),\n",
       " (370, np.float64(0.08206099398622181)),\n",
       " (424, np.float64(0.08206099398622181)),\n",
       " (514, np.float64(0.08206099398622181)),\n",
       " (737, np.float64(0.08206099398622181)),\n",
       " (794, np.float64(0.08206099398622181)),\n",
       " (113, np.float64(0.08025723539051281)),\n",
       " (124, np.float64(0.08025723539051281)),\n",
       " (274, np.float64(0.08025723539051281)),\n",
       " (564, np.float64(0.08025723539051281)),\n",
       " (583, np.float64(0.08025723539051281)),\n",
       " (634, np.float64(0.08025723539051281)),\n",
       " (695, np.float64(0.08025723539051281)),\n",
       " (767, np.float64(0.08025723539051281)),\n",
       " (950, np.float64(0.08025723539051281)),\n",
       " (961, np.float64(0.08025723539051281)),\n",
       " (191, np.float64(0.07856742013183862)),\n",
       " (245, np.float64(0.07856742013183862)),\n",
       " (416, np.float64(0.07856742013183862)),\n",
       " (428, np.float64(0.07856742013183862)),\n",
       " (864, np.float64(0.07856742013183862)),\n",
       " (967, np.float64(0.07856742013183862)),\n",
       " (982, np.float64(0.07856742013183862)),\n",
       " (196, np.float64(0.07698003589195011)),\n",
       " (478, np.float64(0.07698003589195011)),\n",
       " (299, np.float64(0.07548513560963972)),\n",
       " (349, np.float64(0.07548513560963972)),\n",
       " (425, np.float64(0.07548513560963972)),\n",
       " (551, np.float64(0.07407407407407408)),\n",
       " (889, np.float64(0.07407407407407408)),\n",
       " (945, np.float64(0.07407407407407408)),\n",
       " (969, np.float64(0.07407407407407408)),\n",
       " (213, np.float64(0.07273929674533079)),\n",
       " (323, np.float64(0.07273929674533079)),\n",
       " (344, np.float64(0.07273929674533079)),\n",
       " (463, np.float64(0.07273929674533079)),\n",
       " (645, np.float64(0.07273929674533079)),\n",
       " (866, np.float64(0.07273929674533079)),\n",
       " (240, np.float64(0.07147416898918632)),\n",
       " (454, np.float64(0.07147416898918632)),\n",
       " (834, np.float64(0.07147416898918632)),\n",
       " (932, np.float64(0.07147416898918632)),\n",
       " (442, np.float64(0.07027283689263066)),\n",
       " (594, np.float64(0.07027283689263066)),\n",
       " (770, np.float64(0.07027283689263066)),\n",
       " (310, np.float64(0.06913011298202835)),\n",
       " (146, np.float64(0.06804138174397717)),\n",
       " (162, np.float64(0.06804138174397717)),\n",
       " (272, np.float64(0.06804138174397717)),\n",
       " (313, np.float64(0.06804138174397717)),\n",
       " (498, np.float64(0.06804138174397717)),\n",
       " (617, np.float64(0.06804138174397717)),\n",
       " (751, np.float64(0.06804138174397717)),\n",
       " (951, np.float64(0.06804138174397717)),\n",
       " (106, np.float64(0.06700252101728081)),\n",
       " (165, np.float64(0.06600983619844494)),\n",
       " (186, np.float64(0.06506000486323554)),\n",
       " (296, np.float64(0.06506000486323554)),\n",
       " (58, np.float64(0.06415002990995841)),\n",
       " (119, np.float64(0.06415002990995841)),\n",
       " (218, np.float64(0.06415002990995841)),\n",
       " (345, np.float64(0.06415002990995841)),\n",
       " (397, np.float64(0.06415002990995841)),\n",
       " (560, np.float64(0.06415002990995841)),\n",
       " (563, np.float64(0.06415002990995841)),\n",
       " (580, np.float64(0.06415002990995841)),\n",
       " (584, np.float64(0.06415002990995841)),\n",
       " (632, np.float64(0.06415002990995841)),\n",
       " (638, np.float64(0.06415002990995841)),\n",
       " (701, np.float64(0.06415002990995841)),\n",
       " (706, np.float64(0.06415002990995841)),\n",
       " (716, np.float64(0.06415002990995841)),\n",
       " (733, np.float64(0.06415002990995841)),\n",
       " (739, np.float64(0.06415002990995841)),\n",
       " (753, np.float64(0.06415002990995841)),\n",
       " (769, np.float64(0.06415002990995841)),\n",
       " (774, np.float64(0.06415002990995841)),\n",
       " (783, np.float64(0.06415002990995841)),\n",
       " (858, np.float64(0.06415002990995841)),\n",
       " (860, np.float64(0.06415002990995841)),\n",
       " (882, np.float64(0.06415002990995841)),\n",
       " (891, np.float64(0.06415002990995841)),\n",
       " (156, np.float64(0.06243905410544627)),\n",
       " (140, np.float64(0.060858061945018464)),\n",
       " (171, np.float64(0.060858061945018464)),\n",
       " (251, np.float64(0.060858061945018464)),\n",
       " (414, np.float64(0.060858061945018464)),\n",
       " (418, np.float64(0.060858061945018464)),\n",
       " (438, np.float64(0.060858061945018464)),\n",
       " (529, np.float64(0.060858061945018464)),\n",
       " (630, np.float64(0.060858061945018464)),\n",
       " (648, np.float64(0.060858061945018464)),\n",
       " (723, np.float64(0.060858061945018464)),\n",
       " (747, np.float64(0.060858061945018464)),\n",
       " (815, np.float64(0.060858061945018464)),\n",
       " (863, np.float64(0.060858061945018464)),\n",
       " (869, np.float64(0.060858061945018464)),\n",
       " (880, np.float64(0.060858061945018464)),\n",
       " (901, np.float64(0.060858061945018464)),\n",
       " (993, np.float64(0.060858061945018464)),\n",
       " (139, np.float64(0.06011130897782883)),\n",
       " (173, np.float64(0.05802588531856595)),\n",
       " (324, np.float64(0.05802588531856595)),\n",
       " (372, np.float64(0.05802588531856595)),\n",
       " (440, np.float64(0.05802588531856595)),\n",
       " (515, np.float64(0.05802588531856595)),\n",
       " (615, np.float64(0.05802588531856595)),\n",
       " (703, np.float64(0.05802588531856595)),\n",
       " (736, np.float64(0.05802588531856595)),\n",
       " (745, np.float64(0.05802588531856595)),\n",
       " (761, np.float64(0.05802588531856595)),\n",
       " (764, np.float64(0.05802588531856595)),\n",
       " (790, np.float64(0.05802588531856595)),\n",
       " (804, np.float64(0.05802588531856595)),\n",
       " (817, np.float64(0.05802588531856595)),\n",
       " (856, np.float64(0.05802588531856595)),\n",
       " (902, np.float64(0.05802588531856595)),\n",
       " (910, np.float64(0.05802588531856595)),\n",
       " (914, np.float64(0.05802588531856595)),\n",
       " (957, np.float64(0.05802588531856595)),\n",
       " (44, np.float64(0.055555555555555566)),\n",
       " (202, np.float64(0.055555555555555566)),\n",
       " (211, np.float64(0.055555555555555566)),\n",
       " (226, np.float64(0.055555555555555566)),\n",
       " (284, np.float64(0.055555555555555566)),\n",
       " (384, np.float64(0.055555555555555566)),\n",
       " (392, np.float64(0.055555555555555566)),\n",
       " (441, np.float64(0.055555555555555566)),\n",
       " (512, np.float64(0.055555555555555566)),\n",
       " (550, np.float64(0.055555555555555566)),\n",
       " (557, np.float64(0.055555555555555566)),\n",
       " (590, np.float64(0.055555555555555566)),\n",
       " (655, np.float64(0.055555555555555566)),\n",
       " (680, np.float64(0.055555555555555566)),\n",
       " (681, np.float64(0.055555555555555566)),\n",
       " (685, np.float64(0.055555555555555566)),\n",
       " (742, np.float64(0.055555555555555566)),\n",
       " (826, np.float64(0.055555555555555566)),\n",
       " (832, np.float64(0.055555555555555566)),\n",
       " (837, np.float64(0.055555555555555566)),\n",
       " (841, np.float64(0.055555555555555566)),\n",
       " (911, np.float64(0.055555555555555566)),\n",
       " (915, np.float64(0.055555555555555566)),\n",
       " (919, np.float64(0.055555555555555566)),\n",
       " (979, np.float64(0.055555555555555566)),\n",
       " (980, np.float64(0.055555555555555566)),\n",
       " (989, np.float64(0.055555555555555566)),\n",
       " (258, np.float64(0.05337605126836238)),\n",
       " (320, np.float64(0.05337605126836238)),\n",
       " (337, np.float64(0.05337605126836238)),\n",
       " (404, np.float64(0.05337605126836238)),\n",
       " (435, np.float64(0.05337605126836238)),\n",
       " (450, np.float64(0.05337605126836238)),\n",
       " (484, np.float64(0.05337605126836238)),\n",
       " (500, np.float64(0.05337605126836238)),\n",
       " (559, np.float64(0.05337605126836238)),\n",
       " (567, np.float64(0.05337605126836238)),\n",
       " (574, np.float64(0.05337605126836238)),\n",
       " (611, np.float64(0.05337605126836238)),\n",
       " (646, np.float64(0.05337605126836238)),\n",
       " (700, np.float64(0.05337605126836238)),\n",
       " (721, np.float64(0.05337605126836238)),\n",
       " (743, np.float64(0.05337605126836238)),\n",
       " (843, np.float64(0.05337605126836238)),\n",
       " (848, np.float64(0.05337605126836238)),\n",
       " (903, np.float64(0.05337605126836238)),\n",
       " (912, np.float64(0.05337605126836238)),\n",
       " (955, np.float64(0.05337605126836238)),\n",
       " (962, np.float64(0.05337605126836238)),\n",
       " (964, np.float64(0.05337605126836238)),\n",
       " (991, np.float64(0.05337605126836238)),\n",
       " (154, np.float64(0.051434449987363975)),\n",
       " (265, np.float64(0.051434449987363975)),\n",
       " (445, np.float64(0.051434449987363975)),\n",
       " (506, np.float64(0.051434449987363975)),\n",
       " (586, np.float64(0.051434449987363975)),\n",
       " (622, np.float64(0.051434449987363975)),\n",
       " (652, np.float64(0.051434449987363975)),\n",
       " (670, np.float64(0.051434449987363975)),\n",
       " (676, np.float64(0.051434449987363975)),\n",
       " (806, np.float64(0.051434449987363975)),\n",
       " (855, np.float64(0.051434449987363975)),\n",
       " (886, np.float64(0.051434449987363975)),\n",
       " (925, np.float64(0.051434449987363975)),\n",
       " (959, np.float64(0.051434449987363975)),\n",
       " (64, np.float64(0.049690399499995326)),\n",
       " (142, np.float64(0.049690399499995326)),\n",
       " (352, np.float64(0.049690399499995326)),\n",
       " (364, np.float64(0.049690399499995326)),\n",
       " (408, np.float64(0.049690399499995326)),\n",
       " (437, np.float64(0.049690399499995326)),\n",
       " (452, np.float64(0.049690399499995326)),\n",
       " (456, np.float64(0.049690399499995326)),\n",
       " (460, np.float64(0.049690399499995326)),\n",
       " (533, np.float64(0.049690399499995326)),\n",
       " (545, np.float64(0.049690399499995326)),\n",
       " (570, np.float64(0.049690399499995326)),\n",
       " (576, np.float64(0.049690399499995326)),\n",
       " (598, np.float64(0.049690399499995326)),\n",
       " (705, np.float64(0.049690399499995326)),\n",
       " (734, np.float64(0.049690399499995326)),\n",
       " (822, np.float64(0.049690399499995326)),\n",
       " (868, np.float64(0.049690399499995326)),\n",
       " (887, np.float64(0.049690399499995326)),\n",
       " (930, np.float64(0.049690399499995326)),\n",
       " (963, np.float64(0.049690399499995326)),\n",
       " (983, np.float64(0.049690399499995326)),\n",
       " (40, np.float64(0.048112522432468816)),\n",
       " (54, np.float64(0.048112522432468816)),\n",
       " (136, np.float64(0.048112522432468816)),\n",
       " (221, np.float64(0.048112522432468816)),\n",
       " (236, np.float64(0.048112522432468816)),\n",
       " (285, np.float64(0.048112522432468816)),\n",
       " (303, np.float64(0.048112522432468816)),\n",
       " (325, np.float64(0.048112522432468816)),\n",
       " (407, np.float64(0.048112522432468816)),\n",
       " (417, np.float64(0.048112522432468816)),\n",
       " (433, np.float64(0.048112522432468816)),\n",
       " (447, np.float64(0.048112522432468816)),\n",
       " (453, np.float64(0.048112522432468816)),\n",
       " (468, np.float64(0.048112522432468816)),\n",
       " (561, np.float64(0.048112522432468816)),\n",
       " (569, np.float64(0.048112522432468816)),\n",
       " (613, np.float64(0.048112522432468816)),\n",
       " (748, np.float64(0.048112522432468816)),\n",
       " (762, np.float64(0.048112522432468816)),\n",
       " (971, np.float64(0.048112522432468816)),\n",
       " (66, np.float64(0.04667600280093366)),\n",
       " (99, np.float64(0.04667600280093366)),\n",
       " (130, np.float64(0.04667600280093366)),\n",
       " (293, np.float64(0.04667600280093366)),\n",
       " (353, np.float64(0.04667600280093366)),\n",
       " (395, np.float64(0.04667600280093366)),\n",
       " (399, np.float64(0.04667600280093366)),\n",
       " (525, np.float64(0.04667600280093366)),\n",
       " (556, np.float64(0.04667600280093366)),\n",
       " (599, np.float64(0.04667600280093366)),\n",
       " (669, np.float64(0.04667600280093366)),\n",
       " (720, np.float64(0.04667600280093366)),\n",
       " (741, np.float64(0.04667600280093366)),\n",
       " (830, np.float64(0.04667600280093366)),\n",
       " (161, np.float64(0.04536092116265145)),\n",
       " (178, np.float64(0.04536092116265145)),\n",
       " (327, np.float64(0.04536092116265145)),\n",
       " (361, np.float64(0.04536092116265145)),\n",
       " (423, np.float64(0.04536092116265145)),\n",
       " (636, np.float64(0.04536092116265145)),\n",
       " (724, np.float64(0.04536092116265145)),\n",
       " (730, np.float64(0.04536092116265145)),\n",
       " (756, np.float64(0.04536092116265145)),\n",
       " (807, np.float64(0.04536092116265145)),\n",
       " (820, np.float64(0.04536092116265145)),\n",
       " (907, np.float64(0.04536092116265145)),\n",
       " (974, np.float64(0.04536092116265145)),\n",
       " (73, np.float64(0.04415107856883479)),\n",
       " (227, np.float64(0.04415107856883479)),\n",
       " (268, np.float64(0.04415107856883479)),\n",
       " (459, np.float64(0.04415107856883479)),\n",
       " (647, np.float64(0.04415107856883479)),\n",
       " (698, np.float64(0.04415107856883479)),\n",
       " (795, np.float64(0.04415107856883479)),\n",
       " (904, np.float64(0.04415107856883479)),\n",
       " (133, np.float64(0.04303314829119352)),\n",
       " (269, np.float64(0.04303314829119352)),\n",
       " (374, np.float64(0.04303314829119352)),\n",
       " (405, np.float64(0.04303314829119352)),\n",
       " (493, np.float64(0.04303314829119352)),\n",
       " (626, np.float64(0.04303314829119352)),\n",
       " (757, np.float64(0.04303314829119352)),\n",
       " (823, np.float64(0.04303314829119352)),\n",
       " (853, np.float64(0.04303314829119352)),\n",
       " (885, np.float64(0.04303314829119352)),\n",
       " (917, np.float64(0.04303314829119352)),\n",
       " (934, np.float64(0.04303314829119352)),\n",
       " (77, np.float64(0.04199605255658081)),\n",
       " (110, np.float64(0.04199605255658081)),\n",
       " (209, np.float64(0.04199605255658081)),\n",
       " (297, np.float64(0.04199605255658081)),\n",
       " (482, np.float64(0.04199605255658081)),\n",
       " (682, np.float64(0.04199605255658081)),\n",
       " (688, np.float64(0.04199605255658081)),\n",
       " (811, np.float64(0.04199605255658081)),\n",
       " (828, np.float64(0.04199605255658081)),\n",
       " (893, np.float64(0.04199605255658081)),\n",
       " (941, np.float64(0.04199605255658081)),\n",
       " (252, np.float64(0.041030496993110906)),\n",
       " (387, np.float64(0.041030496993110906)),\n",
       " (553, np.float64(0.041030496993110906)),\n",
       " (566, np.float64(0.041030496993110906)),\n",
       " (592, np.float64(0.041030496993110906)),\n",
       " (659, np.float64(0.041030496993110906)),\n",
       " (844, np.float64(0.041030496993110906)),\n",
       " (861, np.float64(0.041030496993110906)),\n",
       " (204, np.float64(0.040128617695256406)),\n",
       " (246, np.float64(0.040128617695256406)),\n",
       " (248, np.float64(0.040128617695256406)),\n",
       " (333, np.float64(0.040128617695256406)),\n",
       " (380, np.float64(0.040128617695256406)),\n",
       " (390, np.float64(0.040128617695256406)),\n",
       " (394, np.float64(0.040128617695256406)),\n",
       " (637, np.float64(0.040128617695256406)),\n",
       " (690, np.float64(0.040128617695256406)),\n",
       " (750, np.float64(0.040128617695256406)),\n",
       " (809, np.float64(0.040128617695256406)),\n",
       " (176, np.float64(0.03928371006591931)),\n",
       " (528, np.float64(0.03928371006591931)),\n",
       " (708, np.float64(0.03928371006591931)),\n",
       " (818, np.float64(0.03928371006591931)),\n",
       " (852, np.float64(0.03928371006591931)),\n",
       " (953, np.float64(0.03928371006591931)),\n",
       " (89, np.float64(0.03849001794597506)),\n",
       " (614, np.float64(0.03849001794597506)),\n",
       " (631, np.float64(0.03849001794597506)),\n",
       " (635, np.float64(0.03849001794597506)),\n",
       " (810, np.float64(0.03849001794597506)),\n",
       " (145, np.float64(0.03774256780481986)),\n",
       " (188, np.float64(0.03774256780481986)),\n",
       " (281, np.float64(0.03774256780481986)),\n",
       " (287, np.float64(0.03774256780481986)),\n",
       " (365, np.float64(0.03774256780481986)),\n",
       " (431, np.float64(0.03774256780481986)),\n",
       " (571, np.float64(0.03774256780481986)),\n",
       " (672, np.float64(0.03774256780481986)),\n",
       " (713, np.float64(0.03774256780481986)),\n",
       " (65, np.float64(0.03703703703703704)),\n",
       " (273, np.float64(0.03703703703703704)),\n",
       " (386, np.float64(0.03703703703703704)),\n",
       " (516, np.float64(0.03703703703703704)),\n",
       " (573, np.float64(0.03703703703703704)),\n",
       " (625, np.float64(0.03703703703703704)),\n",
       " (862, np.float64(0.03703703703703704)),\n",
       " (446, np.float64(0.036369648372665396)),\n",
       " (673, np.float64(0.036369648372665396)),\n",
       " (3, np.float64(0.03573708449459316)),\n",
       " (118, np.float64(0.03573708449459316)),\n",
       " (396, np.float64(0.03573708449459316)),\n",
       " (451, np.float64(0.03573708449459316)),\n",
       " (952, np.float64(0.03573708449459316)),\n",
       " (144, np.float64(0.03513641844631533)),\n",
       " (261, np.float64(0.03513641844631533)),\n",
       " (286, np.float64(0.03513641844631533)),\n",
       " (455, np.float64(0.03513641844631533)),\n",
       " (694, np.float64(0.03513641844631533)),\n",
       " (875, np.float64(0.03513641844631533)),\n",
       " (181, np.float64(0.03456505649101418)),\n",
       " (355, np.float64(0.03456505649101418)),\n",
       " (702, np.float64(0.034020690871988585)),\n",
       " (821, np.float64(0.034020690871988585)),\n",
       " (677, np.float64(0.033501260508640406)),\n",
       " (180, np.float64(0.03300491809922247)),\n",
       " (6, np.float64(0.0)),\n",
       " (34, np.float64(0.0)),\n",
       " (42, np.float64(0.0)),\n",
       " (57, np.float64(0.0)),\n",
       " (60, np.float64(0.0)),\n",
       " (120, np.float64(0.0)),\n",
       " (128, np.float64(0.0)),\n",
       " (135, np.float64(0.0)),\n",
       " (137, np.float64(0.0)),\n",
       " (155, np.float64(0.0)),\n",
       " (177, np.float64(0.0)),\n",
       " (192, np.float64(0.0)),\n",
       " (194, np.float64(0.0)),\n",
       " (201, np.float64(0.0)),\n",
       " (214, np.float64(0.0)),\n",
       " (231, np.float64(0.0)),\n",
       " (247, np.float64(0.0)),\n",
       " (250, np.float64(0.0)),\n",
       " (255, np.float64(0.0)),\n",
       " (264, np.float64(0.0)),\n",
       " (280, np.float64(0.0)),\n",
       " (283, np.float64(0.0)),\n",
       " (288, np.float64(0.0)),\n",
       " (298, np.float64(0.0)),\n",
       " (314, np.float64(0.0)),\n",
       " (316, np.float64(0.0)),\n",
       " (317, np.float64(0.0)),\n",
       " (318, np.float64(0.0)),\n",
       " (321, np.float64(0.0)),\n",
       " (328, np.float64(0.0)),\n",
       " (338, np.float64(0.0)),\n",
       " (343, np.float64(0.0)),\n",
       " (346, np.float64(0.0)),\n",
       " (347, np.float64(0.0)),\n",
       " (351, np.float64(0.0)),\n",
       " (354, np.float64(0.0)),\n",
       " (357, np.float64(0.0)),\n",
       " (360, np.float64(0.0)),\n",
       " (367, np.float64(0.0)),\n",
       " (377, np.float64(0.0)),\n",
       " (378, np.float64(0.0)),\n",
       " (382, np.float64(0.0)),\n",
       " (385, np.float64(0.0)),\n",
       " (388, np.float64(0.0)),\n",
       " (393, np.float64(0.0)),\n",
       " (398, np.float64(0.0)),\n",
       " (401, np.float64(0.0)),\n",
       " (406, np.float64(0.0)),\n",
       " (409, np.float64(0.0)),\n",
       " (421, np.float64(0.0)),\n",
       " (427, np.float64(0.0)),\n",
       " (429, np.float64(0.0)),\n",
       " (430, np.float64(0.0)),\n",
       " (434, np.float64(0.0)),\n",
       " (436, np.float64(0.0)),\n",
       " (439, np.float64(0.0)),\n",
       " (444, np.float64(0.0)),\n",
       " (448, np.float64(0.0)),\n",
       " (462, np.float64(0.0)),\n",
       " (464, np.float64(0.0)),\n",
       " (465, np.float64(0.0)),\n",
       " (474, np.float64(0.0)),\n",
       " (477, np.float64(0.0)),\n",
       " (481, np.float64(0.0)),\n",
       " (489, np.float64(0.0)),\n",
       " (494, np.float64(0.0)),\n",
       " (496, np.float64(0.0)),\n",
       " (497, np.float64(0.0)),\n",
       " (499, np.float64(0.0)),\n",
       " (504, np.float64(0.0)),\n",
       " (509, np.float64(0.0)),\n",
       " (517, np.float64(0.0)),\n",
       " (519, np.float64(0.0)),\n",
       " (520, np.float64(0.0)),\n",
       " (521, np.float64(0.0)),\n",
       " (522, np.float64(0.0)),\n",
       " (524, np.float64(0.0)),\n",
       " (526, np.float64(0.0)),\n",
       " (527, np.float64(0.0)),\n",
       " (532, np.float64(0.0)),\n",
       " (538, np.float64(0.0)),\n",
       " (548, np.float64(0.0)),\n",
       " (552, np.float64(0.0)),\n",
       " (554, np.float64(0.0)),\n",
       " (558, np.float64(0.0)),\n",
       " (562, np.float64(0.0)),\n",
       " (585, np.float64(0.0)),\n",
       " (588, np.float64(0.0)),\n",
       " (593, np.float64(0.0)),\n",
       " (603, np.float64(0.0)),\n",
       " (605, np.float64(0.0)),\n",
       " (606, np.float64(0.0)),\n",
       " (608, np.float64(0.0)),\n",
       " (616, np.float64(0.0)),\n",
       " (619, np.float64(0.0)),\n",
       " (620, np.float64(0.0)),\n",
       " (623, np.float64(0.0)),\n",
       " (628, np.float64(0.0)),\n",
       " (633, np.float64(0.0)),\n",
       " (639, np.float64(0.0)),\n",
       " (641, np.float64(0.0)),\n",
       " (642, np.float64(0.0)),\n",
       " (649, np.float64(0.0)),\n",
       " (650, np.float64(0.0)),\n",
       " (651, np.float64(0.0)),\n",
       " (656, np.float64(0.0)),\n",
       " (662, np.float64(0.0)),\n",
       " (663, np.float64(0.0)),\n",
       " (667, np.float64(0.0)),\n",
       " (679, np.float64(0.0)),\n",
       " (684, np.float64(0.0)),\n",
       " (686, np.float64(0.0)),\n",
       " (689, np.float64(0.0)),\n",
       " (693, np.float64(0.0)),\n",
       " (696, np.float64(0.0)),\n",
       " (697, np.float64(0.0)),\n",
       " (699, np.float64(0.0)),\n",
       " (707, np.float64(0.0)),\n",
       " (709, np.float64(0.0)),\n",
       " (712, np.float64(0.0)),\n",
       " (714, np.float64(0.0)),\n",
       " (717, np.float64(0.0)),\n",
       " (719, np.float64(0.0)),\n",
       " (722, np.float64(0.0)),\n",
       " (725, np.float64(0.0)),\n",
       " (726, np.float64(0.0)),\n",
       " (727, np.float64(0.0)),\n",
       " (729, np.float64(0.0)),\n",
       " (738, np.float64(0.0)),\n",
       " (749, np.float64(0.0)),\n",
       " (758, np.float64(0.0)),\n",
       " (759, np.float64(0.0)),\n",
       " (760, np.float64(0.0)),\n",
       " (763, np.float64(0.0)),\n",
       " (765, np.float64(0.0)),\n",
       " (766, np.float64(0.0)),\n",
       " (771, np.float64(0.0)),\n",
       " (772, np.float64(0.0)),\n",
       " (779, np.float64(0.0)),\n",
       " (780, np.float64(0.0)),\n",
       " (789, np.float64(0.0)),\n",
       " (796, np.float64(0.0)),\n",
       " (797, np.float64(0.0)),\n",
       " (798, np.float64(0.0)),\n",
       " (801, np.float64(0.0)),\n",
       " (802, np.float64(0.0)),\n",
       " (819, np.float64(0.0)),\n",
       " (824, np.float64(0.0)),\n",
       " (825, np.float64(0.0)),\n",
       " (829, np.float64(0.0)),\n",
       " (835, np.float64(0.0)),\n",
       " (839, np.float64(0.0)),\n",
       " (842, np.float64(0.0)),\n",
       " (845, np.float64(0.0)),\n",
       " (846, np.float64(0.0)),\n",
       " (847, np.float64(0.0)),\n",
       " (849, np.float64(0.0)),\n",
       " (851, np.float64(0.0)),\n",
       " (857, np.float64(0.0)),\n",
       " (865, np.float64(0.0)),\n",
       " (867, np.float64(0.0)),\n",
       " (871, np.float64(0.0)),\n",
       " (872, np.float64(0.0)),\n",
       " (874, np.float64(0.0)),\n",
       " (876, np.float64(0.0)),\n",
       " (877, np.float64(0.0)),\n",
       " (878, np.float64(0.0)),\n",
       " (879, np.float64(0.0)),\n",
       " (881, np.float64(0.0)),\n",
       " (883, np.float64(0.0)),\n",
       " (884, np.float64(0.0)),\n",
       " (890, np.float64(0.0)),\n",
       " (892, np.float64(0.0)),\n",
       " (895, np.float64(0.0)),\n",
       " (896, np.float64(0.0)),\n",
       " (897, np.float64(0.0)),\n",
       " (905, np.float64(0.0)),\n",
       " (906, np.float64(0.0)),\n",
       " (909, np.float64(0.0)),\n",
       " (913, np.float64(0.0)),\n",
       " (916, np.float64(0.0)),\n",
       " (918, np.float64(0.0)),\n",
       " (921, np.float64(0.0)),\n",
       " (923, np.float64(0.0)),\n",
       " (924, np.float64(0.0)),\n",
       " (926, np.float64(0.0)),\n",
       " (927, np.float64(0.0)),\n",
       " (928, np.float64(0.0)),\n",
       " (936, np.float64(0.0)),\n",
       " (938, np.float64(0.0)),\n",
       " (940, np.float64(0.0)),\n",
       " (943, np.float64(0.0)),\n",
       " (944, np.float64(0.0)),\n",
       " (946, np.float64(0.0)),\n",
       " (947, np.float64(0.0)),\n",
       " (948, np.float64(0.0)),\n",
       " (949, np.float64(0.0)),\n",
       " (954, np.float64(0.0)),\n",
       " (958, np.float64(0.0)),\n",
       " (965, np.float64(0.0)),\n",
       " (966, np.float64(0.0)),\n",
       " (968, np.float64(0.0)),\n",
       " (970, np.float64(0.0)),\n",
       " (975, np.float64(0.0)),\n",
       " (976, np.float64(0.0)),\n",
       " (981, np.float64(0.0)),\n",
       " (984, np.float64(0.0)),\n",
       " (987, np.float64(0.0)),\n",
       " (988, np.float64(0.0)),\n",
       " (992, np.float64(0.0)),\n",
       " (997, np.float64(0.0)),\n",
       " (998, np.float64(0.0)),\n",
       " (999, np.float64(0.0))]"
      ]
     },
     "execution_count": 39,
     "metadata": {},
     "output_type": "execute_result"
    }
   ],
   "source": [
    "sorted(list(enumerate(similarity[0])), reverse=True, key=lambda x:x[1])"
   ]
  },
  {
   "cell_type": "markdown",
   "id": "8ca274aa",
   "metadata": {},
   "source": []
  },
  {
   "cell_type": "code",
   "execution_count": 40,
   "id": "a25d0690",
   "metadata": {},
   "outputs": [],
   "source": [
    "#lets create function when some give me movies we will find 5 similar movies\n",
    "def recommend(movie):\n",
    "    movie_index = new_df[new_df['title'] == movie].index[0]\n",
    "    distances = similarity[movie_index]\n",
    "    movies_list = sorted(list(enumerate(distances)), reverse=True, key=lambda x : x[1])[1:6]\n",
    "    \n",
    "    for i in movies_list:\n",
    "        print(new_df.iloc[i[0]].title)"
   ]
  },
  {
   "cell_type": "code",
   "execution_count": 41,
   "id": "14fbfd1f",
   "metadata": {},
   "outputs": [
    {
     "name": "stdout",
     "output_type": "stream",
     "text": [
      "Superman II\n",
      "Superman Returns\n",
      "Man of Steel\n",
      "Batman v Superman: Dawn of Justice\n",
      "Iron Man 2\n"
     ]
    }
   ],
   "source": [
    "recommend('Superman')"
   ]
  },
  {
   "cell_type": "code",
   "execution_count": 42,
   "id": "29886d9b",
   "metadata": {},
   "outputs": [],
   "source": [
    "import pickle\n",
    "pickle.dump(new_df, open('movies.pkl', 'wb'))"
   ]
  },
  {
   "cell_type": "code",
   "execution_count": 43,
   "id": "1dce733d",
   "metadata": {},
   "outputs": [],
   "source": [
    "import pickle\n",
    "pickle.dump(similarity, open('similarity.pkl', 'wb'))"
   ]
  },
  {
   "cell_type": "code",
   "execution_count": 44,
   "id": "d7cd8f82",
   "metadata": {},
   "outputs": [
    {
     "data": {
      "text/plain": [
       "array(['Avatar', \"Pirates of the Caribbean: At World's End\", 'Spectre',\n",
       "       'The Dark Knight Rises', 'John Carter', 'Spider-Man 3', 'Tangled',\n",
       "       'Avengers: Age of Ultron',\n",
       "       'Harry Potter and the Half-Blood Prince',\n",
       "       'Batman v Superman: Dawn of Justice', 'Superman Returns',\n",
       "       'Quantum of Solace', \"Pirates of the Caribbean: Dead Man's Chest\",\n",
       "       'The Lone Ranger', 'Man of Steel',\n",
       "       'The Chronicles of Narnia: Prince Caspian', 'The Avengers',\n",
       "       'Pirates of the Caribbean: On Stranger Tides', 'Men in Black 3',\n",
       "       'The Hobbit: The Battle of the Five Armies',\n",
       "       'The Amazing Spider-Man', 'Robin Hood',\n",
       "       'The Hobbit: The Desolation of Smaug', 'The Golden Compass',\n",
       "       'King Kong', 'Titanic', 'Captain America: Civil War', 'Battleship',\n",
       "       'Jurassic World', 'Skyfall', 'Spider-Man 2', 'Iron Man 3',\n",
       "       'Alice in Wonderland', 'X-Men: The Last Stand',\n",
       "       'Monsters University', 'Transformers: Revenge of the Fallen',\n",
       "       'Transformers: Age of Extinction', 'Oz: The Great and Powerful',\n",
       "       'The Amazing Spider-Man 2', 'TRON: Legacy', 'Cars 2',\n",
       "       'Green Lantern', 'Toy Story 3', 'Terminator Salvation',\n",
       "       'Furious 7', 'World War Z', 'X-Men: Days of Future Past',\n",
       "       'Star Trek Into Darkness', 'Jack the Giant Slayer',\n",
       "       'The Great Gatsby', 'Prince of Persia: The Sands of Time',\n",
       "       'Pacific Rim', 'Transformers: Dark of the Moon',\n",
       "       'Indiana Jones and the Kingdom of the Crystal Skull',\n",
       "       'The Good Dinosaur', 'Brave', 'Star Trek Beyond', 'WALL·E',\n",
       "       'Rush Hour 3', '2012', 'A Christmas Carol', 'Jupiter Ascending',\n",
       "       'The Legend of Tarzan',\n",
       "       'The Chronicles of Narnia: The Lion, the Witch and the Wardrobe',\n",
       "       'X-Men: Apocalypse', 'The Dark Knight', 'Up', 'Monsters vs Aliens',\n",
       "       'Iron Man', 'Hugo', 'Wild Wild West',\n",
       "       'The Mummy: Tomb of the Dragon Emperor', 'Suicide Squad',\n",
       "       'Evan Almighty', 'Edge of Tomorrow', 'Waterworld',\n",
       "       'G.I. Joe: The Rise of Cobra', 'Inside Out', 'The Jungle Book',\n",
       "       'Iron Man 2', 'Snow White and the Huntsman', 'Maleficent',\n",
       "       'Dawn of the Planet of the Apes', 'The Lovers', '47 Ronin',\n",
       "       'Captain America: The Winter Soldier', 'Shrek Forever After',\n",
       "       'Tomorrowland', 'Big Hero 6', 'Wreck-It Ralph',\n",
       "       'The Polar Express', 'Independence Day: Resurgence',\n",
       "       'How to Train Your Dragon', 'Terminator 3: Rise of the Machines',\n",
       "       'Guardians of the Galaxy', 'Interstellar', 'Inception',\n",
       "       'Shin Godzilla', 'The Hobbit: An Unexpected Journey',\n",
       "       'The Fast and the Furious', 'The Curious Case of Benjamin Button',\n",
       "       'X-Men: First Class', 'The Hunger Games: Mockingjay - Part 2',\n",
       "       \"The Sorcerer's Apprentice\", 'Poseidon',\n",
       "       'Alice Through the Looking Glass', 'Shrek the Third', 'Warcraft',\n",
       "       'Terminator Genisys',\n",
       "       'The Chronicles of Narnia: The Voyage of the Dawn Treader',\n",
       "       'Pearl Harbor', 'Transformers', 'Alexander',\n",
       "       'Harry Potter and the Order of the Phoenix',\n",
       "       'Harry Potter and the Goblet of Fire', 'Hancock', 'I Am Legend',\n",
       "       'Charlie and the Chocolate Factory', 'Ratatouille',\n",
       "       'Batman Begins', 'Madagascar: Escape 2 Africa',\n",
       "       'Night at the Museum: Battle of the Smithsonian',\n",
       "       'X-Men Origins: Wolverine', 'The Matrix Revolutions', 'Frozen',\n",
       "       'The Matrix Reloaded', 'Thor: The Dark World',\n",
       "       'Mad Max: Fury Road', 'Angels & Demons', 'Thor', 'Bolt', 'G-Force',\n",
       "       'Wrath of the Titans', 'Dark Shadows',\n",
       "       'Mission: Impossible - Rogue Nation', 'The Wolfman', 'Bee Movie',\n",
       "       'Kung Fu Panda 2', 'The Last Airbender', 'Mission: Impossible III',\n",
       "       'White House Down', 'Mars Needs Moms', 'Flushed Away', 'Pan',\n",
       "       'Mr. Peabody & Sherman', 'Troy',\n",
       "       \"Madagascar 3: Europe's Most Wanted\", 'Die Another Day',\n",
       "       'Ghostbusters', 'Armageddon', 'Men in Black II', 'Beowulf',\n",
       "       'Kung Fu Panda 3', 'Mission: Impossible - Ghost Protocol',\n",
       "       'Rise of the Guardians', 'Fun with Dick and Jane',\n",
       "       'The Last Samurai', 'Exodus: Gods and Kings', 'Star Trek',\n",
       "       'Spider-Man', 'How to Train Your Dragon 2', 'Gods of Egypt',\n",
       "       'Stealth', 'Watchmen', 'Lethal Weapon 4', 'Hulk',\n",
       "       'G.I. Joe: Retaliation', 'Sahara',\n",
       "       'Final Fantasy: The Spirits Within',\n",
       "       'Captain America: The First Avenger', 'The World Is Not Enough',\n",
       "       'Master and Commander: The Far Side of the World',\n",
       "       'The Twilight Saga: Breaking Dawn - Part 2', 'Happy Feet Two',\n",
       "       'The Incredible Hulk', 'The BFG', 'The Revenant', 'Turbo', 'Rango',\n",
       "       'Penguins of Madagascar', 'The Bourne Ultimatum', 'Kung Fu Panda',\n",
       "       'Ant-Man', 'The Hunger Games: Catching Fire', 'Home',\n",
       "       'War of the Worlds', 'Bad Boys II', 'Puss in Boots', 'Salt',\n",
       "       'Noah', 'The Adventures of Tintin',\n",
       "       'Harry Potter and the Prisoner of Azkaban', 'Australia',\n",
       "       'After Earth', 'Dinosaur',\n",
       "       'Night at the Museum: Secret of the Tomb', 'Megamind',\n",
       "       \"Harry Potter and the Philosopher's Stone\", 'R.I.P.D.',\n",
       "       'Pirates of the Caribbean: The Curse of the Black Pearl',\n",
       "       'The Hunger Games: Mockingjay - Part 1', 'The Da Vinci Code',\n",
       "       'Rio 2', 'X2', 'Fast Five', 'Sherlock Holmes: A Game of Shadows',\n",
       "       'Clash of the Titans', 'Total Recall', 'The 13th Warrior',\n",
       "       'The Bourne Legacy', 'Batman & Robin',\n",
       "       'How the Grinch Stole Christmas', 'The Day After Tomorrow',\n",
       "       'Mission: Impossible II', 'The Perfect Storm',\n",
       "       'Fantastic 4: Rise of the Silver Surfer', 'Life of Pi',\n",
       "       'Ghost Rider', 'Jason Bourne', \"Charlie's Angels: Full Throttle\",\n",
       "       'Prometheus', 'Stuart Little 2', 'Elysium',\n",
       "       'The Chronicles of Riddick', 'RoboCop', 'Speed Racer',\n",
       "       'How Do You Know', 'Knight and Day', 'Oblivion',\n",
       "       'Star Wars: Episode III - Revenge of the Sith',\n",
       "       'Star Wars: Episode II - Attack of the Clones', 'Monsters, Inc.',\n",
       "       'The Wolverine', 'Star Wars: Episode I - The Phantom Menace',\n",
       "       'The Croods', 'Asterix at the Olympic Games', 'Windtalkers',\n",
       "       \"The Huntsman: Winter's War\", 'Teenage Mutant Ninja Turtles',\n",
       "       'Gravity', \"Dante's Peak\",\n",
       "       'Teenage Mutant Ninja Turtles: Out of the Shadows',\n",
       "       'Fantastic Four', 'Night at the Museum', 'San Andreas',\n",
       "       'Tomorrow Never Dies', 'The Patriot', \"Ocean's Twelve\",\n",
       "       'Mr. & Mrs. Smith', 'Insurgent', 'The Aviator',\n",
       "       \"Gulliver's Travels\", 'The Green Hornet', '300: Rise of an Empire',\n",
       "       'The Smurfs', 'Home on the Range', 'Allegiant', 'Real Steel',\n",
       "       'The Smurfs 2', 'Speed 2: Cruise Control', \"Ender's Game\",\n",
       "       'Live Free or Die Hard',\n",
       "       'The Lord of the Rings: The Fellowship of the Ring',\n",
       "       'Around the World in 80 Days', 'Ali', 'The Cat in the Hat',\n",
       "       'I, Robot', 'Kingdom of Heaven', 'Stuart Little',\n",
       "       'The Princess and the Frog', 'The Martian', 'The Island',\n",
       "       'Town & Country', 'Gone in Sixty Seconds', 'Gladiator',\n",
       "       'Minority Report', 'Harry Potter and the Chamber of Secrets',\n",
       "       'Casino Royale', 'Planet of the Apes',\n",
       "       'Terminator 2: Judgment Day', 'Public Enemies',\n",
       "       'American Gangster', 'True Lies', 'The Taking of Pelham 1 2 3',\n",
       "       'Little Fockers', 'The Other Guys', 'Eraser', 'Django Unchained',\n",
       "       'The Hunchback of Notre Dame', \"The Emperor's New Groove\",\n",
       "       'The Expendables 2', 'National Treasure', 'Eragon',\n",
       "       'Where the Wild Things Are', 'Epic', 'The Tourist', 'End of Days',\n",
       "       'Blood Diamond', 'The Wolf of Wall Street', 'Batman Forever',\n",
       "       'Starship Troopers', 'Cloud Atlas',\n",
       "       \"Legend of the Guardians: The Owls of Ga'Hoole\", 'Catwoman',\n",
       "       'Hercules', 'Treasure Planet', 'Land of the Lost',\n",
       "       'The Expendables 3', 'Point Break', 'Son of the Mask',\n",
       "       'In the Heart of the Sea', 'The Adventures of Pluto Nash',\n",
       "       'Green Zone', 'The Peanuts Movie', 'The Spanish Prisoner',\n",
       "       'The Mummy Returns', 'Gangs of New York', 'The Flowers of War',\n",
       "       \"Surf's Up\", 'The Stepford Wives', 'Black Hawk Down',\n",
       "       'The Campaign', 'The Fifth Element', 'Sex and the City 2',\n",
       "       'The Road to El Dorado', 'Ice Age: Continental Drift',\n",
       "       'Cinderella', 'The Lovely Bones', 'Finding Nemo',\n",
       "       'The Lord of the Rings: The Return of the King',\n",
       "       'The Lord of the Rings: The Two Towers', 'Seventh Son',\n",
       "       'Lara Croft: Tomb Raider', 'Transcendence', 'Jurassic Park III',\n",
       "       'Rise of the Planet of the Apes', 'The Spiderwick Chronicles',\n",
       "       'A Good Day to Die Hard', 'The Alamo', 'The Incredibles',\n",
       "       'Cutthroat Island',\n",
       "       'Percy Jackson & the Olympians: The Lightning Thief',\n",
       "       'Men in Black', 'Toy Story 2', 'Unstoppable', 'Rush Hour 2',\n",
       "       'What Lies Beneath', 'Cloudy with a Chance of Meatballs',\n",
       "       'Ice Age: Dawn of the Dinosaurs',\n",
       "       'The Secret Life of Walter Mitty', \"Charlie's Angels\",\n",
       "       'The Departed', 'Mulan', 'Tropic Thunder',\n",
       "       'The Girl with the Dragon Tattoo', 'Die Hard: With a Vengeance',\n",
       "       'Sherlock Holmes', 'Ben-Hur', 'Atlantis: The Lost Empire',\n",
       "       'Alvin and the Chipmunks: The Road Chip', 'Valkyrie',\n",
       "       \"You Don't Mess with the Zohan\", 'Pixels',\n",
       "       'A.I. Artificial Intelligence', 'The Haunted Mansion', 'Contact',\n",
       "       'Hollow Man', 'The Interpreter', 'Percy Jackson: Sea of Monsters',\n",
       "       'Lara Croft Tomb Raider: The Cradle of Life', 'Now You See Me 2',\n",
       "       'The Saint', 'Spy Game', 'Mission to Mars', 'Rio',\n",
       "       'Bicentennial Man', 'Volcano', \"The Devil's Own\",\n",
       "       'K-19: The Widowmaker', 'Conan the Barbarian', 'Cinderella Man',\n",
       "       'The Nutcracker: The Untold Story', 'Seabiscuit', 'Twister',\n",
       "       'Cast Away', 'Happy Feet', 'The Bourne Supremacy', 'Air Force One',\n",
       "       \"Ocean's Eleven\", 'The Three Musketeers', 'Hotel Transylvania',\n",
       "       'Enchanted', 'Safe House', '102 Dalmatians', 'Tower Heist',\n",
       "       'The Holiday', 'Enemy of the State', \"It's Complicated\",\n",
       "       \"Ocean's Thirteen\", 'Open Season', 'Divergent',\n",
       "       'Enemy at the Gates', 'The Rundown', 'Last Action Hero',\n",
       "       'Memoirs of a Geisha', 'The Fast and the Furious: Tokyo Drift',\n",
       "       'Arthur Christmas', 'Meet Joe Black', 'Collateral Damage',\n",
       "       'All That Jazz', 'Mirror Mirror', 'Scott Pilgrim vs. the World',\n",
       "       'The Core', 'Nutty Professor II: The Klumps', 'Scooby-Doo',\n",
       "       'Dredd', 'Click', 'Creepshow',\n",
       "       'Cats & Dogs 2 : The Revenge of Kitty Galore', 'Jumper',\n",
       "       'Hellboy II: The Golden Army', 'Zodiac', 'The 6th Day',\n",
       "       'Bruce Almighty', 'The Expendables', 'Mission: Impossible',\n",
       "       'The Hunger Games', 'The Hangover Part II', 'Batman Returns',\n",
       "       'Over the Hedge', 'Lilo & Stitch', \"Charlotte's Web\",\n",
       "       'Deep Impact', 'RED 2', 'The Longest Yard',\n",
       "       'Alvin and the Chipmunks: Chipwrecked', 'Grown Ups 2', 'Get Smart',\n",
       "       \"Something's Gotta Give\", 'Shutter Island', 'Four Christmases',\n",
       "       'Robots', 'Face/Off', 'Bedtime Stories', 'Road to Perdition',\n",
       "       'Just Go with It', 'Con Air', 'Eagle Eye', 'Cold Mountain',\n",
       "       'The Book of Eli', 'Flubber', 'The Haunting', 'Space Jam',\n",
       "       'The Pink Panther', 'The Day the Earth Stood Still',\n",
       "       'Conspiracy Theory', 'Fury', 'Six Days Seven Nights', 'Yogi Bear',\n",
       "       'Spirit: Stallion of the Cimarron', 'Zookeeper', 'Lost in Space',\n",
       "       'The Manchurian Candidate', 'Déjà Vu', 'Hotel Transylvania 2',\n",
       "       'Fantasia 2000', 'The Time Machine', 'Mighty Joe Young',\n",
       "       'Swordfish', 'The Legend of Zorro', 'What Dreams May Come',\n",
       "       'Little Nicky', 'The Brothers Grimm', 'Mars Attacks!', 'Evolution',\n",
       "       'The Edge', 'Surrogates', 'Thirteen Days', 'Daylight',\n",
       "       'Walking With Dinosaurs', 'Battlefield Earth',\n",
       "       'Looney Tunes: Back in Action', 'Nine', 'Timeline', 'The Postman',\n",
       "       'Babe: Pig in the City', 'The Last Witch Hunter', 'Red Planet',\n",
       "       'Arthur and the Invisibles', 'Oceans', 'A Sound of Thunder',\n",
       "       'Pompeii', 'Top Cat Begins', 'A Beautiful Mind', 'The Lion King',\n",
       "       'Journey 2: The Mysterious Island',\n",
       "       'Cloudy with a Chance of Meatballs 2', 'Red Dragon', 'Hidalgo',\n",
       "       'Jack and Jill', '2 Fast 2 Furious', 'The Little Prince',\n",
       "       'The Invasion', 'The Adventures of Rocky & Bullwinkle',\n",
       "       'The Secret Life of Pets', 'The League of Extraordinary Gentlemen',\n",
       "       'Despicable Me 2', 'Independence Day',\n",
       "       'The Lost World: Jurassic Park', 'Madagascar', 'Children of Men',\n",
       "       'X-Men', 'Wanted', 'The Rock', 'Ice Age: The Meltdown',\n",
       "       '50 First Dates', 'Hairspray', 'Exorcist: The Beginning',\n",
       "       'Inspector Gadget', 'Now You See Me', 'Grown Ups', 'The Terminal',\n",
       "       'Hotel for Dogs', 'Vertical Limit', \"Charlie Wilson's War\",\n",
       "       'Shark Tale', 'Dreamgirls', 'Be Cool', 'Munich',\n",
       "       'Tears of the Sun', 'Killers', 'The Man from U.N.C.L.E.',\n",
       "       'Spanglish', 'Monster House', 'Bandits', 'First Knight',\n",
       "       'Anna and the King', 'Immortals', 'Hostage', 'Titan A.E.',\n",
       "       'Hollywood Homicide', 'Soldier', 'Carriers', 'Monkeybone',\n",
       "       'Flight of the Phoenix', 'Unbreakable', 'Minions', 'Sucker Punch',\n",
       "       'Snake Eyes', 'Sphere', 'The Angry Birds Movie', \"Fool's Gold\",\n",
       "       'Funny People', 'The Kingdom',\n",
       "       'Talladega Nights: The Ballad of Ricky Bobby', 'Dr. Dolittle 2',\n",
       "       'Braveheart', 'Jarhead', 'The Simpsons Movie', 'The Majestic',\n",
       "       'Driven', 'Two Brothers', 'The Village', 'Doctor Dolittle',\n",
       "       'Signs', 'Shrek 2', 'Cars', 'Runaway Bride', 'xXx',\n",
       "       'The SpongeBob Movie: Sponge Out of Water', 'Ransom',\n",
       "       'Inglourious Basterds', 'Hook', 'Die Hard 2', 'S.W.A.T.',\n",
       "       'Vanilla Sky', 'Lady in the Water', 'AVP: Alien vs. Predator',\n",
       "       'Alvin and the Chipmunks: The Squeakquel', 'We Were Soldiers',\n",
       "       'Olympus Has Fallen', 'Star Trek: Insurrection',\n",
       "       'Battle: Los Angeles', 'Big Fish', 'Wolf', 'War Horse',\n",
       "       'The Monuments Men', 'The Abyss',\n",
       "       'Wall Street: Money Never Sleeps', 'Dracula Untold', 'The Siege',\n",
       "       'Stardust', 'Seven Years in Tibet', 'The Dilemma', 'Bad Company',\n",
       "       'Doom', 'I Spy', 'Underworld: Awakening', 'Rock of Ages',\n",
       "       \"Hart's War\", 'Killer Elite', 'Rollerball',\n",
       "       'Ballistic: Ecks vs. Sever', 'Hard Rain', 'Osmosis Jones',\n",
       "       \"Legends of Oz: Dorothy's Return\", 'Blackhat',\n",
       "       'Sky Captain and the World of Tomorrow', 'Basic Instinct 2',\n",
       "       'Escape Plan', 'The Legend of Hercules', 'The Sum of All Fears',\n",
       "       'The Twilight Saga: Eclipse', 'The Score', 'Despicable Me',\n",
       "       'Money Train', 'Ted 2', 'Agora', 'Mystery Men', 'Hall Pass',\n",
       "       'The Insider', 'The Finest Hours', 'Body of Lies',\n",
       "       'Dinner for Schmucks', 'Abraham Lincoln: Vampire Hunter',\n",
       "       'Entrapment', 'The X Files', 'The Last Legion',\n",
       "       'Saving Private Ryan', 'Need for Speed', 'What Women Want',\n",
       "       'Ice Age', 'Dreamcatcher', 'Lincoln', 'The Matrix', 'Apollo 13',\n",
       "       'The Santa Clause 2', 'Les Misérables', \"You've Got Mail\",\n",
       "       'Step Brothers', 'The Mask of Zorro', 'Due Date', 'Unbroken',\n",
       "       'Space Cowboys', 'Cliffhanger', 'Broken Arrow', 'The Kid',\n",
       "       'World Trade Center', 'Mona Lisa Smile', 'The Dictator',\n",
       "       'Eyes Wide Shut', 'Annie', 'Focus', 'This Means War',\n",
       "       'Blade: Trinity', 'Red Dawn', 'Primary Colors',\n",
       "       'Resident Evil: Retribution', 'Death Race',\n",
       "       'The Long Kiss Goodnight', 'Proof of Life',\n",
       "       'Zathura: A Space Adventure', 'Fight Club', 'We Are Marshall',\n",
       "       'Hudson Hawk', 'Lucky Numbers', 'I, Frankenstein', 'Oliver Twist',\n",
       "       'Elektra', 'Sin City: A Dame to Kill For', 'Random Hearts',\n",
       "       'Everest', 'Perfume: The Story of a Murderer',\n",
       "       'Austin Powers in Goldmember', 'Astro Boy', 'Jurassic Park',\n",
       "       'Wyatt Earp', 'Clear and Present Danger', 'Dragon Blade',\n",
       "       'Little Man', 'U-571', 'The American President', 'The Love Guru',\n",
       "       '3000 Miles to Graceland', 'The Hateful Eight', 'Blades of Glory',\n",
       "       'Hop', '300', 'Meet the Fockers', 'Marley & Me', 'The Green Mile',\n",
       "       'Wild Hogs', 'Chicken Little', 'Gone Girl', 'The Bourne Identity',\n",
       "       'GoldenEye', \"The General's Daughter\", 'The Truman Show',\n",
       "       'The Prince of Egypt', 'Daddy Day Care', '2 Guns', 'Cats & Dogs',\n",
       "       'The Italian Job', 'Two Weeks Notice', 'Antz', 'Couples Retreat',\n",
       "       'Days of Thunder', 'Cheaper by the Dozen 2',\n",
       "       'Maze Runner: The Scorch Trials', 'Eat Pray Love',\n",
       "       'The Family Man', 'RED', 'Any Given Sunday', 'The Horse Whisperer',\n",
       "       'Collateral', 'The Scorpion King', 'Ladder 49', 'Jack Reacher',\n",
       "       'Deep Blue Sea', 'This Is It', 'Contagion', 'Kangaroo Jack',\n",
       "       'Coraline', 'The Happening', 'Man on Fire', 'The Shaggy Dog',\n",
       "       'Starsky & Hutch', 'Jingle All the Way', 'Hellboy',\n",
       "       'A Civil Action', 'ParaNorman', 'The Jackal', 'Paycheck',\n",
       "       'Up Close & Personal', 'The Tale of Despereaux', 'The Tuxedo',\n",
       "       'Under Siege 2: Dark Territory', 'Jack Ryan: Shadow Recruit',\n",
       "       'Joy', 'London Has Fallen', 'Alien: Resurrection', 'Shooter',\n",
       "       'The Boxtrolls', 'Practical Magic', 'The Lego Movie',\n",
       "       'Miss Congeniality 2: Armed and Fabulous', 'Reign of Fire',\n",
       "       'Gangster Squad', 'Year One', 'Invictus', 'State of Play',\n",
       "       'Duplicity', 'My Favorite Martian', 'The Sentinel', 'Planet 51',\n",
       "       'Star Trek: Nemesis', 'Intolerable Cruelty',\n",
       "       'Trouble with the Curve', 'Edge of Darkness', 'The Relic',\n",
       "       'Analyze That', 'Righteous Kill', 'Mercury Rising', 'The Soloist',\n",
       "       'The Legend of Bagger Vance', 'Almost Famous',\n",
       "       'Garfield: A Tail of Two Kitties', 'xXx: State of the Union',\n",
       "       'Priest', 'Sinbad: Legend of the Seven Seas', 'Event Horizon',\n",
       "       'Dragonfly', 'The Black Dahlia', 'Flyboys', 'The Last Castle',\n",
       "       'Supernova', \"Winter's Tale\",\n",
       "       'The Mortal Instruments: City of Bones', 'Meet Dave', 'Dark Water',\n",
       "       'Edtv', 'Inkheart', 'The Spirit', 'Mortdecai',\n",
       "       'In the Name of the King: A Dungeon Siege Tale', 'Beyond Borders',\n",
       "       'The Monkey King 2', 'The Great Raid', 'Deadpool', 'Holy Man',\n",
       "       'American Sniper', 'Goosebumps', 'Just Like Heaven',\n",
       "       'The Flintstones in Viva Rock Vegas', 'Rambo III', 'Leatherheads',\n",
       "       'The Ridiculous 6', 'Did You Hear About the Morgans?',\n",
       "       'The Internship', 'Resident Evil: Afterlife', 'Red Tails',\n",
       "       \"The Devil's Advocate\", \"That's My Boy\", 'DragonHeart',\n",
       "       'After the Sunset', 'Ghost Rider: Spirit of Vengeance',\n",
       "       \"Captain Corelli's Mandolin\", 'The Pacifier', 'Walking Tall',\n",
       "       'Forrest Gump', 'Alvin and the Chipmunks', 'Meet the Parents',\n",
       "       'Pocahontas', 'Superman', 'The Nutty Professor', 'Hitch',\n",
       "       'George of the Jungle', 'American Wedding', 'Captain Phillips',\n",
       "       'Date Night', 'Casper', 'The Equalizer', 'Maid in Manhattan',\n",
       "       'Crimson Tide', 'The Pursuit of Happyness', 'Flightplan',\n",
       "       'Disclosure', 'City of Angels', 'Kill Bill: Vol. 1', 'Bowfinger',\n",
       "       'Kill Bill: Vol. 2', 'Tango & Cash', 'Death Becomes Her',\n",
       "       'Shanghai Noon', 'Executive Decision', \"Mr. Popper's Penguins\",\n",
       "       'The Forbidden Kingdom', 'Free Birds', 'Alien³', 'Evita', 'Ronin',\n",
       "       'The Ghost and the Darkness', 'Paddington', 'The Watch',\n",
       "       'The Hunted', 'Instinct', 'Stuck on You', 'Semi-Pro',\n",
       "       'The Pirates! In an Adventure with Scientists!', 'Changeling',\n",
       "       'Chain Reaction', 'The Fan', 'The Phantom of the Opera',\n",
       "       'Elizabeth: The Golden Age', 'Æon Flux', 'Gods and Generals',\n",
       "       'Turbulence', 'Imagine That', 'Muppets Most Wanted',\n",
       "       'Thunderbirds', 'Burlesque', 'A Very Long Engagement', 'Lolita',\n",
       "       'D-Tox', 'Blade II', 'Seven Pounds', 'Bullet to the Head',\n",
       "       'The Godfather: Part III', 'Elizabethtown', 'You, Me and Dupree',\n",
       "       'Superman II', 'Gigli', \"All the King's Men\", 'Shaft', 'Anastasia',\n",
       "       'Moulin Rouge!', 'Domestic Disturbance', 'Black Mass',\n",
       "       'Flags of Our Fathers', 'Law Abiding Citizen', 'Grindhouse',\n",
       "       'Beloved', 'Lucky You', 'Catch Me If You Can', 'Zero Dark Thirty',\n",
       "       'The Break-Up', 'Mamma Mia!', \"Valentine's Day\",\n",
       "       'The Dukes of Hazzard', 'The Thin Red Line', 'The Change-Up',\n",
       "       'Man on the Moon', 'Casino', 'From Paris with Love',\n",
       "       'Bulletproof Monk', 'Me, Myself & Irene', 'Barnyard',\n",
       "       'Deck the Halls', 'The Twilight Saga: New Moon', 'Shrek',\n",
       "       'The Adjustment Bureau', 'Robin Hood: Prince of Thieves',\n",
       "       'Jerry Maguire', 'Ted', 'As Good as It Gets', 'Patch Adams',\n",
       "       'Anchorman 2: The Legend Continues', 'Mr. Deeds', 'Super 8',\n",
       "       'Erin Brockovich', 'How to Lose a Guy in 10 Days',\n",
       "       '22 Jump Street', 'Interview with the Vampire', 'Yes Man',\n",
       "       'Central Intelligence', 'Stepmom', \"Daddy's Home\",\n",
       "       'Into the Woods', 'Inside Man', 'Payback', 'Congo',\n",
       "       'We Bought a Zoo', 'Knowing', 'Failure to Launch', 'The Ring Two',\n",
       "       'Crazy, Stupid, Love.', 'Garfield', 'Christmas with the Kranks',\n",
       "       'Moneyball', 'Outbreak', 'Non-Stop', 'Race to Witch Mountain',\n",
       "       'V for Vendetta', 'Shanghai Knights', 'Curious George',\n",
       "       'Herbie Fully Loaded', \"Don't Say a Word\",\n",
       "       'Hansel & Gretel: Witch Hunters', 'Unfaithful', 'I Am Number Four',\n",
       "       'Syriana', '13 Hours: The Secret Soldiers of Benghazi',\n",
       "       'The Book of Life', 'Firewall', 'Absolute Power', 'G.I. Jane',\n",
       "       'The Game', 'Silent Hill', 'The Replacements', 'American Reunion',\n",
       "       'The Negotiator', 'Into the Storm', 'Beverly Hills Cop III',\n",
       "       'Gremlins 2: The New Batch', 'The Judge', 'The Peacemaker',\n",
       "       'Resident Evil: Apocalypse', 'Bridget Jones: The Edge of Reason',\n",
       "       'Out of Time', 'On Deadly Ground',\n",
       "       'The Adventures of Sharkboy and Lavagirl', 'The Beach',\n",
       "       'Raising Helen', 'Ninja Assassin', 'For Love of the Game',\n",
       "       'Striptease', 'Marmaduke', 'Hereafter', 'Murder by Numbers',\n",
       "       'Assassins', 'Hannibal Rising', 'The Story of Us', 'The Host',\n",
       "       'The Host', 'Basic', 'Blood Work', 'The International',\n",
       "       'Escape from L.A.', 'The Iron Giant',\n",
       "       'The Life Aquatic with Steve Zissou', 'Free State of Jones',\n",
       "       'The Life of David Gale', 'Man of the House', 'Run All Night',\n",
       "       'Eastern Promises', 'Into the Blue',\n",
       "       'The Messenger: The Story of Joan of Arc', 'Your Highness',\n",
       "       'Dream House', 'Mad City', \"Baby's Day Out\", 'The Scarlet Letter',\n",
       "       'Fair Game', 'Domino', 'Jade', 'Gamer', 'Beautiful Creatures',\n",
       "       'Death to Smoochy', 'Zoolander 2', 'The Big Bounce'], dtype=object)"
      ]
     },
     "execution_count": 44,
     "metadata": {},
     "output_type": "execute_result"
    }
   ],
   "source": [
    "#for get movies name\n",
    "new_df.title.values"
   ]
  },
  {
   "cell_type": "code",
   "execution_count": null,
   "id": "94a92df8",
   "metadata": {},
   "outputs": [],
   "source": []
  },
  {
   "cell_type": "code",
   "execution_count": null,
   "id": "a388859a",
   "metadata": {},
   "outputs": [],
   "source": []
  }
 ],
 "metadata": {
  "kernelspec": {
   "display_name": "Python 3",
   "language": "python",
   "name": "python3"
  },
  "language_info": {
   "codemirror_mode": {
    "name": "ipython",
    "version": 3
   },
   "file_extension": ".py",
   "mimetype": "text/x-python",
   "name": "python",
   "nbconvert_exporter": "python",
   "pygments_lexer": "ipython3",
   "version": "undefined.undefined.undefined"
  }
 },
 "nbformat": 4,
 "nbformat_minor": 5
}
